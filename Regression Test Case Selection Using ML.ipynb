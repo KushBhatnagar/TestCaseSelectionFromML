{
 "cells": [
  {
   "cell_type": "markdown",
   "metadata": {},
   "source": [
    "# Regression Test Case Selection Using Machine Learning"
   ]
  },
  {
   "cell_type": "markdown",
   "metadata": {},
   "source": [
    "# Introduction"
   ]
  },
  {
   "cell_type": "markdown",
   "metadata": {},
   "source": [
    "**Abstract** : \n",
    "\n",
    "Regression testing is the common task of retesting software that has been changed or extended by new features during software development and most of the time retesting the whole program is not feasible with reasonable time and cost, and to overcome only a subset of all test cases is executed for regression testing, e.g., by executing test cases according to test case prioritization.\n",
    "\n",
    "There are a vast amount of methods for test case selection exist but mostly it is a based on domain expertise of Test Engineers/Subject Matter Expert.As obvious, this manual process is time consuming, iterative and largely depends upon the engineer's skills which mean there are high chances of missing some relevant test cases."
   ]
  },
  {
   "cell_type": "markdown",
   "metadata": {},
   "source": [
    "**Propsed Solution** : \n",
    "\n",
    "In this Proof of Concept (POC), we will select test cases for manual regression testing with the help of Classification Learning Model.\n",
    "\n",
    "Our approach considers meta data related to test cases and Natural Language test case descriptions as an input to classification learning models to predict selection of test cases. \n",
    "\n",
    "Below image will summarize the proposed solution\n",
    "\n",
    "<img src=\"images/PropsedSolution.png\">"
   ]
  },
  {
   "cell_type": "markdown",
   "metadata": {},
   "source": [
    "# Data Collection and Preparation"
   ]
  },
  {
   "cell_type": "markdown",
   "metadata": {},
   "source": [
    "For POC we have considered microservices Test cases across four release cycles as our Test Data.\n",
    "\n",
    "This is an authorization microservice it is based on Oauth2 standard which is widely used in industry for authorization across systems/microservices. Refer this [link](https://oauth.net/about/introduction/) for more information on Oauth2\n",
    "\n",
    "\n",
    "Before going forward let's understand how currently test selection process is happening in HP Cloud Print Platform\n",
    "\n",
    "<img src=\"images/TCSelectionProcess.png\">\n",
    "\n",
    "                                              \n",
    "> **Release Manifest:** It is collection of versioned stuff that is being deployed, configuration settings, and issues/stories/artifacts description which are going to be deployed in particular release\n",
    "\n",
    "> **JIRA:** Agile Project Management and Bug Tracking Tool\n",
    "\n",
    "> **Service Functionality Mapping File:** Matrix which consists of mapping between Microservices and functionality , this will help users to understand impacted area when particular microservice getting affected\n",
    "\n",
    "> **Test Rail:** Test Management Tool\n",
    "\n",
    "Let's understand the process step by step\n",
    "\n",
    "**Step 1:** For every release Subject Matter Expert(**SME**) refer Release Manifest to understand which microservices are under test and details of the fixes/commits in that particular release \n",
    "\n",
    "**Step 2:** SME will take stories and Bug ID's from Release Manifest and navigate to JIRA to get more relevant details , also based on the domain knowledge SME will refer Service Functionality Mapping File to understand impacted functionality\n",
    "\n",
    "**Step 3:** Based on the information from JIRA ,SME will again refer Service Functionality Mapping File to get the list of impacted fucntionality\n",
    "\n",
    "**Step 4:** Based on the impacted functionality list from above two steps SME will now navigate to Test Rail to search relevant test cases\n",
    "\n",
    "**Step 5:** With the help of domain knowledge and data collected from above steps SME will select the list of test cases from Test Rail\n",
    "\n",
    "Let's take a quick look at test data which consists of regression test cases across four release cycles"
   ]
  },
  {
   "cell_type": "code",
   "execution_count": 205,
   "metadata": {},
   "outputs": [],
   "source": [
    "#importing required libraries \n",
    "import numpy as np\n",
    "import pandas as pd\n",
    "import matplotlib.pyplot as plt\n",
    "import plotly.graph_objects as go\n",
    "import plotly.express as px\n",
    "#Creating function to print in bold\n",
    "from IPython.display import Markdown, display\n",
    "def printmd(string):\n",
    "    display(Markdown(string))"
   ]
  },
  {
   "cell_type": "code",
   "execution_count": 206,
   "metadata": {},
   "outputs": [],
   "source": [
    "#Importing test case dump\n",
    "dataset=pd.read_csv(\"TestCases_TestData.csv\")"
   ]
  },
  {
   "cell_type": "code",
   "execution_count": 207,
   "metadata": {},
   "outputs": [
    {
     "data": {
      "text/plain": [
       "(664, 12)"
      ]
     },
     "execution_count": 207,
     "metadata": {},
     "output_type": "execute_result"
    }
   ],
   "source": [
    "#Checking the number of records and columns\n",
    "dataset.shape"
   ]
  },
  {
   "cell_type": "code",
   "execution_count": 208,
   "metadata": {
    "scrolled": true
   },
   "outputs": [
    {
     "data": {
      "text/html": [
       "<div>\n",
       "<style scoped>\n",
       "    .dataframe tbody tr th:only-of-type {\n",
       "        vertical-align: middle;\n",
       "    }\n",
       "\n",
       "    .dataframe tbody tr th {\n",
       "        vertical-align: top;\n",
       "    }\n",
       "\n",
       "    .dataframe thead th {\n",
       "        text-align: right;\n",
       "    }\n",
       "</style>\n",
       "<table border=\"1\" class=\"dataframe\">\n",
       "  <thead>\n",
       "    <tr style=\"text-align: right;\">\n",
       "      <th></th>\n",
       "      <th>Id</th>\n",
       "      <th>ReleaseID</th>\n",
       "      <th>Type of Test Case</th>\n",
       "      <th>TestCaseTitle</th>\n",
       "      <th>TestCaseDescription</th>\n",
       "      <th>Error Prone Test Cases</th>\n",
       "      <th>Automation Status</th>\n",
       "      <th>Any Defect</th>\n",
       "      <th>JIRA Bug ID</th>\n",
       "      <th>Bug Description</th>\n",
       "      <th>GIT Commit Message</th>\n",
       "      <th>Target</th>\n",
       "    </tr>\n",
       "  </thead>\n",
       "  <tbody>\n",
       "    <tr>\n",
       "      <th>0</th>\n",
       "      <td>1</td>\n",
       "      <td>R20.2.1</td>\n",
       "      <td>Sanity</td>\n",
       "      <td>Get the short and detailed health status APIs</td>\n",
       "      <td>When I call short health status API\\nThen Resp...</td>\n",
       "      <td>No</td>\n",
       "      <td>Yes</td>\n",
       "      <td>Yes</td>\n",
       "      <td>WPPX1-949</td>\n",
       "      <td>AMI Refresh for RAW services</td>\n",
       "      <td>Fix for WPPX1-946 AMI refresh</td>\n",
       "      <td>1</td>\n",
       "    </tr>\n",
       "    <tr>\n",
       "      <th>1</th>\n",
       "      <td>2</td>\n",
       "      <td>R20.2.1</td>\n",
       "      <td>Sanity</td>\n",
       "      <td>Get the AuthZ service metadata</td>\n",
       "      <td>When I call metadata data API\\nThen Response s...</td>\n",
       "      <td>No</td>\n",
       "      <td>Yes</td>\n",
       "      <td>Yes</td>\n",
       "      <td>WPPX1-949</td>\n",
       "      <td>AMI Refresh for RAW services</td>\n",
       "      <td>Fix for WPPX1-946 AMI refresh\\nOpenId Metadata...</td>\n",
       "      <td>1</td>\n",
       "    </tr>\n",
       "    <tr>\n",
       "      <th>2</th>\n",
       "      <td>3</td>\n",
       "      <td>R20.2.1</td>\n",
       "      <td>Sanity</td>\n",
       "      <td>Get the public keys for validating token</td>\n",
       "      <td>When I call GET Json web keys discovery API\\r\\...</td>\n",
       "      <td>No</td>\n",
       "      <td>Yes</td>\n",
       "      <td>Yes</td>\n",
       "      <td>WPPX1-949</td>\n",
       "      <td>AMI Refresh for RAW services</td>\n",
       "      <td>Fix for WPPX1-946 AMI refresh</td>\n",
       "      <td>1</td>\n",
       "    </tr>\n",
       "    <tr>\n",
       "      <th>3</th>\n",
       "      <td>4</td>\n",
       "      <td>R20.2.1</td>\n",
       "      <td>API/Functionality</td>\n",
       "      <td>Verify Client delegation API: Exchange Access ...</td>\n",
       "      <td>Given I have a valid access token generated ...</td>\n",
       "      <td>Yes</td>\n",
       "      <td>Yes</td>\n",
       "      <td>No</td>\n",
       "      <td>NaN</td>\n",
       "      <td>NaN</td>\n",
       "      <td>NaN</td>\n",
       "      <td>1</td>\n",
       "    </tr>\n",
       "    <tr>\n",
       "      <th>4</th>\n",
       "      <td>5</td>\n",
       "      <td>R20.2.1</td>\n",
       "      <td>API/Functionality</td>\n",
       "      <td>Verify Client delegation API:Exchange Access t...</td>\n",
       "      <td>Given I have a valid access token generated fr...</td>\n",
       "      <td>No</td>\n",
       "      <td>Yes</td>\n",
       "      <td>No</td>\n",
       "      <td>NaN</td>\n",
       "      <td>NaN</td>\n",
       "      <td>NaN</td>\n",
       "      <td>1</td>\n",
       "    </tr>\n",
       "  </tbody>\n",
       "</table>\n",
       "</div>"
      ],
      "text/plain": [
       "   Id ReleaseID  Type of Test Case  \\\n",
       "0   1   R20.2.1             Sanity   \n",
       "1   2   R20.2.1             Sanity   \n",
       "2   3   R20.2.1             Sanity   \n",
       "3   4   R20.2.1  API/Functionality   \n",
       "4   5   R20.2.1  API/Functionality   \n",
       "\n",
       "                                       TestCaseTitle  \\\n",
       "0      Get the short and detailed health status APIs   \n",
       "1                     Get the AuthZ service metadata   \n",
       "2           Get the public keys for validating token   \n",
       "3  Verify Client delegation API: Exchange Access ...   \n",
       "4  Verify Client delegation API:Exchange Access t...   \n",
       "\n",
       "                                 TestCaseDescription Error Prone Test Cases  \\\n",
       "0  When I call short health status API\\nThen Resp...                     No   \n",
       "1  When I call metadata data API\\nThen Response s...                     No   \n",
       "2  When I call GET Json web keys discovery API\\r\\...                     No   \n",
       "3    Given I have a valid access token generated ...                    Yes   \n",
       "4  Given I have a valid access token generated fr...                     No   \n",
       "\n",
       "  Automation Status Any Defect JIRA Bug ID               Bug Description  \\\n",
       "0               Yes        Yes   WPPX1-949  AMI Refresh for RAW services   \n",
       "1               Yes        Yes   WPPX1-949  AMI Refresh for RAW services   \n",
       "2               Yes        Yes   WPPX1-949  AMI Refresh for RAW services   \n",
       "3               Yes         No         NaN                           NaN   \n",
       "4               Yes         No         NaN                           NaN   \n",
       "\n",
       "                                  GIT Commit Message  Target  \n",
       "0                      Fix for WPPX1-946 AMI refresh       1  \n",
       "1  Fix for WPPX1-946 AMI refresh\\nOpenId Metadata...       1  \n",
       "2                      Fix for WPPX1-946 AMI refresh       1  \n",
       "3                                                NaN       1  \n",
       "4                                                NaN       1  "
      ]
     },
     "execution_count": 208,
     "metadata": {},
     "output_type": "execute_result"
    }
   ],
   "source": [
    "#Checking data set\n",
    "dataset.head()"
   ]
  },
  {
   "cell_type": "markdown",
   "metadata": {},
   "source": [
    "Let's understand the columns/features present in dataset\n",
    "\n",
    "<a>**ID**</a>: Unique Identifier of Records\n",
    "\n",
    "<a>**ReleaseID**</a> : Release Identification number , Ex: **R20.2.1** stands for 'First release of 2 month of Year 2020\n",
    "\n",
    "<a>**Type of Test Case**</a> : Cateogarization of Test cases , Ex: 'Sanity' test cases are supposed to be executed for Sanity of microservice and 'API/Functionality' test cases are for core functionality of microservice\n",
    "\n",
    "<a>**TestCaseTitle**</a> : Title or summary of test case\n",
    "    \n",
    "<a>**TestCaseDescription**</a> : Steps for a test cases in Behavior Driven Devlopment(BDD) format\n",
    "\n",
    "<a>**Error Prone Test Cases**</a> : Test cases which are covering high error prone area , these test cases must be executed in every release\n",
    "\n",
    "<a>**Automation Status**</a> : Wheather test case is automated or not\n",
    "\n",
    "<a>**Any Defect**</a> : If there is any defect in the release manifest then it will be mapped to the corresponding/relevant test cases and this column will be marked as 'Yes'\n",
    "\n",
    "<a>**JIRA Bug ID**</a> : Corresponding Bug ID of JIRA\n",
    "\n",
    "<a>**Bug Description**</a> : JIRA Title/description of corresponding bug\n",
    "\n",
    "<a>**GIT Commit Message**</a> : For particular release , if there are any commits in GIT then the corresponding/relevant test cases and this column will be marked with commit messages\n",
    "\n",
    "<a>**Target**</a> : Binary classification of Test Cases selection\n",
    "\n",
    "> **It's quite possible that in actual , SME/Test Engineer is not considering above features/columns for test cases selection. But we strongly believe that these features should be considered during test case selection as they are directly or indirectly impacting Release and Qualification Cycles**"
   ]
  },
  {
   "cell_type": "markdown",
   "metadata": {},
   "source": [
    "**Exploratory Data Analysis**:\n",
    "\n",
    "Let's explore these features one by one and it's impact on target variable , in other words let's try to understand how these features are related to selection of test cases. This analalysis will eventually help us in training our classifier model.\n",
    "\n",
    "\n",
    "Let's start with **Categorical Variables** ,will begin with **ReleaseID**.\n",
    "\n",
    "We will check that how test cases are selected across different releases"
   ]
  },
  {
   "cell_type": "code",
   "execution_count": 209,
   "metadata": {},
   "outputs": [
    {
     "data": {
      "text/plain": [
       "array(['R20.2.1', 'R20.1.2', 'R20.1.1', 'R19.12.1'], dtype=object)"
      ]
     },
     "execution_count": 209,
     "metadata": {},
     "output_type": "execute_result"
    }
   ],
   "source": [
    "#Getting unique value of releaseID column\n",
    "dataset['ReleaseID'].unique()"
   ]
  },
  {
   "cell_type": "code",
   "execution_count": 210,
   "metadata": {},
   "outputs": [
    {
     "data": {
      "text/plain": [
       "R20.1.1     166\n",
       "R19.12.1    166\n",
       "R20.2.1     166\n",
       "R20.1.2     166\n",
       "Name: ReleaseID, dtype: int64"
      ]
     },
     "execution_count": 210,
     "metadata": {},
     "output_type": "execute_result"
    }
   ],
   "source": [
    "#Getting unique count for each release\n",
    "dataset['ReleaseID'].value_counts()"
   ]
  },
  {
   "cell_type": "markdown",
   "metadata": {},
   "source": [
    "Test data comprise of four different releases and for each release there are equal number of test cases , but not all of them are selected for execution.\n",
    "\n",
    "Let's visualize that how many test cases selection is happening across release"
   ]
  },
  {
   "cell_type": "code",
   "execution_count": 211,
   "metadata": {},
   "outputs": [
    {
     "data": {
      "image/svg+xml": [
       "<svg class=\"main-svg\" xmlns=\"http://www.w3.org/2000/svg\" xmlns:xlink=\"http://www.w3.org/1999/xlink\" width=\"700\" height=\"450\" style=\"\" viewBox=\"0 0 700 450\"><rect x=\"0\" y=\"0\" width=\"700\" height=\"450\" style=\"fill: rgb(255, 255, 255); fill-opacity: 1;\"/><defs id=\"defs-03d411\"><g class=\"clips\"><clipPath id=\"clip03d411xyplot\" class=\"plotclip\"><rect width=\"308\" height=\"242\"/></clipPath><clipPath class=\"axesclip\" id=\"clip03d411x\"><rect x=\"80\" y=\"0\" width=\"308\" height=\"450\"/></clipPath><clipPath class=\"axesclip\" id=\"clip03d411y\"><rect x=\"0\" y=\"100\" width=\"700\" height=\"242\"/></clipPath><clipPath class=\"axesclip\" id=\"clip03d411xy\"><rect x=\"80\" y=\"100\" width=\"308\" height=\"242\"/></clipPath></g><g class=\"gradients\"/></defs><g class=\"bglayer\"><rect class=\"bg\" x=\"80\" y=\"100\" width=\"308\" height=\"242\" style=\"fill: rgb(229, 236, 246); fill-opacity: 1; stroke-width: 0;\"/></g><g class=\"layer-below\"><g class=\"imagelayer\"/><g class=\"shapelayer\"/></g><g class=\"cartesianlayer\"><g class=\"subplot xy\"><g class=\"layer-subplot\"><g class=\"shapelayer\"/><g class=\"imagelayer\"/></g><g class=\"gridlayer\"><g class=\"x\"/><g class=\"y\"><path class=\"ygrid crisp\" transform=\"translate(0,267.36)\" d=\"M80,0h308\" style=\"stroke: rgb(255, 255, 255); stroke-opacity: 1; stroke-width: 1px;\"/><path class=\"ygrid crisp\" transform=\"translate(0,192.70999999999998)\" d=\"M80,0h308\" style=\"stroke: rgb(255, 255, 255); stroke-opacity: 1; stroke-width: 1px;\"/><path class=\"ygrid crisp\" transform=\"translate(0,118.07)\" d=\"M80,0h308\" style=\"stroke: rgb(255, 255, 255); stroke-opacity: 1; stroke-width: 1px;\"/></g></g><g class=\"zerolinelayer\"><path class=\"yzl zl crisp\" transform=\"translate(0,342)\" d=\"M80,0h308\" style=\"stroke: rgb(255, 255, 255); stroke-opacity: 1; stroke-width: 2px;\"/></g><path class=\"xlines-below\"/><path class=\"ylines-below\"/><g class=\"overlines-below\"/><g class=\"xaxislayer-below\"/><g class=\"yaxislayer-below\"/><g class=\"overaxes-below\"/><g class=\"plot\" transform=\"translate(80, 100)\" clip-path=\"url('#clip03d411xyplot')\"><g class=\"barlayer mlayer\"><g class=\"trace bars\" style=\"opacity: 1;\"><g class=\"points\"><g class=\"point\"><path d=\"M7.7,242V153.92H38.5V242Z\" style=\"vector-effect: non-scaling-stroke; opacity: 1; stroke-width: 0.5px; fill: rgb(99, 110, 250); fill-opacity: 1; stroke: rgb(229, 236, 246); stroke-opacity: 1;\"/></g><g class=\"point\"><path d=\"M84.7,242V219.61H115.5V242Z\" style=\"vector-effect: non-scaling-stroke; opacity: 1; stroke-width: 0.5px; fill: rgb(99, 110, 250); fill-opacity: 1; stroke: rgb(229, 236, 246); stroke-opacity: 1;\"/></g><g class=\"point\"><path d=\"M161.7,242V150.94H192.5V242Z\" style=\"vector-effect: non-scaling-stroke; opacity: 1; stroke-width: 0.5px; fill: rgb(99, 110, 250); fill-opacity: 1; stroke: rgb(229, 236, 246); stroke-opacity: 1;\"/></g><g class=\"point\"><path d=\"M238.7,242V224.09H269.5V242Z\" style=\"vector-effect: non-scaling-stroke; opacity: 1; stroke-width: 0.5px; fill: rgb(99, 110, 250); fill-opacity: 1; stroke: rgb(229, 236, 246); stroke-opacity: 1;\"/></g></g></g><g class=\"trace bars\" style=\"opacity: 1;\"><g class=\"points\"><g class=\"point\"><path d=\"M38.5,242V82.26H69.3V242Z\" style=\"vector-effect: non-scaling-stroke; opacity: 1; stroke-width: 0.5px; fill: rgb(239, 85, 59); fill-opacity: 1; stroke: rgb(229, 236, 246); stroke-opacity: 1;\"/></g><g class=\"point\"><path d=\"M115.5,242V16.58H146.3V242Z\" style=\"vector-effect: non-scaling-stroke; opacity: 1; stroke-width: 0.5px; fill: rgb(239, 85, 59); fill-opacity: 1; stroke: rgb(229, 236, 246); stroke-opacity: 1;\"/></g><g class=\"point\"><path d=\"M192.5,242V85.25H223.3V242Z\" style=\"vector-effect: non-scaling-stroke; opacity: 1; stroke-width: 0.5px; fill: rgb(239, 85, 59); fill-opacity: 1; stroke: rgb(229, 236, 246); stroke-opacity: 1;\"/></g><g class=\"point\"><path d=\"M269.5,242V12.1H300.3V242Z\" style=\"vector-effect: non-scaling-stroke; opacity: 1; stroke-width: 0.5px; fill: rgb(239, 85, 59); fill-opacity: 1; stroke: rgb(229, 236, 246); stroke-opacity: 1;\"/></g></g></g></g></g><g class=\"overplot\"/><path class=\"xlines-above crisp\" d=\"M0,0\" style=\"fill: none;\"/><path class=\"ylines-above crisp\" d=\"M0,0\" style=\"fill: none;\"/><g class=\"overlines-above\"/><g class=\"xaxislayer-above\"><g class=\"xtick\"><text text-anchor=\"start\" x=\"0\" y=\"361\" transform=\"translate(118.5,0) rotate(30,0,352)\" style=\"font-family: 'Courier New', monospace; font-size: 18px; fill: rgb(42, 63, 95); fill-opacity: 1; white-space: pre;\">R20.2.1</text></g><g class=\"xtick\"><text text-anchor=\"start\" x=\"0\" y=\"361\" transform=\"translate(195.5,0) rotate(30,0,352)\" style=\"font-family: 'Courier New', monospace; font-size: 18px; fill: rgb(42, 63, 95); fill-opacity: 1; white-space: pre;\">R20.1.2</text></g><g class=\"xtick\"><text text-anchor=\"start\" x=\"0\" y=\"361\" transform=\"translate(272.5,0) rotate(30,0,352)\" style=\"font-family: 'Courier New', monospace; font-size: 18px; fill: rgb(42, 63, 95); fill-opacity: 1; white-space: pre;\">R20.1.1</text></g><g class=\"xtick\"><text text-anchor=\"start\" x=\"0\" y=\"361\" transform=\"translate(349.5,0) rotate(30,0,352)\" style=\"font-family: 'Courier New', monospace; font-size: 18px; fill: rgb(42, 63, 95); fill-opacity: 1; white-space: pre;\">R19.12.1</text></g></g><g class=\"yaxislayer-above\"><g class=\"ytick\"><text text-anchor=\"end\" x=\"79\" y=\"6.3\" transform=\"translate(0,342)\" style=\"font-family: 'Courier New', monospace; font-size: 18px; fill: rgb(42, 63, 95); fill-opacity: 1; white-space: pre;\">0</text></g><g class=\"ytick\"><text text-anchor=\"end\" x=\"79\" y=\"6.3\" transform=\"translate(0,267.36)\" style=\"font-family: 'Courier New', monospace; font-size: 18px; fill: rgb(42, 63, 95); fill-opacity: 1; white-space: pre;\">50</text></g><g class=\"ytick\"><text text-anchor=\"end\" x=\"79\" y=\"6.3\" transform=\"translate(0,192.70999999999998)\" style=\"font-family: 'Courier New', monospace; font-size: 18px; fill: rgb(42, 63, 95); fill-opacity: 1; white-space: pre;\">100</text></g><g class=\"ytick\"><text text-anchor=\"end\" x=\"79\" y=\"6.3\" transform=\"translate(0,118.07)\" style=\"font-family: 'Courier New', monospace; font-size: 18px; fill: rgb(42, 63, 95); fill-opacity: 1; white-space: pre;\">150</text></g></g><g class=\"overaxes-above\"/></g></g><g class=\"polarlayer\"/><g class=\"ternarylayer\"/><g class=\"geolayer\"/><g class=\"funnelarealayer\"/><g class=\"pielayer\"/><g class=\"treemaplayer\"/><g class=\"sunburstlayer\"/><g class=\"glimages\"/><defs id=\"topdefs-03d411\"><g class=\"clips\"/><clipPath id=\"legend03d411\"><rect width=\"294\" height=\"63\" x=\"0\" y=\"0\"/></clipPath></defs><g class=\"layer-above\"><g class=\"imagelayer\"/><g class=\"shapelayer\"/></g><g class=\"infolayer\"><g class=\"legend\" pointer-events=\"all\" transform=\"translate(394.16, 100)\"><rect class=\"bg\" shape-rendering=\"crispEdges\" width=\"294\" height=\"63\" x=\"0\" y=\"0\" style=\"stroke: rgb(68, 68, 68); stroke-opacity: 1; fill: rgb(255, 255, 255); fill-opacity: 1; stroke-width: 0px;\"/><g class=\"scrollbox\" transform=\"translate(0, 0)\" clip-path=\"url('#legend03d411')\"><g class=\"groups\"><g class=\"traces\" transform=\"translate(0, 18.200000000000003)\" style=\"opacity: 1;\"><text class=\"legendtext user-select-none\" text-anchor=\"start\" x=\"40\" y=\"7.0200000000000005\" style=\"font-family: 'Courier New', monospace; font-size: 18px; fill: rgb(42, 63, 95); fill-opacity: 1; white-space: pre;\">Selected Test Cases</text><g class=\"layers\" style=\"opacity: 1;\"><g class=\"legendfill\"/><g class=\"legendlines\"/><g class=\"legendsymbols\"><g class=\"legendpoints\"><path class=\"legendundefined\" d=\"M6,6H-6V-6H6Z\" transform=\"translate(20,0)\" style=\"stroke-width: 0.5px; fill: rgb(99, 110, 250); fill-opacity: 1; stroke: rgb(229, 236, 246); stroke-opacity: 1;\"/></g></g></g><rect class=\"legendtoggle\" pointer-events=\"all\" x=\"0\" y=\"-13.200000000000001\" width=\"288.453125\" height=\"26.400000000000002\" style=\"cursor: pointer; fill: rgb(0, 0, 0); fill-opacity: 0;\"/></g><g class=\"traces\" transform=\"translate(0, 44.6)\" style=\"opacity: 1;\"><text class=\"legendtext user-select-none\" text-anchor=\"start\" x=\"40\" y=\"7.0200000000000005\" style=\"font-family: 'Courier New', monospace; font-size: 18px; fill: rgb(42, 63, 95); fill-opacity: 1; white-space: pre;\">Not Selected Test Cases</text><g class=\"layers\" style=\"opacity: 1;\"><g class=\"legendfill\"/><g class=\"legendlines\"/><g class=\"legendsymbols\"><g class=\"legendpoints\"><path class=\"legendundefined\" d=\"M6,6H-6V-6H6Z\" transform=\"translate(20,0)\" style=\"stroke-width: 0.5px; fill: rgb(239, 85, 59); fill-opacity: 1; stroke: rgb(229, 236, 246); stroke-opacity: 1;\"/></g></g></g><rect class=\"legendtoggle\" pointer-events=\"all\" x=\"0\" y=\"-13.200000000000001\" width=\"288.453125\" height=\"26.400000000000002\" style=\"cursor: pointer; fill: rgb(0, 0, 0); fill-opacity: 0;\"/></g></g></g><rect class=\"scrollbar\" rx=\"20\" ry=\"3\" width=\"0\" height=\"0\" x=\"0\" y=\"0\" style=\"fill: rgb(128, 139, 164); fill-opacity: 1;\"/></g><g class=\"g-gtitle\"><text class=\"gtitle\" x=\"35\" y=\"50\" text-anchor=\"start\" dy=\"0em\" style=\"font-family: 'Courier New', monospace; font-size: 25px; fill: rgb(42, 63, 95); opacity: 1; font-weight: normal; white-space: pre;\">Release Wise Test Case Selection</text></g><g class=\"g-xtitle\"><text class=\"xtitle\" x=\"234\" y=\"437.7349609375\" text-anchor=\"middle\" style=\"font-family: 'Courier New', monospace; font-size: 22px; fill: rgb(42, 63, 95); opacity: 1; font-weight: normal; white-space: pre;\">Releases</text></g><g class=\"g-ytitle\" transform=\"translate(1.806640625,0)\"><text class=\"ytitle\" transform=\"rotate(-90,16.19375,221)\" x=\"16.19375\" y=\"221\" text-anchor=\"middle\" style=\"font-family: 'Courier New', monospace; font-size: 22px; fill: rgb(42, 63, 95); opacity: 1; font-weight: normal; white-space: pre;\">Number of Test Cases</text></g></g></svg>"
      ]
     },
     "metadata": {},
     "output_type": "display_data"
    }
   ],
   "source": [
    "#Creating Dictonary for Release ID and selected and not selected test cases\n",
    "selectedTCRelease_dict={'R20.2.1':(len(dataset[(dataset['ReleaseID'] == 'R20.2.1') & (dataset['Target'] == 1)].index)),\n",
    "                        'R20.1.2':(len(dataset[(dataset['ReleaseID'] == 'R20.1.2') & (dataset['Target'] == 1)].index)),\n",
    "                        'R20.1.1':(len(dataset[(dataset['ReleaseID'] == 'R20.1.1') & (dataset['Target'] == 1)].index)),\n",
    "                        'R19.12.1':(len(dataset[(dataset['ReleaseID'] == 'R19.12.1') & (dataset['Target'] == 1)].index))}\n",
    "nonselectedTCRelease_dict={'R20.2.1':(len(dataset[(dataset['ReleaseID'] == 'R20.2.1') & (dataset['Target'] == 0)].index)),\n",
    "                           'R20.1.2':(len(dataset[(dataset['ReleaseID'] == 'R20.1.2') & (dataset['Target'] == 0)].index)),\n",
    "                           'R20.1.1':(len(dataset[(dataset['ReleaseID'] == 'R20.1.1') & (dataset['Target'] == 0)].index)),\n",
    "                           'R19.12.1':(len(dataset[(dataset['ReleaseID'] == 'R19.12.1') & (dataset['Target'] == 0)].index))}\n",
    "\n",
    "#Converting Data Dictonary to series\n",
    "selectedTCRelease_series=pd.Series(selectedTCRelease_dict)\n",
    "nonselectedTCRelease_series=pd.Series(nonselectedTCRelease_dict)\n",
    "\n",
    "#Visualizing selecting test cases per Release\n",
    "fig = go.Figure(data=[\n",
    "    go.Bar(name='Selected Test Cases', x=selectedTCRelease_series.index, y=selectedTCRelease_series.values),\n",
    "    go.Bar(name='Not Selected Test Cases',  x=nonselectedTCRelease_series.index, y=nonselectedTCRelease_series.values)\n",
    "])\n",
    "# Change the bar mode\n",
    "fig.update_layout(\n",
    "    title=\"Release Wise Test Case Selection\",\n",
    "    xaxis_title=\"Releases\",\n",
    "    yaxis_title=\"Number of Test Cases\",\n",
    "    barmode='group',\n",
    "    font=dict(\n",
    "        family=\"Courier New, monospace\",\n",
    "        size=18,\n",
    "    )\n",
    ")\n",
    "fig.update_layout()\n",
    "fig.show(\"svg\")"
   ]
  },
  {
   "cell_type": "markdown",
   "metadata": {},
   "source": [
    "It's evident that selection of test cases is not uniform across the release and which is obvious , but we need to identify that what are the fetaures which play role in test case selection.\n",
    "\n",
    "Let's see how defects are mapped across releases"
   ]
  },
  {
   "cell_type": "code",
   "execution_count": 212,
   "metadata": {},
   "outputs": [
    {
     "data": {
      "image/svg+xml": [
       "<svg class=\"main-svg\" xmlns=\"http://www.w3.org/2000/svg\" xmlns:xlink=\"http://www.w3.org/1999/xlink\" width=\"700\" height=\"450\" style=\"\" viewBox=\"0 0 700 450\"><rect x=\"0\" y=\"0\" width=\"700\" height=\"450\" style=\"fill: rgb(255, 255, 255); fill-opacity: 1;\"/><defs id=\"defs-48906a\"><g class=\"clips\"><clipPath id=\"clip48906axyplot\" class=\"plotclip\"><rect width=\"490\" height=\"310\"/></clipPath><clipPath class=\"axesclip\" id=\"clip48906ax\"><rect x=\"130\" y=\"0\" width=\"490\" height=\"450\"/></clipPath><clipPath class=\"axesclip\" id=\"clip48906ay\"><rect x=\"0\" y=\"60\" width=\"700\" height=\"310\"/></clipPath><clipPath class=\"axesclip\" id=\"clip48906axy\"><rect x=\"130\" y=\"60\" width=\"490\" height=\"310\"/></clipPath></g><g class=\"gradients\"/></defs><g class=\"bglayer\"><rect class=\"bg\" x=\"130\" y=\"60\" width=\"490\" height=\"310\" style=\"fill: rgb(229, 236, 246); fill-opacity: 1; stroke-width: 0;\"/></g><g class=\"layer-below\"><g class=\"imagelayer\"/><g class=\"shapelayer\"/></g><g class=\"cartesianlayer\"><g class=\"subplot xy\"><g class=\"layer-subplot\"><g class=\"shapelayer\"/><g class=\"imagelayer\"/></g><g class=\"gridlayer\"><g class=\"x\"><path class=\"xgrid crisp\" transform=\"translate(259.31,0)\" d=\"M0,60v310\" style=\"stroke: rgb(255, 255, 255); stroke-opacity: 1; stroke-width: 1px;\"/><path class=\"xgrid crisp\" transform=\"translate(388.61,0)\" d=\"M0,60v310\" style=\"stroke: rgb(255, 255, 255); stroke-opacity: 1; stroke-width: 1px;\"/><path class=\"xgrid crisp\" transform=\"translate(517.9200000000001,0)\" d=\"M0,60v310\" style=\"stroke: rgb(255, 255, 255); stroke-opacity: 1; stroke-width: 1px;\"/></g><g class=\"y\"/></g><g class=\"zerolinelayer\"><path class=\"xzl zl crisp\" transform=\"translate(130,0)\" d=\"M0,60v310\" style=\"stroke: rgb(255, 255, 255); stroke-opacity: 1; stroke-width: 2px;\"/></g><path class=\"xlines-below\"/><path class=\"ylines-below\"/><g class=\"overlines-below\"/><g class=\"xaxislayer-below\"/><g class=\"yaxislayer-below\"/><g class=\"overaxes-below\"/><g class=\"plot\" transform=\"translate(130, 60)\" clip-path=\"url('#clip48906axyplot')\"><g class=\"barlayer mlayer\"><g class=\"trace bars\" style=\"opacity: 1;\"><g class=\"points\"><g class=\"point\"><path d=\"M0,302.25V240.25H77.58V302.25Z\" style=\"vector-effect: non-scaling-stroke; opacity: 1; stroke-width: 0.5px; fill: rgb(99, 110, 250); fill-opacity: 1; stroke: rgb(229, 236, 246); stroke-opacity: 1;\"/></g><g class=\"point\"><path d=\"M0,224.75V162.75H0V224.75Z\" style=\"vector-effect: non-scaling-stroke; opacity: 1; stroke-width: 0.5px; fill: rgb(99, 110, 250); fill-opacity: 1; stroke: rgb(229, 236, 246); stroke-opacity: 1;\"/></g><g class=\"point\"><path d=\"M0,147.25V85.25H465.5V147.25Z\" style=\"vector-effect: non-scaling-stroke; opacity: 1; stroke-width: 0.5px; fill: rgb(99, 110, 250); fill-opacity: 1; stroke: rgb(229, 236, 246); stroke-opacity: 1;\"/></g><g class=\"point\"><path d=\"M0,69.75V7.75H0V69.75Z\" style=\"vector-effect: non-scaling-stroke; opacity: 1; stroke-width: 0.5px; fill: rgb(99, 110, 250); fill-opacity: 1; stroke: rgb(229, 236, 246); stroke-opacity: 1;\"/></g></g></g></g></g><g class=\"overplot\"/><path class=\"xlines-above crisp\" d=\"M0,0\" style=\"fill: none;\"/><path class=\"ylines-above crisp\" d=\"M0,0\" style=\"fill: none;\"/><g class=\"overlines-above\"/><g class=\"xaxislayer-above\"><g class=\"xtick\"><text text-anchor=\"middle\" x=\"0\" y=\"389\" transform=\"translate(130,0)\" style=\"font-family: 'Courier New', monospace; font-size: 18px; fill: rgb(42, 63, 95); fill-opacity: 1; white-space: pre;\">0</text></g><g class=\"xtick\"><text text-anchor=\"middle\" x=\"0\" y=\"389\" transform=\"translate(259.31,0)\" style=\"font-family: 'Courier New', monospace; font-size: 18px; fill: rgb(42, 63, 95); fill-opacity: 1; white-space: pre;\">5</text></g><g class=\"xtick\"><text text-anchor=\"middle\" x=\"0\" y=\"389\" transform=\"translate(388.61,0)\" style=\"font-family: 'Courier New', monospace; font-size: 18px; fill: rgb(42, 63, 95); fill-opacity: 1; white-space: pre;\">10</text></g><g class=\"xtick\"><text text-anchor=\"middle\" x=\"0\" y=\"389\" transform=\"translate(517.9200000000001,0)\" style=\"font-family: 'Courier New', monospace; font-size: 18px; fill: rgb(42, 63, 95); fill-opacity: 1; white-space: pre;\">15</text></g></g><g class=\"yaxislayer-above\"><g class=\"ytick\"><text text-anchor=\"end\" x=\"129\" y=\"6.3\" transform=\"translate(0,331.25)\" style=\"font-family: 'Courier New', monospace; font-size: 18px; fill: rgb(42, 63, 95); fill-opacity: 1; white-space: pre;\">R20.2.1</text></g><g class=\"ytick\"><text text-anchor=\"end\" x=\"129\" y=\"6.3\" transform=\"translate(0,253.75)\" style=\"font-family: 'Courier New', monospace; font-size: 18px; fill: rgb(42, 63, 95); fill-opacity: 1; white-space: pre;\">R20.1.2</text></g><g class=\"ytick\"><text text-anchor=\"end\" x=\"129\" y=\"6.3\" transform=\"translate(0,176.25)\" style=\"font-family: 'Courier New', monospace; font-size: 18px; fill: rgb(42, 63, 95); fill-opacity: 1; white-space: pre;\">R20.1.1</text></g><g class=\"ytick\"><text text-anchor=\"end\" x=\"129\" y=\"6.3\" transform=\"translate(0,98.75)\" style=\"font-family: 'Courier New', monospace; font-size: 18px; fill: rgb(42, 63, 95); fill-opacity: 1; white-space: pre;\">R19.12.1</text></g></g><g class=\"overaxes-above\"/></g></g><g class=\"polarlayer\"/><g class=\"ternarylayer\"/><g class=\"geolayer\"/><g class=\"funnelarealayer\"/><g class=\"pielayer\"/><g class=\"treemaplayer\"/><g class=\"sunburstlayer\"/><g class=\"glimages\"/><defs id=\"topdefs-48906a\"><g class=\"clips\"/></defs><g class=\"layer-above\"><g class=\"imagelayer\"/><g class=\"shapelayer\"/></g><g class=\"infolayer\"><g class=\"g-gtitle\"><text class=\"gtitle\" x=\"35\" y=\"30\" text-anchor=\"start\" dy=\"0em\" style=\"font-family: 'Courier New', monospace; font-size: 25px; fill: rgb(42, 63, 95); opacity: 1; font-weight: normal; white-space: pre;\">Number of Bugs Per Releases</text></g><g class=\"g-xtitle\"><text class=\"xtitle\" x=\"375\" y=\"424.4\" text-anchor=\"middle\" style=\"font-family: 'Courier New', monospace; font-size: 22px; fill: rgb(42, 63, 95); opacity: 1; font-weight: normal; white-space: pre;\">Number of Bugs</text></g><g class=\"g-ytitle\" transform=\"translate(5.822265625,0)\"><text class=\"ytitle\" transform=\"rotate(-90,12.178124999999994,215)\" x=\"12.178124999999994\" y=\"215\" text-anchor=\"middle\" style=\"font-family: 'Courier New', monospace; font-size: 22px; fill: rgb(42, 63, 95); opacity: 1; font-weight: normal; white-space: pre;\">Releases</text></g></g></svg>"
      ]
     },
     "metadata": {},
     "output_type": "display_data"
    }
   ],
   "source": [
    "#Creating Dictonary for Release ID and bugs in that particular Release\n",
    "bugsInrelease_dict={'R20.2.1':(len(dataset[(dataset['ReleaseID'] == 'R20.2.1') & (dataset['Any Defect'] == 'Yes')].index)),\n",
    "                        'R20.1.2':(len(dataset[(dataset['ReleaseID'] == 'R20.1.2') & (dataset['Any Defect'] == 'Yes')].index)),\n",
    "                        'R20.1.1':(len(dataset[(dataset['ReleaseID'] == 'R20.1.1') & (dataset['Any Defect'] == 'Yes')].index)),\n",
    "                        'R19.12.1':(len(dataset[(dataset['ReleaseID'] == 'R19.12.1') & (dataset['Any Defect'] == 'Yes')].index))}\n",
    "#Converting Data Dictionary into Series\n",
    "bugsInrelease_series=pd.Series(bugsInrelease_dict)\n",
    "#Visualizing Bugs per releases\n",
    "fig = px.bar(bugsInrelease_series, x=bugsInrelease_series.values, y=bugsInrelease_series.index,orientation='h')\n",
    "# Change the bar mode\n",
    "fig.update_layout(\n",
    "    title=\"Number of Bugs Per Releases\",\n",
    "    xaxis_title=\"Number of Bugs\",\n",
    "    yaxis_title=\"Releases\",   \n",
    "    font=dict(\n",
    "        family=\"Courier New, monospace\",\n",
    "        size=18,\n",
    "    )\n",
    ")\n",
    "fig.update_layout()\n",
    "fig.show(\"svg\")\n"
   ]
  },
  {
   "cell_type": "markdown",
   "metadata": {},
   "source": [
    "In R20.1.1 release there are **18** bugs and in R20.2.1 release there are **3** bugs , from the previous graph we can say that maximum number of selected test cases are in these two releases only . \n",
    "\n",
    "With this analysis we can say that **Any Defect** feature is playing role in selection of test case.\n",
    "\n",
    "Now let's start exploring column **Error Prone Test Cases** "
   ]
  },
  {
   "cell_type": "code",
   "execution_count": 213,
   "metadata": {
    "scrolled": true
   },
   "outputs": [
    {
     "data": {
      "image/svg+xml": [
       "<svg class=\"main-svg\" xmlns=\"http://www.w3.org/2000/svg\" xmlns:xlink=\"http://www.w3.org/1999/xlink\" width=\"700\" height=\"450\" style=\"\" viewBox=\"0 0 700 450\"><rect x=\"0\" y=\"0\" width=\"700\" height=\"450\" style=\"fill: rgb(255, 255, 255); fill-opacity: 1;\"/><defs id=\"defs-f5d52f\"><g class=\"clips\"><clipPath id=\"clipf5d52fxyplot\" class=\"plotclip\"><rect width=\"490\" height=\"310\"/></clipPath><clipPath class=\"axesclip\" id=\"clipf5d52fx\"><rect x=\"130\" y=\"0\" width=\"490\" height=\"450\"/></clipPath><clipPath class=\"axesclip\" id=\"clipf5d52fy\"><rect x=\"0\" y=\"60\" width=\"700\" height=\"310\"/></clipPath><clipPath class=\"axesclip\" id=\"clipf5d52fxy\"><rect x=\"130\" y=\"60\" width=\"490\" height=\"310\"/></clipPath></g><g class=\"gradients\"/></defs><g class=\"bglayer\"><rect class=\"bg\" x=\"130\" y=\"60\" width=\"490\" height=\"310\" style=\"fill: rgb(229, 236, 246); fill-opacity: 1; stroke-width: 0;\"/></g><g class=\"layer-below\"><g class=\"imagelayer\"/><g class=\"shapelayer\"/></g><g class=\"cartesianlayer\"><g class=\"subplot xy\"><g class=\"layer-subplot\"><g class=\"shapelayer\"/><g class=\"imagelayer\"/></g><g class=\"gridlayer\"><g class=\"x\"><path class=\"xgrid crisp\" transform=\"translate(252.5,0)\" d=\"M0,60v310\" style=\"stroke: rgb(255, 255, 255); stroke-opacity: 1; stroke-width: 1px;\"/><path class=\"xgrid crisp\" transform=\"translate(375,0)\" d=\"M0,60v310\" style=\"stroke: rgb(255, 255, 255); stroke-opacity: 1; stroke-width: 1px;\"/><path class=\"xgrid crisp\" transform=\"translate(497.5,0)\" d=\"M0,60v310\" style=\"stroke: rgb(255, 255, 255); stroke-opacity: 1; stroke-width: 1px;\"/></g><g class=\"y\"><path class=\"ygrid crisp\" transform=\"translate(0,350.75)\" d=\"M130,0h490\" style=\"stroke: rgb(255, 255, 255); stroke-opacity: 1; stroke-width: 1px;\"/><path class=\"ygrid crisp\" transform=\"translate(0,260.25)\" d=\"M130,0h490\" style=\"stroke: rgb(255, 255, 255); stroke-opacity: 1; stroke-width: 1px;\"/><path class=\"ygrid crisp\" transform=\"translate(0,169.75)\" d=\"M130,0h490\" style=\"stroke: rgb(255, 255, 255); stroke-opacity: 1; stroke-width: 1px;\"/><path class=\"ygrid crisp\" transform=\"translate(0,79.25)\" d=\"M130,0h490\" style=\"stroke: rgb(255, 255, 255); stroke-opacity: 1; stroke-width: 1px;\"/></g></g><g class=\"zerolinelayer\"/><path class=\"xlines-below\"/><path class=\"ylines-below\"/><g class=\"overlines-below\"/><g class=\"xaxislayer-below\"/><g class=\"yaxislayer-below\"/><g class=\"overaxes-below\"/><g class=\"plot\" transform=\"translate(130, 60)\" clip-path=\"url('#clipf5d52fxyplot')\"><g class=\"scatterlayer mlayer\"><g class=\"trace scatter trace707cc2\" style=\"stroke-miterlimit: 2; opacity: 1;\"><g class=\"fills\"/><g class=\"errorbars\"/><g class=\"lines\"/><g class=\"points\"><path class=\"point\" transform=\"translate(245,290.75)\" d=\"M3,0A3,3 0 1,1 0,-3A3,3 0 0,1 3,0Z\" style=\"opacity: 1; stroke-width: 0px; fill: rgb(99, 110, 250); fill-opacity: 1;\"/><path class=\"point\" transform=\"translate(245,200.25)\" d=\"M3,0A3,3 0 1,1 0,-3A3,3 0 0,1 3,0Z\" style=\"opacity: 1; stroke-width: 0px; fill: rgb(99, 110, 250); fill-opacity: 1;\"/><path class=\"point\" transform=\"translate(245,109.75)\" d=\"M3,0A3,3 0 1,1 0,-3A3,3 0 0,1 3,0Z\" style=\"opacity: 1; stroke-width: 0px; fill: rgb(99, 110, 250); fill-opacity: 1;\"/><path class=\"point\" transform=\"translate(245,19.25)\" d=\"M3,0A3,3 0 1,1 0,-3A3,3 0 0,1 3,0Z\" style=\"opacity: 1; stroke-width: 0px; fill: rgb(99, 110, 250); fill-opacity: 1;\"/></g><g class=\"text\"/></g></g></g><g class=\"overplot\"/><path class=\"xlines-above crisp\" d=\"M0,0\" style=\"fill: none;\"/><path class=\"ylines-above crisp\" d=\"M0,0\" style=\"fill: none;\"/><g class=\"overlines-above\"/><g class=\"xaxislayer-above\"><g class=\"xtick\"><text text-anchor=\"middle\" x=\"0\" y=\"389\" transform=\"translate(130,0)\" style=\"font-family: 'Courier New', monospace; font-size: 18px; fill: rgb(42, 63, 95); fill-opacity: 1; white-space: pre;\">12</text></g><g class=\"xtick\"><text text-anchor=\"middle\" x=\"0\" y=\"389\" transform=\"translate(252.5,0)\" style=\"font-family: 'Courier New', monospace; font-size: 18px; fill: rgb(42, 63, 95); fill-opacity: 1; white-space: pre;\">12.5</text></g><g class=\"xtick\"><text text-anchor=\"middle\" x=\"0\" y=\"389\" transform=\"translate(375,0)\" style=\"font-family: 'Courier New', monospace; font-size: 18px; fill: rgb(42, 63, 95); fill-opacity: 1; white-space: pre;\">13</text></g><g class=\"xtick\"><text text-anchor=\"middle\" x=\"0\" y=\"389\" transform=\"translate(497.5,0)\" style=\"font-family: 'Courier New', monospace; font-size: 18px; fill: rgb(42, 63, 95); fill-opacity: 1; white-space: pre;\">13.5</text></g><g class=\"xtick\"><text text-anchor=\"middle\" x=\"0\" y=\"389\" transform=\"translate(620,0)\" style=\"font-family: 'Courier New', monospace; font-size: 18px; fill: rgb(42, 63, 95); fill-opacity: 1; white-space: pre;\">14</text></g></g><g class=\"yaxislayer-above\"><g class=\"ytick\"><text text-anchor=\"end\" x=\"129\" y=\"6.3\" transform=\"translate(0,350.75)\" style=\"font-family: 'Courier New', monospace; font-size: 18px; fill: rgb(42, 63, 95); fill-opacity: 1; white-space: pre;\">R20.2.1</text></g><g class=\"ytick\"><text text-anchor=\"end\" x=\"129\" y=\"6.3\" transform=\"translate(0,260.25)\" style=\"font-family: 'Courier New', monospace; font-size: 18px; fill: rgb(42, 63, 95); fill-opacity: 1; white-space: pre;\">R20.1.2</text></g><g class=\"ytick\"><text text-anchor=\"end\" x=\"129\" y=\"6.3\" transform=\"translate(0,169.75)\" style=\"font-family: 'Courier New', monospace; font-size: 18px; fill: rgb(42, 63, 95); fill-opacity: 1; white-space: pre;\">R20.1.1</text></g><g class=\"ytick\"><text text-anchor=\"end\" x=\"129\" y=\"6.3\" transform=\"translate(0,79.25)\" style=\"font-family: 'Courier New', monospace; font-size: 18px; fill: rgb(42, 63, 95); fill-opacity: 1; white-space: pre;\">R19.12.1</text></g></g><g class=\"overaxes-above\"/></g></g><g class=\"polarlayer\"/><g class=\"ternarylayer\"/><g class=\"geolayer\"/><g class=\"funnelarealayer\"/><g class=\"pielayer\"/><g class=\"treemaplayer\"/><g class=\"sunburstlayer\"/><g class=\"glimages\"/><defs id=\"topdefs-f5d52f\"><g class=\"clips\"/></defs><g class=\"layer-above\"><g class=\"imagelayer\"/><g class=\"shapelayer\"/></g><g class=\"infolayer\"><g class=\"g-gtitle\"><text class=\"gtitle\" x=\"35\" y=\"30\" text-anchor=\"start\" dy=\"0em\" style=\"font-family: 'Courier New', monospace; font-size: 25px; fill: rgb(42, 63, 95); opacity: 1; font-weight: normal; white-space: pre;\">Number of Error Prone Test Cases Per Releases</text></g><g class=\"g-xtitle\"><text class=\"xtitle\" x=\"375\" y=\"424.4\" text-anchor=\"middle\" style=\"font-family: 'Courier New', monospace; font-size: 22px; fill: rgb(42, 63, 95); opacity: 1; font-weight: normal; white-space: pre;\">Number of Error Prone Test Cases</text></g><g class=\"g-ytitle\" transform=\"translate(5.822265625,0)\"><text class=\"ytitle\" transform=\"rotate(-90,12.178124999999994,215)\" x=\"12.178124999999994\" y=\"215\" text-anchor=\"middle\" style=\"font-family: 'Courier New', monospace; font-size: 22px; fill: rgb(42, 63, 95); opacity: 1; font-weight: normal; white-space: pre;\">Releases</text></g></g></svg>"
      ]
     },
     "metadata": {},
     "output_type": "display_data"
    }
   ],
   "source": [
    "#Creating Dictonary for Error Prone in that particular Release\n",
    "errorproneTestCase_dict={'R20.2.1':(len(dataset[(dataset['ReleaseID'] == 'R20.2.1') & (dataset['Error Prone Test Cases'] == 'Yes')].index)),\n",
    "                        'R20.1.2':(len(dataset[(dataset['ReleaseID'] == 'R20.1.2') & (dataset['Error Prone Test Cases'] == 'Yes')].index)),\n",
    "                        'R20.1.1':(len(dataset[(dataset['ReleaseID'] == 'R20.1.1') & (dataset['Error Prone Test Cases'] == 'Yes')].index)),\n",
    "                        'R19.12.1':(len(dataset[(dataset['ReleaseID'] == 'R19.12.1') & (dataset['Error Prone Test Cases'] == 'Yes')].index))}\n",
    "#Converting Data Dictionary into Series\n",
    "errorproneTestCase_series=pd.Series(errorproneTestCase_dict)\n",
    "#Visualizing Bugs per releases\n",
    "fig = px.scatter(errorproneTestCase_series, x=errorproneTestCase_series.values, y=errorproneTestCase_series.index)\n",
    "# Change the bar mode\n",
    "fig.update_layout(\n",
    "    title=\"Number of Error Prone Test Cases Per Releases\",\n",
    "    xaxis_title=\"Number of Error Prone Test Cases\",\n",
    "    yaxis_title=\"Releases\",   \n",
    "    font=dict(\n",
    "        family=\"Courier New, monospace\",\n",
    "        size=18,\n",
    "    )\n",
    ")\n",
    "fig.update_layout()\n",
    "fig.show(\"svg\")"
   ]
  },
  {
   "cell_type": "markdown",
   "metadata": {},
   "source": [
    "Number of Error Prone Test Cases is same in all release , on closer look it seems to be obvious because every release have similar set of test cases and these cases will be marked as 'Error Prone' based on domain expertise of SME.\n",
    "\n",
    "Let's see how these test cases are selected"
   ]
  },
  {
   "cell_type": "code",
   "execution_count": 214,
   "metadata": {},
   "outputs": [
    {
     "name": "stderr",
     "output_type": "stream",
     "text": [
      "C:\\Users\\bhatnaga\\AppData\\Local\\Continuum\\anaconda3\\lib\\site-packages\\pandas\\core\\ops\\__init__.py:1115: FutureWarning:\n",
      "\n",
      "elementwise comparison failed; returning scalar instead, but in the future will perform elementwise comparison\n",
      "\n"
     ]
    },
    {
     "data": {
      "text/markdown": [
       "**Number of Not Selected Error Prone Test Cases are 0**"
      ],
      "text/plain": [
       "<IPython.core.display.Markdown object>"
      ]
     },
     "metadata": {},
     "output_type": "display_data"
    }
   ],
   "source": [
    "printmd('**Number of Not Selected Error Prone Test Cases are {}**'.format(len(dataset[(dataset['Error Prone Test Cases'] == 'Yes') & (dataset['Target']=='No')].index)))"
   ]
  },
  {
   "cell_type": "markdown",
   "metadata": {},
   "source": [
    "This means all Error Prone Test cases from each release are selected for executed , it means these cases are **must executed** test cases and this feature directly respobsible for selecting test cases\n",
    "\n",
    "Let's put our focus on another features **Automation Status** and **Type of Test Case**\n",
    "\n",
    "First we will see what type of test cases are selected for executed"
   ]
  },
  {
   "cell_type": "code",
   "execution_count": 215,
   "metadata": {},
   "outputs": [
    {
     "data": {
      "text/markdown": [
       "**Test Cases Segregation \n",
       "API/Functionality    640\n",
       "Integration           12\n",
       "Sanity                12\n",
       "Name: Type of Test Case, dtype: int64**"
      ],
      "text/plain": [
       "<IPython.core.display.Markdown object>"
      ]
     },
     "metadata": {},
     "output_type": "display_data"
    }
   ],
   "source": [
    "#Calculating total type of test cases\n",
    "printmd(\"**Test Cases Segregation \\n{}**\".format(dataset['Type of Test Case'].value_counts()))"
   ]
  },
  {
   "cell_type": "code",
   "execution_count": 216,
   "metadata": {},
   "outputs": [
    {
     "data": {
      "image/svg+xml": [
       "<svg class=\"main-svg\" xmlns=\"http://www.w3.org/2000/svg\" xmlns:xlink=\"http://www.w3.org/1999/xlink\" width=\"700\" height=\"450\" style=\"\" viewBox=\"0 0 700 450\"><rect x=\"0\" y=\"0\" width=\"700\" height=\"450\" style=\"fill: rgb(255, 255, 255); fill-opacity: 1;\"/><defs id=\"defs-a6e719\"><g class=\"clips\"><clipPath id=\"clipa6e719xyplot\" class=\"plotclip\"><rect width=\"513\" height=\"310\"/></clipPath><clipPath class=\"axesclip\" id=\"clipa6e719x\"><rect x=\"80\" y=\"0\" width=\"513\" height=\"450\"/></clipPath><clipPath class=\"axesclip\" id=\"clipa6e719y\"><rect x=\"0\" y=\"60\" width=\"700\" height=\"310\"/></clipPath><clipPath class=\"axesclip\" id=\"clipa6e719xy\"><rect x=\"80\" y=\"60\" width=\"513\" height=\"310\"/></clipPath></g><g class=\"gradients\"><linearGradient x1=\"0\" x2=\"0\" y1=\"1\" y2=\"0\" id=\"ga6e719-cbcoloraxis\"><stop offset=\"0%\" stop-color=\"rgb(13, 8, 135)\" stop-opacity=\"1\"/><stop offset=\"11.11111111111111%\" stop-color=\"rgb(70, 3, 159)\" stop-opacity=\"1\"/><stop offset=\"22.22222222222222%\" stop-color=\"rgb(114, 1, 168)\" stop-opacity=\"1\"/><stop offset=\"33.33333333333333%\" stop-color=\"rgb(156, 23, 158)\" stop-opacity=\"1\"/><stop offset=\"44.44444444444444%\" stop-color=\"rgb(189, 55, 134)\" stop-opacity=\"1\"/><stop offset=\"55.55555555555556%\" stop-color=\"rgb(216, 87, 107)\" stop-opacity=\"1\"/><stop offset=\"66.66666666666666%\" stop-color=\"rgb(237, 121, 83)\" stop-opacity=\"1\"/><stop offset=\"77.77777777777779%\" stop-color=\"rgb(251, 159, 58)\" stop-opacity=\"1\"/><stop offset=\"88.88888888888889%\" stop-color=\"rgb(253, 202, 38)\" stop-opacity=\"1\"/><stop offset=\"100%\" stop-color=\"rgb(240, 249, 33)\" stop-opacity=\"1\"/></linearGradient></g></defs><g class=\"bglayer\"><rect class=\"bg\" x=\"80\" y=\"60\" width=\"513\" height=\"310\" style=\"fill: rgb(229, 236, 246); fill-opacity: 1; stroke-width: 0;\"/></g><g class=\"layer-below\"><g class=\"imagelayer\"/><g class=\"shapelayer\"/></g><g class=\"cartesianlayer\"><g class=\"subplot xy\"><g class=\"layer-subplot\"><g class=\"shapelayer\"/><g class=\"imagelayer\"/></g><g class=\"gridlayer\"><g class=\"x\"><path class=\"xgrid crisp\" transform=\"translate(109.4,0)\" d=\"M0,60v310\" style=\"stroke: rgb(255, 255, 255); stroke-opacity: 1; stroke-width: 1px;\"/><path class=\"xgrid crisp\" transform=\"translate(336.5,0)\" d=\"M0,60v310\" style=\"stroke: rgb(255, 255, 255); stroke-opacity: 1; stroke-width: 1px;\"/><path class=\"xgrid crisp\" transform=\"translate(563.6,0)\" d=\"M0,60v310\" style=\"stroke: rgb(255, 255, 255); stroke-opacity: 1; stroke-width: 1px;\"/></g><g class=\"y\"><path class=\"ygrid crisp\" transform=\"translate(0,309.8)\" d=\"M80,0h513\" style=\"stroke: rgb(255, 255, 255); stroke-opacity: 1; stroke-width: 1px;\"/><path class=\"ygrid crisp\" transform=\"translate(0,268.85)\" d=\"M80,0h513\" style=\"stroke: rgb(255, 255, 255); stroke-opacity: 1; stroke-width: 1px;\"/><path class=\"ygrid crisp\" transform=\"translate(0,227.9)\" d=\"M80,0h513\" style=\"stroke: rgb(255, 255, 255); stroke-opacity: 1; stroke-width: 1px;\"/><path class=\"ygrid crisp\" transform=\"translate(0,186.95)\" d=\"M80,0h513\" style=\"stroke: rgb(255, 255, 255); stroke-opacity: 1; stroke-width: 1px;\"/><path class=\"ygrid crisp\" transform=\"translate(0,146)\" d=\"M80,0h513\" style=\"stroke: rgb(255, 255, 255); stroke-opacity: 1; stroke-width: 1px;\"/><path class=\"ygrid crisp\" transform=\"translate(0,105.05)\" d=\"M80,0h513\" style=\"stroke: rgb(255, 255, 255); stroke-opacity: 1; stroke-width: 1px;\"/><path class=\"ygrid crisp\" transform=\"translate(0,64.1)\" d=\"M80,0h513\" style=\"stroke: rgb(255, 255, 255); stroke-opacity: 1; stroke-width: 1px;\"/></g></g><g class=\"zerolinelayer\"><path class=\"yzl zl crisp\" transform=\"translate(0,350.75)\" d=\"M80,0h513\" style=\"stroke: rgb(255, 255, 255); stroke-opacity: 1; stroke-width: 2px;\"/></g><path class=\"xlines-below\"/><path class=\"ylines-below\"/><g class=\"overlines-below\"/><g class=\"xaxislayer-below\"/><g class=\"yaxislayer-below\"/><g class=\"overaxes-below\"/><g class=\"plot\" transform=\"translate(80, 60)\" clip-path=\"url('#clipa6e719xyplot')\"><g class=\"scatterlayer mlayer\"><g class=\"trace scatter trace41b47a\" style=\"stroke-miterlimit: 2; opacity: 1;\"><g class=\"fills\"/><g class=\"errorbars\"/><g class=\"lines\"/><g class=\"points\"><path class=\"point\" transform=\"translate(29.4,290.75)\" d=\"M3,0A3,3 0 1,1 0,-3A3,3 0 0,1 3,0Z\" style=\"opacity: 1; stroke-width: 0px; fill: rgb(240, 249, 33); fill-opacity: 1;\"/><path class=\"point\" transform=\"translate(29.4,290.34)\" d=\"M3,0A3,3 0 1,1 0,-3A3,3 0 0,1 3,0Z\" style=\"opacity: 1; stroke-width: 0px; fill: rgb(240, 249, 33); fill-opacity: 1;\"/><path class=\"point\" transform=\"translate(29.4,289.93)\" d=\"M3,0A3,3 0 1,1 0,-3A3,3 0 0,1 3,0Z\" style=\"opacity: 1; stroke-width: 0px; fill: rgb(240, 249, 33); fill-opacity: 1;\"/><path class=\"point\" transform=\"translate(256.5,289.52)\" d=\"M3,0A3,3 0 1,1 0,-3A3,3 0 0,1 3,0Z\" style=\"opacity: 1; stroke-width: 0px; fill: rgb(240, 249, 33); fill-opacity: 1;\"/><path class=\"point\" transform=\"translate(256.5,289.11)\" d=\"M3,0A3,3 0 1,1 0,-3A3,3 0 0,1 3,0Z\" style=\"opacity: 1; stroke-width: 0px; fill: rgb(240, 249, 33); fill-opacity: 1;\"/><path class=\"point\" transform=\"translate(256.5,288.7)\" d=\"M3,0A3,3 0 1,1 0,-3A3,3 0 0,1 3,0Z\" style=\"opacity: 1; stroke-width: 0px; fill: rgb(240, 249, 33); fill-opacity: 1;\"/><path class=\"point\" transform=\"translate(256.5,288.29)\" d=\"M3,0A3,3 0 1,1 0,-3A3,3 0 0,1 3,0Z\" style=\"opacity: 1; stroke-width: 0px; fill: rgb(240, 249, 33); fill-opacity: 1;\"/><path class=\"point\" transform=\"translate(256.5,287.88)\" d=\"M3,0A3,3 0 1,1 0,-3A3,3 0 0,1 3,0Z\" style=\"opacity: 1; stroke-width: 0px; fill: rgb(240, 249, 33); fill-opacity: 1;\"/><path class=\"point\" transform=\"translate(256.5,287.47)\" d=\"M3,0A3,3 0 1,1 0,-3A3,3 0 0,1 3,0Z\" style=\"opacity: 1; stroke-width: 0px; fill: rgb(240, 249, 33); fill-opacity: 1;\"/><path class=\"point\" transform=\"translate(256.5,287.06)\" d=\"M3,0A3,3 0 1,1 0,-3A3,3 0 0,1 3,0Z\" style=\"opacity: 1; stroke-width: 0px; fill: rgb(240, 249, 33); fill-opacity: 1;\"/><path class=\"point\" transform=\"translate(256.5,286.65)\" d=\"M3,0A3,3 0 1,1 0,-3A3,3 0 0,1 3,0Z\" style=\"opacity: 1; stroke-width: 0px; fill: rgb(240, 249, 33); fill-opacity: 1;\"/><path class=\"point\" transform=\"translate(256.5,286.25)\" d=\"M3,0A3,3 0 1,1 0,-3A3,3 0 0,1 3,0Z\" style=\"opacity: 1; stroke-width: 0px; fill: rgb(240, 249, 33); fill-opacity: 1;\"/><path class=\"point\" transform=\"translate(256.5,285.84)\" d=\"M3,0A3,3 0 1,1 0,-3A3,3 0 0,1 3,0Z\" style=\"opacity: 1; stroke-width: 0px; fill: rgb(240, 249, 33); fill-opacity: 1;\"/><path class=\"point\" transform=\"translate(256.5,285.43)\" d=\"M3,0A3,3 0 1,1 0,-3A3,3 0 0,1 3,0Z\" style=\"opacity: 1; stroke-width: 0px; fill: rgb(240, 249, 33); fill-opacity: 1;\"/><path class=\"point\" transform=\"translate(256.5,285.02)\" d=\"M3,0A3,3 0 1,1 0,-3A3,3 0 0,1 3,0Z\" style=\"opacity: 1; stroke-width: 0px; fill: rgb(240, 249, 33); fill-opacity: 1;\"/><path class=\"point\" transform=\"translate(256.5,284.61)\" d=\"M3,0A3,3 0 1,1 0,-3A3,3 0 0,1 3,0Z\" style=\"opacity: 1; stroke-width: 0px; fill: rgb(240, 249, 33); fill-opacity: 1;\"/><path class=\"point\" transform=\"translate(256.5,284.2)\" d=\"M3,0A3,3 0 1,1 0,-3A3,3 0 0,1 3,0Z\" style=\"opacity: 1; stroke-width: 0px; fill: rgb(240, 249, 33); fill-opacity: 1;\"/><path class=\"point\" transform=\"translate(256.5,283.79)\" d=\"M3,0A3,3 0 1,1 0,-3A3,3 0 0,1 3,0Z\" style=\"opacity: 1; stroke-width: 0px; fill: rgb(240, 249, 33); fill-opacity: 1;\"/><path class=\"point\" transform=\"translate(256.5,283.38)\" d=\"M3,0A3,3 0 1,1 0,-3A3,3 0 0,1 3,0Z\" style=\"opacity: 1; stroke-width: 0px; fill: rgb(240, 249, 33); fill-opacity: 1;\"/><path class=\"point\" transform=\"translate(256.5,282.97)\" d=\"M3,0A3,3 0 1,1 0,-3A3,3 0 0,1 3,0Z\" style=\"opacity: 1; stroke-width: 0px; fill: rgb(240, 249, 33); fill-opacity: 1;\"/><path class=\"point\" transform=\"translate(256.5,282.56)\" d=\"M3,0A3,3 0 1,1 0,-3A3,3 0 0,1 3,0Z\" style=\"opacity: 1; stroke-width: 0px; fill: rgb(240, 249, 33); fill-opacity: 1;\"/><path class=\"point\" transform=\"translate(256.5,282.15)\" d=\"M3,0A3,3 0 1,1 0,-3A3,3 0 0,1 3,0Z\" style=\"opacity: 1; stroke-width: 0px; fill: rgb(240, 249, 33); fill-opacity: 1;\"/><path class=\"point\" transform=\"translate(256.5,281.74)\" d=\"M3,0A3,3 0 1,1 0,-3A3,3 0 0,1 3,0Z\" style=\"opacity: 1; stroke-width: 0px; fill: rgb(240, 249, 33); fill-opacity: 1;\"/><path class=\"point\" transform=\"translate(256.5,281.33)\" d=\"M3,0A3,3 0 1,1 0,-3A3,3 0 0,1 3,0Z\" style=\"opacity: 1; stroke-width: 0px; fill: rgb(240, 249, 33); fill-opacity: 1;\"/><path class=\"point\" transform=\"translate(256.5,280.92)\" d=\"M3,0A3,3 0 1,1 0,-3A3,3 0 0,1 3,0Z\" style=\"opacity: 1; stroke-width: 0px; fill: rgb(240, 249, 33); fill-opacity: 1;\"/><path class=\"point\" transform=\"translate(256.5,280.51)\" d=\"M3,0A3,3 0 1,1 0,-3A3,3 0 0,1 3,0Z\" style=\"opacity: 1; stroke-width: 0px; fill: rgb(240, 249, 33); fill-opacity: 1;\"/><path class=\"point\" transform=\"translate(256.5,280.1)\" d=\"M3,0A3,3 0 1,1 0,-3A3,3 0 0,1 3,0Z\" style=\"opacity: 1; stroke-width: 0px; fill: rgb(240, 249, 33); fill-opacity: 1;\"/><path class=\"point\" transform=\"translate(256.5,279.69)\" d=\"M3,0A3,3 0 1,1 0,-3A3,3 0 0,1 3,0Z\" style=\"opacity: 1; stroke-width: 0px; fill: rgb(240, 249, 33); fill-opacity: 1;\"/><path class=\"point\" transform=\"translate(256.5,279.28)\" d=\"M3,0A3,3 0 1,1 0,-3A3,3 0 0,1 3,0Z\" style=\"opacity: 1; stroke-width: 0px; fill: rgb(240, 249, 33); fill-opacity: 1;\"/><path class=\"point\" transform=\"translate(256.5,278.87)\" d=\"M3,0A3,3 0 1,1 0,-3A3,3 0 0,1 3,0Z\" style=\"opacity: 1; stroke-width: 0px; fill: rgb(240, 249, 33); fill-opacity: 1;\"/><path class=\"point\" transform=\"translate(256.5,278.46)\" d=\"M3,0A3,3 0 1,1 0,-3A3,3 0 0,1 3,0Z\" style=\"opacity: 1; stroke-width: 0px; fill: rgb(240, 249, 33); fill-opacity: 1;\"/><path class=\"point\" transform=\"translate(256.5,278.06)\" d=\"M3,0A3,3 0 1,1 0,-3A3,3 0 0,1 3,0Z\" style=\"opacity: 1; stroke-width: 0px; fill: rgb(240, 249, 33); fill-opacity: 1;\"/><path class=\"point\" transform=\"translate(256.5,277.65)\" d=\"M3,0A3,3 0 1,1 0,-3A3,3 0 0,1 3,0Z\" style=\"opacity: 1; stroke-width: 0px; fill: rgb(240, 249, 33); fill-opacity: 1;\"/><path class=\"point\" transform=\"translate(256.5,277.24)\" d=\"M3,0A3,3 0 1,1 0,-3A3,3 0 0,1 3,0Z\" style=\"opacity: 1; stroke-width: 0px; fill: rgb(240, 249, 33); fill-opacity: 1;\"/><path class=\"point\" transform=\"translate(256.5,276.83)\" d=\"M3,0A3,3 0 1,1 0,-3A3,3 0 0,1 3,0Z\" style=\"opacity: 1; stroke-width: 0px; fill: rgb(240, 249, 33); fill-opacity: 1;\"/><path class=\"point\" transform=\"translate(256.5,276.42)\" d=\"M3,0A3,3 0 1,1 0,-3A3,3 0 0,1 3,0Z\" style=\"opacity: 1; stroke-width: 0px; fill: rgb(240, 249, 33); fill-opacity: 1;\"/><path class=\"point\" transform=\"translate(256.5,276.01)\" d=\"M3,0A3,3 0 1,1 0,-3A3,3 0 0,1 3,0Z\" style=\"opacity: 1; stroke-width: 0px; fill: rgb(240, 249, 33); fill-opacity: 1;\"/><path class=\"point\" transform=\"translate(256.5,275.6)\" d=\"M3,0A3,3 0 1,1 0,-3A3,3 0 0,1 3,0Z\" style=\"opacity: 1; stroke-width: 0px; fill: rgb(240, 249, 33); fill-opacity: 1;\"/><path class=\"point\" transform=\"translate(256.5,275.19)\" d=\"M3,0A3,3 0 1,1 0,-3A3,3 0 0,1 3,0Z\" style=\"opacity: 1; stroke-width: 0px; fill: rgb(240, 249, 33); fill-opacity: 1;\"/><path class=\"point\" transform=\"translate(256.5,274.78)\" d=\"M3,0A3,3 0 1,1 0,-3A3,3 0 0,1 3,0Z\" style=\"opacity: 1; stroke-width: 0px; fill: rgb(240, 249, 33); fill-opacity: 1;\"/><path class=\"point\" transform=\"translate(256.5,274.37)\" d=\"M3,0A3,3 0 1,1 0,-3A3,3 0 0,1 3,0Z\" style=\"opacity: 1; stroke-width: 0px; fill: rgb(240, 249, 33); fill-opacity: 1;\"/><path class=\"point\" transform=\"translate(256.5,273.96)\" d=\"M3,0A3,3 0 1,1 0,-3A3,3 0 0,1 3,0Z\" style=\"opacity: 1; stroke-width: 0px; fill: rgb(240, 249, 33); fill-opacity: 1;\"/><path class=\"point\" transform=\"translate(256.5,273.55)\" d=\"M3,0A3,3 0 1,1 0,-3A3,3 0 0,1 3,0Z\" style=\"opacity: 1; stroke-width: 0px; fill: rgb(240, 249, 33); fill-opacity: 1;\"/><path class=\"point\" transform=\"translate(256.5,273.14)\" d=\"M3,0A3,3 0 1,1 0,-3A3,3 0 0,1 3,0Z\" style=\"opacity: 1; stroke-width: 0px; fill: rgb(240, 249, 33); fill-opacity: 1;\"/><path class=\"point\" transform=\"translate(256.5,272.73)\" d=\"M3,0A3,3 0 1,1 0,-3A3,3 0 0,1 3,0Z\" style=\"opacity: 1; stroke-width: 0px; fill: rgb(240, 249, 33); fill-opacity: 1;\"/><path class=\"point\" transform=\"translate(256.5,272.32)\" d=\"M3,0A3,3 0 1,1 0,-3A3,3 0 0,1 3,0Z\" style=\"opacity: 1; stroke-width: 0px; fill: rgb(240, 249, 33); fill-opacity: 1;\"/><path class=\"point\" transform=\"translate(256.5,271.91)\" d=\"M3,0A3,3 0 1,1 0,-3A3,3 0 0,1 3,0Z\" style=\"opacity: 1; stroke-width: 0px; fill: rgb(240, 249, 33); fill-opacity: 1;\"/><path class=\"point\" transform=\"translate(256.5,271.5)\" d=\"M3,0A3,3 0 1,1 0,-3A3,3 0 0,1 3,0Z\" style=\"opacity: 1; stroke-width: 0px; fill: rgb(240, 249, 33); fill-opacity: 1;\"/><path class=\"point\" transform=\"translate(256.5,271.09)\" d=\"M3,0A3,3 0 1,1 0,-3A3,3 0 0,1 3,0Z\" style=\"opacity: 1; stroke-width: 0px; fill: rgb(240, 249, 33); fill-opacity: 1;\"/><path class=\"point\" transform=\"translate(256.5,270.68)\" d=\"M3,0A3,3 0 1,1 0,-3A3,3 0 0,1 3,0Z\" style=\"opacity: 1; stroke-width: 0px; fill: rgb(240, 249, 33); fill-opacity: 1;\"/><path class=\"point\" transform=\"translate(256.5,270.27)\" d=\"M3,0A3,3 0 1,1 0,-3A3,3 0 0,1 3,0Z\" style=\"opacity: 1; stroke-width: 0px; fill: rgb(240, 249, 33); fill-opacity: 1;\"/><path class=\"point\" transform=\"translate(256.5,269.87)\" d=\"M3,0A3,3 0 1,1 0,-3A3,3 0 0,1 3,0Z\" style=\"opacity: 1; stroke-width: 0px; fill: rgb(240, 249, 33); fill-opacity: 1;\"/><path class=\"point\" transform=\"translate(256.5,269.46)\" d=\"M3,0A3,3 0 1,1 0,-3A3,3 0 0,1 3,0Z\" style=\"opacity: 1; stroke-width: 0px; fill: rgb(240, 249, 33); fill-opacity: 1;\"/><path class=\"point\" transform=\"translate(256.5,269.05)\" d=\"M3,0A3,3 0 1,1 0,-3A3,3 0 0,1 3,0Z\" style=\"opacity: 1; stroke-width: 0px; fill: rgb(240, 249, 33); fill-opacity: 1;\"/><path class=\"point\" transform=\"translate(256.5,268.64)\" d=\"M3,0A3,3 0 1,1 0,-3A3,3 0 0,1 3,0Z\" style=\"opacity: 1; stroke-width: 0px; fill: rgb(240, 249, 33); fill-opacity: 1;\"/><path class=\"point\" transform=\"translate(256.5,268.23)\" d=\"M3,0A3,3 0 1,1 0,-3A3,3 0 0,1 3,0Z\" style=\"opacity: 1; stroke-width: 0px; fill: rgb(240, 249, 33); fill-opacity: 1;\"/><path class=\"point\" transform=\"translate(256.5,267.82)\" d=\"M3,0A3,3 0 1,1 0,-3A3,3 0 0,1 3,0Z\" style=\"opacity: 1; stroke-width: 0px; fill: rgb(13, 8, 135); fill-opacity: 1;\"/><path class=\"point\" transform=\"translate(256.5,267.41)\" d=\"M3,0A3,3 0 1,1 0,-3A3,3 0 0,1 3,0Z\" style=\"opacity: 1; stroke-width: 0px; fill: rgb(13, 8, 135); fill-opacity: 1;\"/><path class=\"point\" transform=\"translate(256.5,267)\" d=\"M3,0A3,3 0 1,1 0,-3A3,3 0 0,1 3,0Z\" style=\"opacity: 1; stroke-width: 0px; fill: rgb(13, 8, 135); fill-opacity: 1;\"/><path class=\"point\" transform=\"translate(256.5,266.59)\" d=\"M3,0A3,3 0 1,1 0,-3A3,3 0 0,1 3,0Z\" style=\"opacity: 1; stroke-width: 0px; fill: rgb(13, 8, 135); fill-opacity: 1;\"/><path class=\"point\" transform=\"translate(256.5,266.18)\" d=\"M3,0A3,3 0 1,1 0,-3A3,3 0 0,1 3,0Z\" style=\"opacity: 1; stroke-width: 0px; fill: rgb(13, 8, 135); fill-opacity: 1;\"/><path class=\"point\" transform=\"translate(256.5,265.77)\" d=\"M3,0A3,3 0 1,1 0,-3A3,3 0 0,1 3,0Z\" style=\"opacity: 1; stroke-width: 0px; fill: rgb(13, 8, 135); fill-opacity: 1;\"/><path class=\"point\" transform=\"translate(256.5,265.36)\" d=\"M3,0A3,3 0 1,1 0,-3A3,3 0 0,1 3,0Z\" style=\"opacity: 1; stroke-width: 0px; fill: rgb(13, 8, 135); fill-opacity: 1;\"/><path class=\"point\" transform=\"translate(256.5,264.95)\" d=\"M3,0A3,3 0 1,1 0,-3A3,3 0 0,1 3,0Z\" style=\"opacity: 1; stroke-width: 0px; fill: rgb(13, 8, 135); fill-opacity: 1;\"/><path class=\"point\" transform=\"translate(256.5,264.54)\" d=\"M3,0A3,3 0 1,1 0,-3A3,3 0 0,1 3,0Z\" style=\"opacity: 1; stroke-width: 0px; fill: rgb(13, 8, 135); fill-opacity: 1;\"/><path class=\"point\" transform=\"translate(256.5,264.13)\" d=\"M3,0A3,3 0 1,1 0,-3A3,3 0 0,1 3,0Z\" style=\"opacity: 1; stroke-width: 0px; fill: rgb(13, 8, 135); fill-opacity: 1;\"/><path class=\"point\" transform=\"translate(256.5,263.72)\" d=\"M3,0A3,3 0 1,1 0,-3A3,3 0 0,1 3,0Z\" style=\"opacity: 1; stroke-width: 0px; fill: rgb(13, 8, 135); fill-opacity: 1;\"/><path class=\"point\" transform=\"translate(256.5,263.31)\" d=\"M3,0A3,3 0 1,1 0,-3A3,3 0 0,1 3,0Z\" style=\"opacity: 1; stroke-width: 0px; fill: rgb(13, 8, 135); fill-opacity: 1;\"/><path class=\"point\" transform=\"translate(256.5,262.9)\" d=\"M3,0A3,3 0 1,1 0,-3A3,3 0 0,1 3,0Z\" style=\"opacity: 1; stroke-width: 0px; fill: rgb(13, 8, 135); fill-opacity: 1;\"/><path class=\"point\" transform=\"translate(256.5,262.49)\" d=\"M3,0A3,3 0 1,1 0,-3A3,3 0 0,1 3,0Z\" style=\"opacity: 1; stroke-width: 0px; fill: rgb(13, 8, 135); fill-opacity: 1;\"/><path class=\"point\" transform=\"translate(256.5,262.08)\" d=\"M3,0A3,3 0 1,1 0,-3A3,3 0 0,1 3,0Z\" style=\"opacity: 1; stroke-width: 0px; fill: rgb(13, 8, 135); fill-opacity: 1;\"/><path class=\"point\" transform=\"translate(256.5,261.68)\" d=\"M3,0A3,3 0 1,1 0,-3A3,3 0 0,1 3,0Z\" style=\"opacity: 1; stroke-width: 0px; fill: rgb(13, 8, 135); fill-opacity: 1;\"/><path class=\"point\" transform=\"translate(256.5,261.27)\" d=\"M3,0A3,3 0 1,1 0,-3A3,3 0 0,1 3,0Z\" style=\"opacity: 1; stroke-width: 0px; fill: rgb(13, 8, 135); fill-opacity: 1;\"/><path class=\"point\" transform=\"translate(256.5,260.86)\" d=\"M3,0A3,3 0 1,1 0,-3A3,3 0 0,1 3,0Z\" style=\"opacity: 1; stroke-width: 0px; fill: rgb(13, 8, 135); fill-opacity: 1;\"/><path class=\"point\" transform=\"translate(256.5,260.45)\" d=\"M3,0A3,3 0 1,1 0,-3A3,3 0 0,1 3,0Z\" style=\"opacity: 1; stroke-width: 0px; fill: rgb(13, 8, 135); fill-opacity: 1;\"/><path class=\"point\" transform=\"translate(256.5,260.04)\" d=\"M3,0A3,3 0 1,1 0,-3A3,3 0 0,1 3,0Z\" style=\"opacity: 1; stroke-width: 0px; fill: rgb(13, 8, 135); fill-opacity: 1;\"/><path class=\"point\" transform=\"translate(256.5,259.63)\" d=\"M3,0A3,3 0 1,1 0,-3A3,3 0 0,1 3,0Z\" style=\"opacity: 1; stroke-width: 0px; fill: rgb(13, 8, 135); fill-opacity: 1;\"/><path class=\"point\" transform=\"translate(256.5,259.22)\" d=\"M3,0A3,3 0 1,1 0,-3A3,3 0 0,1 3,0Z\" style=\"opacity: 1; stroke-width: 0px; fill: rgb(13, 8, 135); fill-opacity: 1;\"/><path class=\"point\" transform=\"translate(256.5,258.81)\" d=\"M3,0A3,3 0 1,1 0,-3A3,3 0 0,1 3,0Z\" style=\"opacity: 1; stroke-width: 0px; fill: rgb(13, 8, 135); fill-opacity: 1;\"/><path class=\"point\" transform=\"translate(256.5,258.4)\" d=\"M3,0A3,3 0 1,1 0,-3A3,3 0 0,1 3,0Z\" style=\"opacity: 1; stroke-width: 0px; fill: rgb(13, 8, 135); fill-opacity: 1;\"/><path class=\"point\" transform=\"translate(256.5,257.99)\" d=\"M3,0A3,3 0 1,1 0,-3A3,3 0 0,1 3,0Z\" style=\"opacity: 1; stroke-width: 0px; fill: rgb(13, 8, 135); fill-opacity: 1;\"/><path class=\"point\" transform=\"translate(256.5,257.58)\" d=\"M3,0A3,3 0 1,1 0,-3A3,3 0 0,1 3,0Z\" style=\"opacity: 1; stroke-width: 0px; fill: rgb(13, 8, 135); fill-opacity: 1;\"/><path class=\"point\" transform=\"translate(256.5,257.17)\" d=\"M3,0A3,3 0 1,1 0,-3A3,3 0 0,1 3,0Z\" style=\"opacity: 1; stroke-width: 0px; fill: rgb(13, 8, 135); fill-opacity: 1;\"/><path class=\"point\" transform=\"translate(256.5,256.76)\" d=\"M3,0A3,3 0 1,1 0,-3A3,3 0 0,1 3,0Z\" style=\"opacity: 1; stroke-width: 0px; fill: rgb(13, 8, 135); fill-opacity: 1;\"/><path class=\"point\" transform=\"translate(256.5,256.35)\" d=\"M3,0A3,3 0 1,1 0,-3A3,3 0 0,1 3,0Z\" style=\"opacity: 1; stroke-width: 0px; fill: rgb(13, 8, 135); fill-opacity: 1;\"/><path class=\"point\" transform=\"translate(256.5,255.94)\" d=\"M3,0A3,3 0 1,1 0,-3A3,3 0 0,1 3,0Z\" style=\"opacity: 1; stroke-width: 0px; fill: rgb(13, 8, 135); fill-opacity: 1;\"/><path class=\"point\" transform=\"translate(256.5,255.53)\" d=\"M3,0A3,3 0 1,1 0,-3A3,3 0 0,1 3,0Z\" style=\"opacity: 1; stroke-width: 0px; fill: rgb(13, 8, 135); fill-opacity: 1;\"/><path class=\"point\" transform=\"translate(256.5,255.12)\" d=\"M3,0A3,3 0 1,1 0,-3A3,3 0 0,1 3,0Z\" style=\"opacity: 1; stroke-width: 0px; fill: rgb(13, 8, 135); fill-opacity: 1;\"/><path class=\"point\" transform=\"translate(256.5,254.71)\" d=\"M3,0A3,3 0 1,1 0,-3A3,3 0 0,1 3,0Z\" style=\"opacity: 1; stroke-width: 0px; fill: rgb(13, 8, 135); fill-opacity: 1;\"/><path class=\"point\" transform=\"translate(256.5,254.3)\" d=\"M3,0A3,3 0 1,1 0,-3A3,3 0 0,1 3,0Z\" style=\"opacity: 1; stroke-width: 0px; fill: rgb(13, 8, 135); fill-opacity: 1;\"/><path class=\"point\" transform=\"translate(256.5,253.89)\" d=\"M3,0A3,3 0 1,1 0,-3A3,3 0 0,1 3,0Z\" style=\"opacity: 1; stroke-width: 0px; fill: rgb(13, 8, 135); fill-opacity: 1;\"/><path class=\"point\" transform=\"translate(256.5,253.49)\" d=\"M3,0A3,3 0 1,1 0,-3A3,3 0 0,1 3,0Z\" style=\"opacity: 1; stroke-width: 0px; fill: rgb(13, 8, 135); fill-opacity: 1;\"/><path class=\"point\" transform=\"translate(256.5,253.08)\" d=\"M3,0A3,3 0 1,1 0,-3A3,3 0 0,1 3,0Z\" style=\"opacity: 1; stroke-width: 0px; fill: rgb(13, 8, 135); fill-opacity: 1;\"/><path class=\"point\" transform=\"translate(256.5,252.67)\" d=\"M3,0A3,3 0 1,1 0,-3A3,3 0 0,1 3,0Z\" style=\"opacity: 1; stroke-width: 0px; fill: rgb(13, 8, 135); fill-opacity: 1;\"/><path class=\"point\" transform=\"translate(256.5,252.26)\" d=\"M3,0A3,3 0 1,1 0,-3A3,3 0 0,1 3,0Z\" style=\"opacity: 1; stroke-width: 0px; fill: rgb(13, 8, 135); fill-opacity: 1;\"/><path class=\"point\" transform=\"translate(256.5,251.85)\" d=\"M3,0A3,3 0 1,1 0,-3A3,3 0 0,1 3,0Z\" style=\"opacity: 1; stroke-width: 0px; fill: rgb(13, 8, 135); fill-opacity: 1;\"/><path class=\"point\" transform=\"translate(256.5,251.44)\" d=\"M3,0A3,3 0 1,1 0,-3A3,3 0 0,1 3,0Z\" style=\"opacity: 1; stroke-width: 0px; fill: rgb(13, 8, 135); fill-opacity: 1;\"/><path class=\"point\" transform=\"translate(256.5,251.03)\" d=\"M3,0A3,3 0 1,1 0,-3A3,3 0 0,1 3,0Z\" style=\"opacity: 1; stroke-width: 0px; fill: rgb(13, 8, 135); fill-opacity: 1;\"/><path class=\"point\" transform=\"translate(256.5,250.62)\" d=\"M3,0A3,3 0 1,1 0,-3A3,3 0 0,1 3,0Z\" style=\"opacity: 1; stroke-width: 0px; fill: rgb(13, 8, 135); fill-opacity: 1;\"/><path class=\"point\" transform=\"translate(256.5,250.21)\" d=\"M3,0A3,3 0 1,1 0,-3A3,3 0 0,1 3,0Z\" style=\"opacity: 1; stroke-width: 0px; fill: rgb(13, 8, 135); fill-opacity: 1;\"/><path class=\"point\" transform=\"translate(256.5,249.8)\" d=\"M3,0A3,3 0 1,1 0,-3A3,3 0 0,1 3,0Z\" style=\"opacity: 1; stroke-width: 0px; fill: rgb(13, 8, 135); fill-opacity: 1;\"/><path class=\"point\" transform=\"translate(256.5,249.39)\" d=\"M3,0A3,3 0 1,1 0,-3A3,3 0 0,1 3,0Z\" style=\"opacity: 1; stroke-width: 0px; fill: rgb(13, 8, 135); fill-opacity: 1;\"/><path class=\"point\" transform=\"translate(256.5,248.98)\" d=\"M3,0A3,3 0 1,1 0,-3A3,3 0 0,1 3,0Z\" style=\"opacity: 1; stroke-width: 0px; fill: rgb(13, 8, 135); fill-opacity: 1;\"/><path class=\"point\" transform=\"translate(256.5,248.57)\" d=\"M3,0A3,3 0 1,1 0,-3A3,3 0 0,1 3,0Z\" style=\"opacity: 1; stroke-width: 0px; fill: rgb(13, 8, 135); fill-opacity: 1;\"/><path class=\"point\" transform=\"translate(256.5,248.16)\" d=\"M3,0A3,3 0 1,1 0,-3A3,3 0 0,1 3,0Z\" style=\"opacity: 1; stroke-width: 0px; fill: rgb(13, 8, 135); fill-opacity: 1;\"/><path class=\"point\" transform=\"translate(256.5,247.75)\" d=\"M3,0A3,3 0 1,1 0,-3A3,3 0 0,1 3,0Z\" style=\"opacity: 1; stroke-width: 0px; fill: rgb(13, 8, 135); fill-opacity: 1;\"/><path class=\"point\" transform=\"translate(256.5,247.34)\" d=\"M3,0A3,3 0 1,1 0,-3A3,3 0 0,1 3,0Z\" style=\"opacity: 1; stroke-width: 0px; fill: rgb(13, 8, 135); fill-opacity: 1;\"/><path class=\"point\" transform=\"translate(256.5,246.93)\" d=\"M3,0A3,3 0 1,1 0,-3A3,3 0 0,1 3,0Z\" style=\"opacity: 1; stroke-width: 0px; fill: rgb(13, 8, 135); fill-opacity: 1;\"/><path class=\"point\" transform=\"translate(256.5,246.52)\" d=\"M3,0A3,3 0 1,1 0,-3A3,3 0 0,1 3,0Z\" style=\"opacity: 1; stroke-width: 0px; fill: rgb(13, 8, 135); fill-opacity: 1;\"/><path class=\"point\" transform=\"translate(256.5,246.11)\" d=\"M3,0A3,3 0 1,1 0,-3A3,3 0 0,1 3,0Z\" style=\"opacity: 1; stroke-width: 0px; fill: rgb(13, 8, 135); fill-opacity: 1;\"/><path class=\"point\" transform=\"translate(256.5,245.7)\" d=\"M3,0A3,3 0 1,1 0,-3A3,3 0 0,1 3,0Z\" style=\"opacity: 1; stroke-width: 0px; fill: rgb(13, 8, 135); fill-opacity: 1;\"/><path class=\"point\" transform=\"translate(256.5,245.3)\" d=\"M3,0A3,3 0 1,1 0,-3A3,3 0 0,1 3,0Z\" style=\"opacity: 1; stroke-width: 0px; fill: rgb(13, 8, 135); fill-opacity: 1;\"/><path class=\"point\" transform=\"translate(256.5,244.89)\" d=\"M3,0A3,3 0 1,1 0,-3A3,3 0 0,1 3,0Z\" style=\"opacity: 1; stroke-width: 0px; fill: rgb(13, 8, 135); fill-opacity: 1;\"/><path class=\"point\" transform=\"translate(256.5,244.48)\" d=\"M3,0A3,3 0 1,1 0,-3A3,3 0 0,1 3,0Z\" style=\"opacity: 1; stroke-width: 0px; fill: rgb(13, 8, 135); fill-opacity: 1;\"/><path class=\"point\" transform=\"translate(256.5,244.07)\" d=\"M3,0A3,3 0 1,1 0,-3A3,3 0 0,1 3,0Z\" style=\"opacity: 1; stroke-width: 0px; fill: rgb(13, 8, 135); fill-opacity: 1;\"/><path class=\"point\" transform=\"translate(256.5,243.66)\" d=\"M3,0A3,3 0 1,1 0,-3A3,3 0 0,1 3,0Z\" style=\"opacity: 1; stroke-width: 0px; fill: rgb(13, 8, 135); fill-opacity: 1;\"/><path class=\"point\" transform=\"translate(256.5,243.25)\" d=\"M3,0A3,3 0 1,1 0,-3A3,3 0 0,1 3,0Z\" style=\"opacity: 1; stroke-width: 0px; fill: rgb(13, 8, 135); fill-opacity: 1;\"/><path class=\"point\" transform=\"translate(256.5,242.84)\" d=\"M3,0A3,3 0 1,1 0,-3A3,3 0 0,1 3,0Z\" style=\"opacity: 1; stroke-width: 0px; fill: rgb(13, 8, 135); fill-opacity: 1;\"/><path class=\"point\" transform=\"translate(256.5,242.43)\" d=\"M3,0A3,3 0 1,1 0,-3A3,3 0 0,1 3,0Z\" style=\"opacity: 1; stroke-width: 0px; fill: rgb(13, 8, 135); fill-opacity: 1;\"/><path class=\"point\" transform=\"translate(256.5,242.02)\" d=\"M3,0A3,3 0 1,1 0,-3A3,3 0 0,1 3,0Z\" style=\"opacity: 1; stroke-width: 0px; fill: rgb(13, 8, 135); fill-opacity: 1;\"/><path class=\"point\" transform=\"translate(256.5,241.61)\" d=\"M3,0A3,3 0 1,1 0,-3A3,3 0 0,1 3,0Z\" style=\"opacity: 1; stroke-width: 0px; fill: rgb(13, 8, 135); fill-opacity: 1;\"/><path class=\"point\" transform=\"translate(256.5,241.2)\" d=\"M3,0A3,3 0 1,1 0,-3A3,3 0 0,1 3,0Z\" style=\"opacity: 1; stroke-width: 0px; fill: rgb(13, 8, 135); fill-opacity: 1;\"/><path class=\"point\" transform=\"translate(256.5,240.79)\" d=\"M3,0A3,3 0 1,1 0,-3A3,3 0 0,1 3,0Z\" style=\"opacity: 1; stroke-width: 0px; fill: rgb(13, 8, 135); fill-opacity: 1;\"/><path class=\"point\" transform=\"translate(256.5,240.38)\" d=\"M3,0A3,3 0 1,1 0,-3A3,3 0 0,1 3,0Z\" style=\"opacity: 1; stroke-width: 0px; fill: rgb(13, 8, 135); fill-opacity: 1;\"/><path class=\"point\" transform=\"translate(256.5,239.97)\" d=\"M3,0A3,3 0 1,1 0,-3A3,3 0 0,1 3,0Z\" style=\"opacity: 1; stroke-width: 0px; fill: rgb(13, 8, 135); fill-opacity: 1;\"/><path class=\"point\" transform=\"translate(256.5,239.56)\" d=\"M3,0A3,3 0 1,1 0,-3A3,3 0 0,1 3,0Z\" style=\"opacity: 1; stroke-width: 0px; fill: rgb(13, 8, 135); fill-opacity: 1;\"/><path class=\"point\" transform=\"translate(256.5,239.15)\" d=\"M3,0A3,3 0 1,1 0,-3A3,3 0 0,1 3,0Z\" style=\"opacity: 1; stroke-width: 0px; fill: rgb(13, 8, 135); fill-opacity: 1;\"/><path class=\"point\" transform=\"translate(256.5,238.74)\" d=\"M3,0A3,3 0 1,1 0,-3A3,3 0 0,1 3,0Z\" style=\"opacity: 1; stroke-width: 0px; fill: rgb(13, 8, 135); fill-opacity: 1;\"/><path class=\"point\" transform=\"translate(256.5,238.33)\" d=\"M3,0A3,3 0 1,1 0,-3A3,3 0 0,1 3,0Z\" style=\"opacity: 1; stroke-width: 0px; fill: rgb(13, 8, 135); fill-opacity: 1;\"/><path class=\"point\" transform=\"translate(256.5,237.92)\" d=\"M3,0A3,3 0 1,1 0,-3A3,3 0 0,1 3,0Z\" style=\"opacity: 1; stroke-width: 0px; fill: rgb(13, 8, 135); fill-opacity: 1;\"/><path class=\"point\" transform=\"translate(256.5,237.51)\" d=\"M3,0A3,3 0 1,1 0,-3A3,3 0 0,1 3,0Z\" style=\"opacity: 1; stroke-width: 0px; fill: rgb(13, 8, 135); fill-opacity: 1;\"/><path class=\"point\" transform=\"translate(256.5,237.11)\" d=\"M3,0A3,3 0 1,1 0,-3A3,3 0 0,1 3,0Z\" style=\"opacity: 1; stroke-width: 0px; fill: rgb(13, 8, 135); fill-opacity: 1;\"/><path class=\"point\" transform=\"translate(256.5,236.7)\" d=\"M3,0A3,3 0 1,1 0,-3A3,3 0 0,1 3,0Z\" style=\"opacity: 1; stroke-width: 0px; fill: rgb(13, 8, 135); fill-opacity: 1;\"/><path class=\"point\" transform=\"translate(256.5,236.29)\" d=\"M3,0A3,3 0 1,1 0,-3A3,3 0 0,1 3,0Z\" style=\"opacity: 1; stroke-width: 0px; fill: rgb(13, 8, 135); fill-opacity: 1;\"/><path class=\"point\" transform=\"translate(256.5,235.88)\" d=\"M3,0A3,3 0 1,1 0,-3A3,3 0 0,1 3,0Z\" style=\"opacity: 1; stroke-width: 0px; fill: rgb(13, 8, 135); fill-opacity: 1;\"/><path class=\"point\" transform=\"translate(256.5,235.47)\" d=\"M3,0A3,3 0 1,1 0,-3A3,3 0 0,1 3,0Z\" style=\"opacity: 1; stroke-width: 0px; fill: rgb(13, 8, 135); fill-opacity: 1;\"/><path class=\"point\" transform=\"translate(256.5,235.06)\" d=\"M3,0A3,3 0 1,1 0,-3A3,3 0 0,1 3,0Z\" style=\"opacity: 1; stroke-width: 0px; fill: rgb(13, 8, 135); fill-opacity: 1;\"/><path class=\"point\" transform=\"translate(256.5,234.65)\" d=\"M3,0A3,3 0 1,1 0,-3A3,3 0 0,1 3,0Z\" style=\"opacity: 1; stroke-width: 0px; fill: rgb(13, 8, 135); fill-opacity: 1;\"/><path class=\"point\" transform=\"translate(256.5,234.24)\" d=\"M3,0A3,3 0 1,1 0,-3A3,3 0 0,1 3,0Z\" style=\"opacity: 1; stroke-width: 0px; fill: rgb(13, 8, 135); fill-opacity: 1;\"/><path class=\"point\" transform=\"translate(256.5,233.83)\" d=\"M3,0A3,3 0 1,1 0,-3A3,3 0 0,1 3,0Z\" style=\"opacity: 1; stroke-width: 0px; fill: rgb(13, 8, 135); fill-opacity: 1;\"/><path class=\"point\" transform=\"translate(256.5,233.42)\" d=\"M3,0A3,3 0 1,1 0,-3A3,3 0 0,1 3,0Z\" style=\"opacity: 1; stroke-width: 0px; fill: rgb(13, 8, 135); fill-opacity: 1;\"/><path class=\"point\" transform=\"translate(256.5,233.01)\" d=\"M3,0A3,3 0 1,1 0,-3A3,3 0 0,1 3,0Z\" style=\"opacity: 1; stroke-width: 0px; fill: rgb(13, 8, 135); fill-opacity: 1;\"/><path class=\"point\" transform=\"translate(256.5,232.6)\" d=\"M3,0A3,3 0 1,1 0,-3A3,3 0 0,1 3,0Z\" style=\"opacity: 1; stroke-width: 0px; fill: rgb(13, 8, 135); fill-opacity: 1;\"/><path class=\"point\" transform=\"translate(256.5,232.19)\" d=\"M3,0A3,3 0 1,1 0,-3A3,3 0 0,1 3,0Z\" style=\"opacity: 1; stroke-width: 0px; fill: rgb(13, 8, 135); fill-opacity: 1;\"/><path class=\"point\" transform=\"translate(256.5,231.78)\" d=\"M3,0A3,3 0 1,1 0,-3A3,3 0 0,1 3,0Z\" style=\"opacity: 1; stroke-width: 0px; fill: rgb(13, 8, 135); fill-opacity: 1;\"/><path class=\"point\" transform=\"translate(256.5,231.37)\" d=\"M3,0A3,3 0 1,1 0,-3A3,3 0 0,1 3,0Z\" style=\"opacity: 1; stroke-width: 0px; fill: rgb(13, 8, 135); fill-opacity: 1;\"/><path class=\"point\" transform=\"translate(256.5,230.96)\" d=\"M3,0A3,3 0 1,1 0,-3A3,3 0 0,1 3,0Z\" style=\"opacity: 1; stroke-width: 0px; fill: rgb(13, 8, 135); fill-opacity: 1;\"/><path class=\"point\" transform=\"translate(256.5,230.55)\" d=\"M3,0A3,3 0 1,1 0,-3A3,3 0 0,1 3,0Z\" style=\"opacity: 1; stroke-width: 0px; fill: rgb(13, 8, 135); fill-opacity: 1;\"/><path class=\"point\" transform=\"translate(256.5,230.14)\" d=\"M3,0A3,3 0 1,1 0,-3A3,3 0 0,1 3,0Z\" style=\"opacity: 1; stroke-width: 0px; fill: rgb(13, 8, 135); fill-opacity: 1;\"/><path class=\"point\" transform=\"translate(256.5,229.73)\" d=\"M3,0A3,3 0 1,1 0,-3A3,3 0 0,1 3,0Z\" style=\"opacity: 1; stroke-width: 0px; fill: rgb(13, 8, 135); fill-opacity: 1;\"/><path class=\"point\" transform=\"translate(256.5,229.32)\" d=\"M3,0A3,3 0 1,1 0,-3A3,3 0 0,1 3,0Z\" style=\"opacity: 1; stroke-width: 0px; fill: rgb(13, 8, 135); fill-opacity: 1;\"/><path class=\"point\" transform=\"translate(256.5,228.92)\" d=\"M3,0A3,3 0 1,1 0,-3A3,3 0 0,1 3,0Z\" style=\"opacity: 1; stroke-width: 0px; fill: rgb(13, 8, 135); fill-opacity: 1;\"/><path class=\"point\" transform=\"translate(256.5,228.51)\" d=\"M3,0A3,3 0 1,1 0,-3A3,3 0 0,1 3,0Z\" style=\"opacity: 1; stroke-width: 0px; fill: rgb(13, 8, 135); fill-opacity: 1;\"/><path class=\"point\" transform=\"translate(256.5,228.1)\" d=\"M3,0A3,3 0 1,1 0,-3A3,3 0 0,1 3,0Z\" style=\"opacity: 1; stroke-width: 0px; fill: rgb(13, 8, 135); fill-opacity: 1;\"/><path class=\"point\" transform=\"translate(256.5,227.69)\" d=\"M3,0A3,3 0 1,1 0,-3A3,3 0 0,1 3,0Z\" style=\"opacity: 1; stroke-width: 0px; fill: rgb(13, 8, 135); fill-opacity: 1;\"/><path class=\"point\" transform=\"translate(256.5,227.28)\" d=\"M3,0A3,3 0 1,1 0,-3A3,3 0 0,1 3,0Z\" style=\"opacity: 1; stroke-width: 0px; fill: rgb(13, 8, 135); fill-opacity: 1;\"/><path class=\"point\" transform=\"translate(256.5,226.87)\" d=\"M3,0A3,3 0 1,1 0,-3A3,3 0 0,1 3,0Z\" style=\"opacity: 1; stroke-width: 0px; fill: rgb(13, 8, 135); fill-opacity: 1;\"/><path class=\"point\" transform=\"translate(256.5,226.46)\" d=\"M3,0A3,3 0 1,1 0,-3A3,3 0 0,1 3,0Z\" style=\"opacity: 1; stroke-width: 0px; fill: rgb(13, 8, 135); fill-opacity: 1;\"/><path class=\"point\" transform=\"translate(256.5,226.05)\" d=\"M3,0A3,3 0 1,1 0,-3A3,3 0 0,1 3,0Z\" style=\"opacity: 1; stroke-width: 0px; fill: rgb(13, 8, 135); fill-opacity: 1;\"/><path class=\"point\" transform=\"translate(256.5,225.64)\" d=\"M3,0A3,3 0 1,1 0,-3A3,3 0 0,1 3,0Z\" style=\"opacity: 1; stroke-width: 0px; fill: rgb(13, 8, 135); fill-opacity: 1;\"/><path class=\"point\" transform=\"translate(256.5,225.23)\" d=\"M3,0A3,3 0 1,1 0,-3A3,3 0 0,1 3,0Z\" style=\"opacity: 1; stroke-width: 0px; fill: rgb(13, 8, 135); fill-opacity: 1;\"/><path class=\"point\" transform=\"translate(256.5,224.82)\" d=\"M3,0A3,3 0 1,1 0,-3A3,3 0 0,1 3,0Z\" style=\"opacity: 1; stroke-width: 0px; fill: rgb(13, 8, 135); fill-opacity: 1;\"/><path class=\"point\" transform=\"translate(256.5,224.41)\" d=\"M3,0A3,3 0 1,1 0,-3A3,3 0 0,1 3,0Z\" style=\"opacity: 1; stroke-width: 0px; fill: rgb(13, 8, 135); fill-opacity: 1;\"/><path class=\"point\" transform=\"translate(483.6,224)\" d=\"M3,0A3,3 0 1,1 0,-3A3,3 0 0,1 3,0Z\" style=\"opacity: 1; stroke-width: 0px; fill: rgb(240, 249, 33); fill-opacity: 1;\"/><path class=\"point\" transform=\"translate(483.6,223.59)\" d=\"M3,0A3,3 0 1,1 0,-3A3,3 0 0,1 3,0Z\" style=\"opacity: 1; stroke-width: 0px; fill: rgb(240, 249, 33); fill-opacity: 1;\"/><path class=\"point\" transform=\"translate(483.6,223.18)\" d=\"M3,0A3,3 0 1,1 0,-3A3,3 0 0,1 3,0Z\" style=\"opacity: 1; stroke-width: 0px; fill: rgb(240, 249, 33); fill-opacity: 1;\"/><path class=\"point\" transform=\"translate(29.4,222.77)\" d=\"M3,0A3,3 0 1,1 0,-3A3,3 0 0,1 3,0Z\" style=\"opacity: 1; stroke-width: 0px; fill: rgb(240, 249, 33); fill-opacity: 1;\"/><path class=\"point\" transform=\"translate(29.4,222.36)\" d=\"M3,0A3,3 0 1,1 0,-3A3,3 0 0,1 3,0Z\" style=\"opacity: 1; stroke-width: 0px; fill: rgb(240, 249, 33); fill-opacity: 1;\"/><path class=\"point\" transform=\"translate(29.4,221.95)\" d=\"M3,0A3,3 0 1,1 0,-3A3,3 0 0,1 3,0Z\" style=\"opacity: 1; stroke-width: 0px; fill: rgb(240, 249, 33); fill-opacity: 1;\"/><path class=\"point\" transform=\"translate(256.5,221.54)\" d=\"M3,0A3,3 0 1,1 0,-3A3,3 0 0,1 3,0Z\" style=\"opacity: 1; stroke-width: 0px; fill: rgb(240, 249, 33); fill-opacity: 1;\"/><path class=\"point\" transform=\"translate(256.5,221.13)\" d=\"M3,0A3,3 0 1,1 0,-3A3,3 0 0,1 3,0Z\" style=\"opacity: 1; stroke-width: 0px; fill: rgb(13, 8, 135); fill-opacity: 1;\"/><path class=\"point\" transform=\"translate(256.5,220.73)\" d=\"M3,0A3,3 0 1,1 0,-3A3,3 0 0,1 3,0Z\" style=\"opacity: 1; stroke-width: 0px; fill: rgb(13, 8, 135); fill-opacity: 1;\"/><path class=\"point\" transform=\"translate(256.5,220.32)\" d=\"M3,0A3,3 0 1,1 0,-3A3,3 0 0,1 3,0Z\" style=\"opacity: 1; stroke-width: 0px; fill: rgb(13, 8, 135); fill-opacity: 1;\"/><path class=\"point\" transform=\"translate(256.5,219.91)\" d=\"M3,0A3,3 0 1,1 0,-3A3,3 0 0,1 3,0Z\" style=\"opacity: 1; stroke-width: 0px; fill: rgb(13, 8, 135); fill-opacity: 1;\"/><path class=\"point\" transform=\"translate(256.5,219.5)\" d=\"M3,0A3,3 0 1,1 0,-3A3,3 0 0,1 3,0Z\" style=\"opacity: 1; stroke-width: 0px; fill: rgb(13, 8, 135); fill-opacity: 1;\"/><path class=\"point\" transform=\"translate(256.5,219.09)\" d=\"M3,0A3,3 0 1,1 0,-3A3,3 0 0,1 3,0Z\" style=\"opacity: 1; stroke-width: 0px; fill: rgb(13, 8, 135); fill-opacity: 1;\"/><path class=\"point\" transform=\"translate(256.5,218.68)\" d=\"M3,0A3,3 0 1,1 0,-3A3,3 0 0,1 3,0Z\" style=\"opacity: 1; stroke-width: 0px; fill: rgb(240, 249, 33); fill-opacity: 1;\"/><path class=\"point\" transform=\"translate(256.5,218.27)\" d=\"M3,0A3,3 0 1,1 0,-3A3,3 0 0,1 3,0Z\" style=\"opacity: 1; stroke-width: 0px; fill: rgb(13, 8, 135); fill-opacity: 1;\"/><path class=\"point\" transform=\"translate(256.5,217.86)\" d=\"M3,0A3,3 0 1,1 0,-3A3,3 0 0,1 3,0Z\" style=\"opacity: 1; stroke-width: 0px; fill: rgb(13, 8, 135); fill-opacity: 1;\"/><path class=\"point\" transform=\"translate(256.5,217.45)\" d=\"M3,0A3,3 0 1,1 0,-3A3,3 0 0,1 3,0Z\" style=\"opacity: 1; stroke-width: 0px; fill: rgb(13, 8, 135); fill-opacity: 1;\"/><path class=\"point\" transform=\"translate(256.5,217.04)\" d=\"M3,0A3,3 0 1,1 0,-3A3,3 0 0,1 3,0Z\" style=\"opacity: 1; stroke-width: 0px; fill: rgb(13, 8, 135); fill-opacity: 1;\"/><path class=\"point\" transform=\"translate(256.5,216.63)\" d=\"M3,0A3,3 0 1,1 0,-3A3,3 0 0,1 3,0Z\" style=\"opacity: 1; stroke-width: 0px; fill: rgb(240, 249, 33); fill-opacity: 1;\"/><path class=\"point\" transform=\"translate(256.5,216.22)\" d=\"M3,0A3,3 0 1,1 0,-3A3,3 0 0,1 3,0Z\" style=\"opacity: 1; stroke-width: 0px; fill: rgb(13, 8, 135); fill-opacity: 1;\"/><path class=\"point\" transform=\"translate(256.5,215.81)\" d=\"M3,0A3,3 0 1,1 0,-3A3,3 0 0,1 3,0Z\" style=\"opacity: 1; stroke-width: 0px; fill: rgb(13, 8, 135); fill-opacity: 1;\"/><path class=\"point\" transform=\"translate(256.5,215.4)\" d=\"M3,0A3,3 0 1,1 0,-3A3,3 0 0,1 3,0Z\" style=\"opacity: 1; stroke-width: 0px; fill: rgb(13, 8, 135); fill-opacity: 1;\"/><path class=\"point\" transform=\"translate(256.5,214.99)\" d=\"M3,0A3,3 0 1,1 0,-3A3,3 0 0,1 3,0Z\" style=\"opacity: 1; stroke-width: 0px; fill: rgb(13, 8, 135); fill-opacity: 1;\"/><path class=\"point\" transform=\"translate(256.5,214.58)\" d=\"M3,0A3,3 0 1,1 0,-3A3,3 0 0,1 3,0Z\" style=\"opacity: 1; stroke-width: 0px; fill: rgb(13, 8, 135); fill-opacity: 1;\"/><path class=\"point\" transform=\"translate(256.5,214.17)\" d=\"M3,0A3,3 0 1,1 0,-3A3,3 0 0,1 3,0Z\" style=\"opacity: 1; stroke-width: 0px; fill: rgb(240, 249, 33); fill-opacity: 1;\"/><path class=\"point\" transform=\"translate(256.5,213.76)\" d=\"M3,0A3,3 0 1,1 0,-3A3,3 0 0,1 3,0Z\" style=\"opacity: 1; stroke-width: 0px; fill: rgb(13, 8, 135); fill-opacity: 1;\"/><path class=\"point\" transform=\"translate(256.5,213.35)\" d=\"M3,0A3,3 0 1,1 0,-3A3,3 0 0,1 3,0Z\" style=\"opacity: 1; stroke-width: 0px; fill: rgb(240, 249, 33); fill-opacity: 1;\"/><path class=\"point\" transform=\"translate(256.5,212.94)\" d=\"M3,0A3,3 0 1,1 0,-3A3,3 0 0,1 3,0Z\" style=\"opacity: 1; stroke-width: 0px; fill: rgb(13, 8, 135); fill-opacity: 1;\"/><path class=\"point\" transform=\"translate(256.5,212.54)\" d=\"M3,0A3,3 0 1,1 0,-3A3,3 0 0,1 3,0Z\" style=\"opacity: 1; stroke-width: 0px; fill: rgb(13, 8, 135); fill-opacity: 1;\"/><path class=\"point\" transform=\"translate(256.5,212.13)\" d=\"M3,0A3,3 0 1,1 0,-3A3,3 0 0,1 3,0Z\" style=\"opacity: 1; stroke-width: 0px; fill: rgb(13, 8, 135); fill-opacity: 1;\"/><path class=\"point\" transform=\"translate(256.5,211.72)\" d=\"M3,0A3,3 0 1,1 0,-3A3,3 0 0,1 3,0Z\" style=\"opacity: 1; stroke-width: 0px; fill: rgb(13, 8, 135); fill-opacity: 1;\"/><path class=\"point\" transform=\"translate(256.5,211.31)\" d=\"M3,0A3,3 0 1,1 0,-3A3,3 0 0,1 3,0Z\" style=\"opacity: 1; stroke-width: 0px; fill: rgb(13, 8, 135); fill-opacity: 1;\"/><path class=\"point\" transform=\"translate(256.5,210.9)\" d=\"M3,0A3,3 0 1,1 0,-3A3,3 0 0,1 3,0Z\" style=\"opacity: 1; stroke-width: 0px; fill: rgb(13, 8, 135); fill-opacity: 1;\"/><path class=\"point\" transform=\"translate(256.5,210.49)\" d=\"M3,0A3,3 0 1,1 0,-3A3,3 0 0,1 3,0Z\" style=\"opacity: 1; stroke-width: 0px; fill: rgb(13, 8, 135); fill-opacity: 1;\"/><path class=\"point\" transform=\"translate(256.5,210.08)\" d=\"M3,0A3,3 0 1,1 0,-3A3,3 0 0,1 3,0Z\" style=\"opacity: 1; stroke-width: 0px; fill: rgb(13, 8, 135); fill-opacity: 1;\"/><path class=\"point\" transform=\"translate(256.5,209.67)\" d=\"M3,0A3,3 0 1,1 0,-3A3,3 0 0,1 3,0Z\" style=\"opacity: 1; stroke-width: 0px; fill: rgb(240, 249, 33); fill-opacity: 1;\"/><path class=\"point\" transform=\"translate(256.5,209.26)\" d=\"M3,0A3,3 0 1,1 0,-3A3,3 0 0,1 3,0Z\" style=\"opacity: 1; stroke-width: 0px; fill: rgb(13, 8, 135); fill-opacity: 1;\"/><path class=\"point\" transform=\"translate(256.5,208.85)\" d=\"M3,0A3,3 0 1,1 0,-3A3,3 0 0,1 3,0Z\" style=\"opacity: 1; stroke-width: 0px; fill: rgb(13, 8, 135); fill-opacity: 1;\"/><path class=\"point\" transform=\"translate(256.5,208.44)\" d=\"M3,0A3,3 0 1,1 0,-3A3,3 0 0,1 3,0Z\" style=\"opacity: 1; stroke-width: 0px; fill: rgb(13, 8, 135); fill-opacity: 1;\"/><path class=\"point\" transform=\"translate(256.5,208.03)\" d=\"M3,0A3,3 0 1,1 0,-3A3,3 0 0,1 3,0Z\" style=\"opacity: 1; stroke-width: 0px; fill: rgb(13, 8, 135); fill-opacity: 1;\"/><path class=\"point\" transform=\"translate(256.5,207.62)\" d=\"M3,0A3,3 0 1,1 0,-3A3,3 0 0,1 3,0Z\" style=\"opacity: 1; stroke-width: 0px; fill: rgb(13, 8, 135); fill-opacity: 1;\"/><path class=\"point\" transform=\"translate(256.5,207.21)\" d=\"M3,0A3,3 0 1,1 0,-3A3,3 0 0,1 3,0Z\" style=\"opacity: 1; stroke-width: 0px; fill: rgb(13, 8, 135); fill-opacity: 1;\"/><path class=\"point\" transform=\"translate(256.5,206.8)\" d=\"M3,0A3,3 0 1,1 0,-3A3,3 0 0,1 3,0Z\" style=\"opacity: 1; stroke-width: 0px; fill: rgb(240, 249, 33); fill-opacity: 1;\"/><path class=\"point\" transform=\"translate(256.5,206.39)\" d=\"M3,0A3,3 0 1,1 0,-3A3,3 0 0,1 3,0Z\" style=\"opacity: 1; stroke-width: 0px; fill: rgb(13, 8, 135); fill-opacity: 1;\"/><path class=\"point\" transform=\"translate(256.5,205.98)\" d=\"M3,0A3,3 0 1,1 0,-3A3,3 0 0,1 3,0Z\" style=\"opacity: 1; stroke-width: 0px; fill: rgb(13, 8, 135); fill-opacity: 1;\"/><path class=\"point\" transform=\"translate(256.5,205.57)\" d=\"M3,0A3,3 0 1,1 0,-3A3,3 0 0,1 3,0Z\" style=\"opacity: 1; stroke-width: 0px; fill: rgb(13, 8, 135); fill-opacity: 1;\"/><path class=\"point\" transform=\"translate(256.5,205.16)\" d=\"M3,0A3,3 0 1,1 0,-3A3,3 0 0,1 3,0Z\" style=\"opacity: 1; stroke-width: 0px; fill: rgb(13, 8, 135); fill-opacity: 1;\"/><path class=\"point\" transform=\"translate(256.5,204.75)\" d=\"M3,0A3,3 0 1,1 0,-3A3,3 0 0,1 3,0Z\" style=\"opacity: 1; stroke-width: 0px; fill: rgb(13, 8, 135); fill-opacity: 1;\"/><path class=\"point\" transform=\"translate(256.5,204.35)\" d=\"M3,0A3,3 0 1,1 0,-3A3,3 0 0,1 3,0Z\" style=\"opacity: 1; stroke-width: 0px; fill: rgb(240, 249, 33); fill-opacity: 1;\"/><path class=\"point\" transform=\"translate(256.5,203.94)\" d=\"M3,0A3,3 0 1,1 0,-3A3,3 0 0,1 3,0Z\" style=\"opacity: 1; stroke-width: 0px; fill: rgb(13, 8, 135); fill-opacity: 1;\"/><path class=\"point\" transform=\"translate(256.5,203.53)\" d=\"M3,0A3,3 0 1,1 0,-3A3,3 0 0,1 3,0Z\" style=\"opacity: 1; stroke-width: 0px; fill: rgb(13, 8, 135); fill-opacity: 1;\"/><path class=\"point\" transform=\"translate(256.5,203.12)\" d=\"M3,0A3,3 0 1,1 0,-3A3,3 0 0,1 3,0Z\" style=\"opacity: 1; stroke-width: 0px; fill: rgb(13, 8, 135); fill-opacity: 1;\"/><path class=\"point\" transform=\"translate(256.5,202.71)\" d=\"M3,0A3,3 0 1,1 0,-3A3,3 0 0,1 3,0Z\" style=\"opacity: 1; stroke-width: 0px; fill: rgb(13, 8, 135); fill-opacity: 1;\"/><path class=\"point\" transform=\"translate(256.5,202.3)\" d=\"M3,0A3,3 0 1,1 0,-3A3,3 0 0,1 3,0Z\" style=\"opacity: 1; stroke-width: 0px; fill: rgb(13, 8, 135); fill-opacity: 1;\"/><path class=\"point\" transform=\"translate(256.5,201.89)\" d=\"M3,0A3,3 0 1,1 0,-3A3,3 0 0,1 3,0Z\" style=\"opacity: 1; stroke-width: 0px; fill: rgb(13, 8, 135); fill-opacity: 1;\"/><path class=\"point\" transform=\"translate(256.5,201.48)\" d=\"M3,0A3,3 0 1,1 0,-3A3,3 0 0,1 3,0Z\" style=\"opacity: 1; stroke-width: 0px; fill: rgb(240, 249, 33); fill-opacity: 1;\"/><path class=\"point\" transform=\"translate(256.5,201.07)\" d=\"M3,0A3,3 0 1,1 0,-3A3,3 0 0,1 3,0Z\" style=\"opacity: 1; stroke-width: 0px; fill: rgb(13, 8, 135); fill-opacity: 1;\"/><path class=\"point\" transform=\"translate(256.5,200.66)\" d=\"M3,0A3,3 0 1,1 0,-3A3,3 0 0,1 3,0Z\" style=\"opacity: 1; stroke-width: 0px; fill: rgb(13, 8, 135); fill-opacity: 1;\"/><path class=\"point\" transform=\"translate(256.5,200.25)\" d=\"M3,0A3,3 0 1,1 0,-3A3,3 0 0,1 3,0Z\" style=\"opacity: 1; stroke-width: 0px; fill: rgb(13, 8, 135); fill-opacity: 1;\"/><path class=\"point\" transform=\"translate(256.5,199.84)\" d=\"M3,0A3,3 0 1,1 0,-3A3,3 0 0,1 3,0Z\" style=\"opacity: 1; stroke-width: 0px; fill: rgb(13, 8, 135); fill-opacity: 1;\"/><path class=\"point\" transform=\"translate(256.5,199.43)\" d=\"M3,0A3,3 0 1,1 0,-3A3,3 0 0,1 3,0Z\" style=\"opacity: 1; stroke-width: 0px; fill: rgb(13, 8, 135); fill-opacity: 1;\"/><path class=\"point\" transform=\"translate(256.5,199.02)\" d=\"M3,0A3,3 0 1,1 0,-3A3,3 0 0,1 3,0Z\" style=\"opacity: 1; stroke-width: 0px; fill: rgb(13, 8, 135); fill-opacity: 1;\"/><path class=\"point\" transform=\"translate(256.5,198.61)\" d=\"M3,0A3,3 0 1,1 0,-3A3,3 0 0,1 3,0Z\" style=\"opacity: 1; stroke-width: 0px; fill: rgb(13, 8, 135); fill-opacity: 1;\"/><path class=\"point\" transform=\"translate(256.5,198.2)\" d=\"M3,0A3,3 0 1,1 0,-3A3,3 0 0,1 3,0Z\" style=\"opacity: 1; stroke-width: 0px; fill: rgb(13, 8, 135); fill-opacity: 1;\"/><path class=\"point\" transform=\"translate(256.5,197.79)\" d=\"M3,0A3,3 0 1,1 0,-3A3,3 0 0,1 3,0Z\" style=\"opacity: 1; stroke-width: 0px; fill: rgb(13, 8, 135); fill-opacity: 1;\"/><path class=\"point\" transform=\"translate(256.5,197.38)\" d=\"M3,0A3,3 0 1,1 0,-3A3,3 0 0,1 3,0Z\" style=\"opacity: 1; stroke-width: 0px; fill: rgb(13, 8, 135); fill-opacity: 1;\"/><path class=\"point\" transform=\"translate(256.5,196.97)\" d=\"M3,0A3,3 0 1,1 0,-3A3,3 0 0,1 3,0Z\" style=\"opacity: 1; stroke-width: 0px; fill: rgb(13, 8, 135); fill-opacity: 1;\"/><path class=\"point\" transform=\"translate(256.5,196.56)\" d=\"M3,0A3,3 0 1,1 0,-3A3,3 0 0,1 3,0Z\" style=\"opacity: 1; stroke-width: 0px; fill: rgb(13, 8, 135); fill-opacity: 1;\"/><path class=\"point\" transform=\"translate(256.5,196.15)\" d=\"M3,0A3,3 0 1,1 0,-3A3,3 0 0,1 3,0Z\" style=\"opacity: 1; stroke-width: 0px; fill: rgb(13, 8, 135); fill-opacity: 1;\"/><path class=\"point\" transform=\"translate(256.5,195.75)\" d=\"M3,0A3,3 0 1,1 0,-3A3,3 0 0,1 3,0Z\" style=\"opacity: 1; stroke-width: 0px; fill: rgb(13, 8, 135); fill-opacity: 1;\"/><path class=\"point\" transform=\"translate(256.5,195.34)\" d=\"M3,0A3,3 0 1,1 0,-3A3,3 0 0,1 3,0Z\" style=\"opacity: 1; stroke-width: 0px; fill: rgb(13, 8, 135); fill-opacity: 1;\"/><path class=\"point\" transform=\"translate(256.5,194.93)\" d=\"M3,0A3,3 0 1,1 0,-3A3,3 0 0,1 3,0Z\" style=\"opacity: 1; stroke-width: 0px; fill: rgb(13, 8, 135); fill-opacity: 1;\"/><path class=\"point\" transform=\"translate(256.5,194.52)\" d=\"M3,0A3,3 0 1,1 0,-3A3,3 0 0,1 3,0Z\" style=\"opacity: 1; stroke-width: 0px; fill: rgb(13, 8, 135); fill-opacity: 1;\"/><path class=\"point\" transform=\"translate(256.5,194.11)\" d=\"M3,0A3,3 0 1,1 0,-3A3,3 0 0,1 3,0Z\" style=\"opacity: 1; stroke-width: 0px; fill: rgb(13, 8, 135); fill-opacity: 1;\"/><path class=\"point\" transform=\"translate(256.5,193.7)\" d=\"M3,0A3,3 0 1,1 0,-3A3,3 0 0,1 3,0Z\" style=\"opacity: 1; stroke-width: 0px; fill: rgb(13, 8, 135); fill-opacity: 1;\"/><path class=\"point\" transform=\"translate(256.5,193.29)\" d=\"M3,0A3,3 0 1,1 0,-3A3,3 0 0,1 3,0Z\" style=\"opacity: 1; stroke-width: 0px; fill: rgb(13, 8, 135); fill-opacity: 1;\"/><path class=\"point\" transform=\"translate(256.5,192.88)\" d=\"M3,0A3,3 0 1,1 0,-3A3,3 0 0,1 3,0Z\" style=\"opacity: 1; stroke-width: 0px; fill: rgb(13, 8, 135); fill-opacity: 1;\"/><path class=\"point\" transform=\"translate(256.5,192.47)\" d=\"M3,0A3,3 0 1,1 0,-3A3,3 0 0,1 3,0Z\" style=\"opacity: 1; stroke-width: 0px; fill: rgb(13, 8, 135); fill-opacity: 1;\"/><path class=\"point\" transform=\"translate(256.5,192.06)\" d=\"M3,0A3,3 0 1,1 0,-3A3,3 0 0,1 3,0Z\" style=\"opacity: 1; stroke-width: 0px; fill: rgb(13, 8, 135); fill-opacity: 1;\"/><path class=\"point\" transform=\"translate(256.5,191.65)\" d=\"M3,0A3,3 0 1,1 0,-3A3,3 0 0,1 3,0Z\" style=\"opacity: 1; stroke-width: 0px; fill: rgb(13, 8, 135); fill-opacity: 1;\"/><path class=\"point\" transform=\"translate(256.5,191.24)\" d=\"M3,0A3,3 0 1,1 0,-3A3,3 0 0,1 3,0Z\" style=\"opacity: 1; stroke-width: 0px; fill: rgb(13, 8, 135); fill-opacity: 1;\"/><path class=\"point\" transform=\"translate(256.5,190.83)\" d=\"M3,0A3,3 0 1,1 0,-3A3,3 0 0,1 3,0Z\" style=\"opacity: 1; stroke-width: 0px; fill: rgb(13, 8, 135); fill-opacity: 1;\"/><path class=\"point\" transform=\"translate(256.5,190.42)\" d=\"M3,0A3,3 0 1,1 0,-3A3,3 0 0,1 3,0Z\" style=\"opacity: 1; stroke-width: 0px; fill: rgb(13, 8, 135); fill-opacity: 1;\"/><path class=\"point\" transform=\"translate(256.5,190.01)\" d=\"M3,0A3,3 0 1,1 0,-3A3,3 0 0,1 3,0Z\" style=\"opacity: 1; stroke-width: 0px; fill: rgb(13, 8, 135); fill-opacity: 1;\"/><path class=\"point\" transform=\"translate(256.5,189.6)\" d=\"M3,0A3,3 0 1,1 0,-3A3,3 0 0,1 3,0Z\" style=\"opacity: 1; stroke-width: 0px; fill: rgb(13, 8, 135); fill-opacity: 1;\"/><path class=\"point\" transform=\"translate(256.5,189.19)\" d=\"M3,0A3,3 0 1,1 0,-3A3,3 0 0,1 3,0Z\" style=\"opacity: 1; stroke-width: 0px; fill: rgb(13, 8, 135); fill-opacity: 1;\"/><path class=\"point\" transform=\"translate(256.5,188.78)\" d=\"M3,0A3,3 0 1,1 0,-3A3,3 0 0,1 3,0Z\" style=\"opacity: 1; stroke-width: 0px; fill: rgb(13, 8, 135); fill-opacity: 1;\"/><path class=\"point\" transform=\"translate(256.5,188.37)\" d=\"M3,0A3,3 0 1,1 0,-3A3,3 0 0,1 3,0Z\" style=\"opacity: 1; stroke-width: 0px; fill: rgb(13, 8, 135); fill-opacity: 1;\"/><path class=\"point\" transform=\"translate(256.5,187.96)\" d=\"M3,0A3,3 0 1,1 0,-3A3,3 0 0,1 3,0Z\" style=\"opacity: 1; stroke-width: 0px; fill: rgb(13, 8, 135); fill-opacity: 1;\"/><path class=\"point\" transform=\"translate(256.5,187.56)\" d=\"M3,0A3,3 0 1,1 0,-3A3,3 0 0,1 3,0Z\" style=\"opacity: 1; stroke-width: 0px; fill: rgb(13, 8, 135); fill-opacity: 1;\"/><path class=\"point\" transform=\"translate(256.5,187.15)\" d=\"M3,0A3,3 0 1,1 0,-3A3,3 0 0,1 3,0Z\" style=\"opacity: 1; stroke-width: 0px; fill: rgb(13, 8, 135); fill-opacity: 1;\"/><path class=\"point\" transform=\"translate(256.5,186.74)\" d=\"M3,0A3,3 0 1,1 0,-3A3,3 0 0,1 3,0Z\" style=\"opacity: 1; stroke-width: 0px; fill: rgb(13, 8, 135); fill-opacity: 1;\"/><path class=\"point\" transform=\"translate(256.5,186.33)\" d=\"M3,0A3,3 0 1,1 0,-3A3,3 0 0,1 3,0Z\" style=\"opacity: 1; stroke-width: 0px; fill: rgb(13, 8, 135); fill-opacity: 1;\"/><path class=\"point\" transform=\"translate(256.5,185.92)\" d=\"M3,0A3,3 0 1,1 0,-3A3,3 0 0,1 3,0Z\" style=\"opacity: 1; stroke-width: 0px; fill: rgb(13, 8, 135); fill-opacity: 1;\"/><path class=\"point\" transform=\"translate(256.5,185.51)\" d=\"M3,0A3,3 0 1,1 0,-3A3,3 0 0,1 3,0Z\" style=\"opacity: 1; stroke-width: 0px; fill: rgb(13, 8, 135); fill-opacity: 1;\"/><path class=\"point\" transform=\"translate(256.5,185.1)\" d=\"M3,0A3,3 0 1,1 0,-3A3,3 0 0,1 3,0Z\" style=\"opacity: 1; stroke-width: 0px; fill: rgb(13, 8, 135); fill-opacity: 1;\"/><path class=\"point\" transform=\"translate(256.5,184.69)\" d=\"M3,0A3,3 0 1,1 0,-3A3,3 0 0,1 3,0Z\" style=\"opacity: 1; stroke-width: 0px; fill: rgb(13, 8, 135); fill-opacity: 1;\"/><path class=\"point\" transform=\"translate(256.5,184.28)\" d=\"M3,0A3,3 0 1,1 0,-3A3,3 0 0,1 3,0Z\" style=\"opacity: 1; stroke-width: 0px; fill: rgb(13, 8, 135); fill-opacity: 1;\"/><path class=\"point\" transform=\"translate(256.5,183.87)\" d=\"M3,0A3,3 0 1,1 0,-3A3,3 0 0,1 3,0Z\" style=\"opacity: 1; stroke-width: 0px; fill: rgb(13, 8, 135); fill-opacity: 1;\"/><path class=\"point\" transform=\"translate(256.5,183.46)\" d=\"M3,0A3,3 0 1,1 0,-3A3,3 0 0,1 3,0Z\" style=\"opacity: 1; stroke-width: 0px; fill: rgb(13, 8, 135); fill-opacity: 1;\"/><path class=\"point\" transform=\"translate(256.5,183.05)\" d=\"M3,0A3,3 0 1,1 0,-3A3,3 0 0,1 3,0Z\" style=\"opacity: 1; stroke-width: 0px; fill: rgb(13, 8, 135); fill-opacity: 1;\"/><path class=\"point\" transform=\"translate(256.5,182.64)\" d=\"M3,0A3,3 0 1,1 0,-3A3,3 0 0,1 3,0Z\" style=\"opacity: 1; stroke-width: 0px; fill: rgb(13, 8, 135); fill-opacity: 1;\"/><path class=\"point\" transform=\"translate(256.5,182.23)\" d=\"M3,0A3,3 0 1,1 0,-3A3,3 0 0,1 3,0Z\" style=\"opacity: 1; stroke-width: 0px; fill: rgb(13, 8, 135); fill-opacity: 1;\"/><path class=\"point\" transform=\"translate(256.5,181.82)\" d=\"M3,0A3,3 0 1,1 0,-3A3,3 0 0,1 3,0Z\" style=\"opacity: 1; stroke-width: 0px; fill: rgb(13, 8, 135); fill-opacity: 1;\"/><path class=\"point\" transform=\"translate(256.5,181.41)\" d=\"M3,0A3,3 0 1,1 0,-3A3,3 0 0,1 3,0Z\" style=\"opacity: 1; stroke-width: 0px; fill: rgb(13, 8, 135); fill-opacity: 1;\"/><path class=\"point\" transform=\"translate(256.5,181)\" d=\"M3,0A3,3 0 1,1 0,-3A3,3 0 0,1 3,0Z\" style=\"opacity: 1; stroke-width: 0px; fill: rgb(13, 8, 135); fill-opacity: 1;\"/><path class=\"point\" transform=\"translate(256.5,180.59)\" d=\"M3,0A3,3 0 1,1 0,-3A3,3 0 0,1 3,0Z\" style=\"opacity: 1; stroke-width: 0px; fill: rgb(13, 8, 135); fill-opacity: 1;\"/><path class=\"point\" transform=\"translate(256.5,180.18)\" d=\"M3,0A3,3 0 1,1 0,-3A3,3 0 0,1 3,0Z\" style=\"opacity: 1; stroke-width: 0px; fill: rgb(13, 8, 135); fill-opacity: 1;\"/><path class=\"point\" transform=\"translate(256.5,179.77)\" d=\"M3,0A3,3 0 1,1 0,-3A3,3 0 0,1 3,0Z\" style=\"opacity: 1; stroke-width: 0px; fill: rgb(13, 8, 135); fill-opacity: 1;\"/><path class=\"point\" transform=\"translate(256.5,179.37)\" d=\"M3,0A3,3 0 1,1 0,-3A3,3 0 0,1 3,0Z\" style=\"opacity: 1; stroke-width: 0px; fill: rgb(13, 8, 135); fill-opacity: 1;\"/><path class=\"point\" transform=\"translate(256.5,178.96)\" d=\"M3,0A3,3 0 1,1 0,-3A3,3 0 0,1 3,0Z\" style=\"opacity: 1; stroke-width: 0px; fill: rgb(13, 8, 135); fill-opacity: 1;\"/><path class=\"point\" transform=\"translate(256.5,178.55)\" d=\"M3,0A3,3 0 1,1 0,-3A3,3 0 0,1 3,0Z\" style=\"opacity: 1; stroke-width: 0px; fill: rgb(13, 8, 135); fill-opacity: 1;\"/><path class=\"point\" transform=\"translate(256.5,178.14)\" d=\"M3,0A3,3 0 1,1 0,-3A3,3 0 0,1 3,0Z\" style=\"opacity: 1; stroke-width: 0px; fill: rgb(13, 8, 135); fill-opacity: 1;\"/><path class=\"point\" transform=\"translate(256.5,177.73)\" d=\"M3,0A3,3 0 1,1 0,-3A3,3 0 0,1 3,0Z\" style=\"opacity: 1; stroke-width: 0px; fill: rgb(13, 8, 135); fill-opacity: 1;\"/><path class=\"point\" transform=\"translate(256.5,177.32)\" d=\"M3,0A3,3 0 1,1 0,-3A3,3 0 0,1 3,0Z\" style=\"opacity: 1; stroke-width: 0px; fill: rgb(13, 8, 135); fill-opacity: 1;\"/><path class=\"point\" transform=\"translate(256.5,176.91)\" d=\"M3,0A3,3 0 1,1 0,-3A3,3 0 0,1 3,0Z\" style=\"opacity: 1; stroke-width: 0px; fill: rgb(13, 8, 135); fill-opacity: 1;\"/><path class=\"point\" transform=\"translate(256.5,176.5)\" d=\"M3,0A3,3 0 1,1 0,-3A3,3 0 0,1 3,0Z\" style=\"opacity: 1; stroke-width: 0px; fill: rgb(13, 8, 135); fill-opacity: 1;\"/><path class=\"point\" transform=\"translate(256.5,176.09)\" d=\"M3,0A3,3 0 1,1 0,-3A3,3 0 0,1 3,0Z\" style=\"opacity: 1; stroke-width: 0px; fill: rgb(13, 8, 135); fill-opacity: 1;\"/><path class=\"point\" transform=\"translate(256.5,175.68)\" d=\"M3,0A3,3 0 1,1 0,-3A3,3 0 0,1 3,0Z\" style=\"opacity: 1; stroke-width: 0px; fill: rgb(13, 8, 135); fill-opacity: 1;\"/><path class=\"point\" transform=\"translate(256.5,175.27)\" d=\"M3,0A3,3 0 1,1 0,-3A3,3 0 0,1 3,0Z\" style=\"opacity: 1; stroke-width: 0px; fill: rgb(13, 8, 135); fill-opacity: 1;\"/><path class=\"point\" transform=\"translate(256.5,174.86)\" d=\"M3,0A3,3 0 1,1 0,-3A3,3 0 0,1 3,0Z\" style=\"opacity: 1; stroke-width: 0px; fill: rgb(13, 8, 135); fill-opacity: 1;\"/><path class=\"point\" transform=\"translate(256.5,174.45)\" d=\"M3,0A3,3 0 1,1 0,-3A3,3 0 0,1 3,0Z\" style=\"opacity: 1; stroke-width: 0px; fill: rgb(13, 8, 135); fill-opacity: 1;\"/><path class=\"point\" transform=\"translate(256.5,174.04)\" d=\"M3,0A3,3 0 1,1 0,-3A3,3 0 0,1 3,0Z\" style=\"opacity: 1; stroke-width: 0px; fill: rgb(13, 8, 135); fill-opacity: 1;\"/><path class=\"point\" transform=\"translate(256.5,173.63)\" d=\"M3,0A3,3 0 1,1 0,-3A3,3 0 0,1 3,0Z\" style=\"opacity: 1; stroke-width: 0px; fill: rgb(13, 8, 135); fill-opacity: 1;\"/><path class=\"point\" transform=\"translate(256.5,173.22)\" d=\"M3,0A3,3 0 1,1 0,-3A3,3 0 0,1 3,0Z\" style=\"opacity: 1; stroke-width: 0px; fill: rgb(13, 8, 135); fill-opacity: 1;\"/><path class=\"point\" transform=\"translate(256.5,172.81)\" d=\"M3,0A3,3 0 1,1 0,-3A3,3 0 0,1 3,0Z\" style=\"opacity: 1; stroke-width: 0px; fill: rgb(13, 8, 135); fill-opacity: 1;\"/><path class=\"point\" transform=\"translate(256.5,172.4)\" d=\"M3,0A3,3 0 1,1 0,-3A3,3 0 0,1 3,0Z\" style=\"opacity: 1; stroke-width: 0px; fill: rgb(13, 8, 135); fill-opacity: 1;\"/><path class=\"point\" transform=\"translate(256.5,171.99)\" d=\"M3,0A3,3 0 1,1 0,-3A3,3 0 0,1 3,0Z\" style=\"opacity: 1; stroke-width: 0px; fill: rgb(13, 8, 135); fill-opacity: 1;\"/><path class=\"point\" transform=\"translate(256.5,171.58)\" d=\"M3,0A3,3 0 1,1 0,-3A3,3 0 0,1 3,0Z\" style=\"opacity: 1; stroke-width: 0px; fill: rgb(13, 8, 135); fill-opacity: 1;\"/><path class=\"point\" transform=\"translate(256.5,171.18)\" d=\"M3,0A3,3 0 1,1 0,-3A3,3 0 0,1 3,0Z\" style=\"opacity: 1; stroke-width: 0px; fill: rgb(13, 8, 135); fill-opacity: 1;\"/><path class=\"point\" transform=\"translate(256.5,170.77)\" d=\"M3,0A3,3 0 1,1 0,-3A3,3 0 0,1 3,0Z\" style=\"opacity: 1; stroke-width: 0px; fill: rgb(13, 8, 135); fill-opacity: 1;\"/><path class=\"point\" transform=\"translate(256.5,170.36)\" d=\"M3,0A3,3 0 1,1 0,-3A3,3 0 0,1 3,0Z\" style=\"opacity: 1; stroke-width: 0px; fill: rgb(13, 8, 135); fill-opacity: 1;\"/><path class=\"point\" transform=\"translate(256.5,169.95)\" d=\"M3,0A3,3 0 1,1 0,-3A3,3 0 0,1 3,0Z\" style=\"opacity: 1; stroke-width: 0px; fill: rgb(13, 8, 135); fill-opacity: 1;\"/><path class=\"point\" transform=\"translate(256.5,169.54)\" d=\"M3,0A3,3 0 1,1 0,-3A3,3 0 0,1 3,0Z\" style=\"opacity: 1; stroke-width: 0px; fill: rgb(13, 8, 135); fill-opacity: 1;\"/><path class=\"point\" transform=\"translate(256.5,169.13)\" d=\"M3,0A3,3 0 1,1 0,-3A3,3 0 0,1 3,0Z\" style=\"opacity: 1; stroke-width: 0px; fill: rgb(13, 8, 135); fill-opacity: 1;\"/><path class=\"point\" transform=\"translate(256.5,168.72)\" d=\"M3,0A3,3 0 1,1 0,-3A3,3 0 0,1 3,0Z\" style=\"opacity: 1; stroke-width: 0px; fill: rgb(13, 8, 135); fill-opacity: 1;\"/><path class=\"point\" transform=\"translate(256.5,168.31)\" d=\"M3,0A3,3 0 1,1 0,-3A3,3 0 0,1 3,0Z\" style=\"opacity: 1; stroke-width: 0px; fill: rgb(13, 8, 135); fill-opacity: 1;\"/><path class=\"point\" transform=\"translate(256.5,167.9)\" d=\"M3,0A3,3 0 1,1 0,-3A3,3 0 0,1 3,0Z\" style=\"opacity: 1; stroke-width: 0px; fill: rgb(13, 8, 135); fill-opacity: 1;\"/><path class=\"point\" transform=\"translate(256.5,167.49)\" d=\"M3,0A3,3 0 1,1 0,-3A3,3 0 0,1 3,0Z\" style=\"opacity: 1; stroke-width: 0px; fill: rgb(13, 8, 135); fill-opacity: 1;\"/><path class=\"point\" transform=\"translate(256.5,167.08)\" d=\"M3,0A3,3 0 1,1 0,-3A3,3 0 0,1 3,0Z\" style=\"opacity: 1; stroke-width: 0px; fill: rgb(13, 8, 135); fill-opacity: 1;\"/><path class=\"point\" transform=\"translate(256.5,166.67)\" d=\"M3,0A3,3 0 1,1 0,-3A3,3 0 0,1 3,0Z\" style=\"opacity: 1; stroke-width: 0px; fill: rgb(13, 8, 135); fill-opacity: 1;\"/><path class=\"point\" transform=\"translate(256.5,166.26)\" d=\"M3,0A3,3 0 1,1 0,-3A3,3 0 0,1 3,0Z\" style=\"opacity: 1; stroke-width: 0px; fill: rgb(13, 8, 135); fill-opacity: 1;\"/><path class=\"point\" transform=\"translate(256.5,165.85)\" d=\"M3,0A3,3 0 1,1 0,-3A3,3 0 0,1 3,0Z\" style=\"opacity: 1; stroke-width: 0px; fill: rgb(13, 8, 135); fill-opacity: 1;\"/><path class=\"point\" transform=\"translate(256.5,165.44)\" d=\"M3,0A3,3 0 1,1 0,-3A3,3 0 0,1 3,0Z\" style=\"opacity: 1; stroke-width: 0px; fill: rgb(13, 8, 135); fill-opacity: 1;\"/><path class=\"point\" transform=\"translate(256.5,165.03)\" d=\"M3,0A3,3 0 1,1 0,-3A3,3 0 0,1 3,0Z\" style=\"opacity: 1; stroke-width: 0px; fill: rgb(13, 8, 135); fill-opacity: 1;\"/><path class=\"point\" transform=\"translate(256.5,164.62)\" d=\"M3,0A3,3 0 1,1 0,-3A3,3 0 0,1 3,0Z\" style=\"opacity: 1; stroke-width: 0px; fill: rgb(13, 8, 135); fill-opacity: 1;\"/><path class=\"point\" transform=\"translate(256.5,164.21)\" d=\"M3,0A3,3 0 1,1 0,-3A3,3 0 0,1 3,0Z\" style=\"opacity: 1; stroke-width: 0px; fill: rgb(13, 8, 135); fill-opacity: 1;\"/><path class=\"point\" transform=\"translate(256.5,163.8)\" d=\"M3,0A3,3 0 1,1 0,-3A3,3 0 0,1 3,0Z\" style=\"opacity: 1; stroke-width: 0px; fill: rgb(13, 8, 135); fill-opacity: 1;\"/><path class=\"point\" transform=\"translate(256.5,163.39)\" d=\"M3,0A3,3 0 1,1 0,-3A3,3 0 0,1 3,0Z\" style=\"opacity: 1; stroke-width: 0px; fill: rgb(13, 8, 135); fill-opacity: 1;\"/><path class=\"point\" transform=\"translate(256.5,162.99)\" d=\"M3,0A3,3 0 1,1 0,-3A3,3 0 0,1 3,0Z\" style=\"opacity: 1; stroke-width: 0px; fill: rgb(13, 8, 135); fill-opacity: 1;\"/><path class=\"point\" transform=\"translate(256.5,162.58)\" d=\"M3,0A3,3 0 1,1 0,-3A3,3 0 0,1 3,0Z\" style=\"opacity: 1; stroke-width: 0px; fill: rgb(13, 8, 135); fill-opacity: 1;\"/><path class=\"point\" transform=\"translate(256.5,162.17)\" d=\"M3,0A3,3 0 1,1 0,-3A3,3 0 0,1 3,0Z\" style=\"opacity: 1; stroke-width: 0px; fill: rgb(13, 8, 135); fill-opacity: 1;\"/><path class=\"point\" transform=\"translate(256.5,161.76)\" d=\"M3,0A3,3 0 1,1 0,-3A3,3 0 0,1 3,0Z\" style=\"opacity: 1; stroke-width: 0px; fill: rgb(13, 8, 135); fill-opacity: 1;\"/><path class=\"point\" transform=\"translate(256.5,161.35)\" d=\"M3,0A3,3 0 1,1 0,-3A3,3 0 0,1 3,0Z\" style=\"opacity: 1; stroke-width: 0px; fill: rgb(13, 8, 135); fill-opacity: 1;\"/><path class=\"point\" transform=\"translate(256.5,160.94)\" d=\"M3,0A3,3 0 1,1 0,-3A3,3 0 0,1 3,0Z\" style=\"opacity: 1; stroke-width: 0px; fill: rgb(13, 8, 135); fill-opacity: 1;\"/><path class=\"point\" transform=\"translate(256.5,160.53)\" d=\"M3,0A3,3 0 1,1 0,-3A3,3 0 0,1 3,0Z\" style=\"opacity: 1; stroke-width: 0px; fill: rgb(13, 8, 135); fill-opacity: 1;\"/><path class=\"point\" transform=\"translate(256.5,160.12)\" d=\"M3,0A3,3 0 1,1 0,-3A3,3 0 0,1 3,0Z\" style=\"opacity: 1; stroke-width: 0px; fill: rgb(13, 8, 135); fill-opacity: 1;\"/><path class=\"point\" transform=\"translate(256.5,159.71)\" d=\"M3,0A3,3 0 1,1 0,-3A3,3 0 0,1 3,0Z\" style=\"opacity: 1; stroke-width: 0px; fill: rgb(13, 8, 135); fill-opacity: 1;\"/><path class=\"point\" transform=\"translate(256.5,159.3)\" d=\"M3,0A3,3 0 1,1 0,-3A3,3 0 0,1 3,0Z\" style=\"opacity: 1; stroke-width: 0px; fill: rgb(13, 8, 135); fill-opacity: 1;\"/><path class=\"point\" transform=\"translate(256.5,158.89)\" d=\"M3,0A3,3 0 1,1 0,-3A3,3 0 0,1 3,0Z\" style=\"opacity: 1; stroke-width: 0px; fill: rgb(13, 8, 135); fill-opacity: 1;\"/><path class=\"point\" transform=\"translate(256.5,158.48)\" d=\"M3,0A3,3 0 1,1 0,-3A3,3 0 0,1 3,0Z\" style=\"opacity: 1; stroke-width: 0px; fill: rgb(13, 8, 135); fill-opacity: 1;\"/><path class=\"point\" transform=\"translate(256.5,158.07)\" d=\"M3,0A3,3 0 1,1 0,-3A3,3 0 0,1 3,0Z\" style=\"opacity: 1; stroke-width: 0px; fill: rgb(13, 8, 135); fill-opacity: 1;\"/><path class=\"point\" transform=\"translate(256.5,157.66)\" d=\"M3,0A3,3 0 1,1 0,-3A3,3 0 0,1 3,0Z\" style=\"opacity: 1; stroke-width: 0px; fill: rgb(13, 8, 135); fill-opacity: 1;\"/><path class=\"point\" transform=\"translate(256.5,157.25)\" d=\"M3,0A3,3 0 1,1 0,-3A3,3 0 0,1 3,0Z\" style=\"opacity: 1; stroke-width: 0px; fill: rgb(13, 8, 135); fill-opacity: 1;\"/><path class=\"point\" transform=\"translate(256.5,156.84)\" d=\"M3,0A3,3 0 1,1 0,-3A3,3 0 0,1 3,0Z\" style=\"opacity: 1; stroke-width: 0px; fill: rgb(13, 8, 135); fill-opacity: 1;\"/><path class=\"point\" transform=\"translate(256.5,156.43)\" d=\"M3,0A3,3 0 1,1 0,-3A3,3 0 0,1 3,0Z\" style=\"opacity: 1; stroke-width: 0px; fill: rgb(13, 8, 135); fill-opacity: 1;\"/><path class=\"point\" transform=\"translate(483.6,156.02)\" d=\"M3,0A3,3 0 1,1 0,-3A3,3 0 0,1 3,0Z\" style=\"opacity: 1; stroke-width: 0px; fill: rgb(240, 249, 33); fill-opacity: 1;\"/><path class=\"point\" transform=\"translate(483.6,155.61)\" d=\"M3,0A3,3 0 1,1 0,-3A3,3 0 0,1 3,0Z\" style=\"opacity: 1; stroke-width: 0px; fill: rgb(240, 249, 33); fill-opacity: 1;\"/><path class=\"point\" transform=\"translate(483.6,155.2)\" d=\"M3,0A3,3 0 1,1 0,-3A3,3 0 0,1 3,0Z\" style=\"opacity: 1; stroke-width: 0px; fill: rgb(240, 249, 33); fill-opacity: 1;\"/><path class=\"point\" transform=\"translate(29.4,154.8)\" d=\"M3,0A3,3 0 1,1 0,-3A3,3 0 0,1 3,0Z\" style=\"opacity: 1; stroke-width: 0px; fill: rgb(240, 249, 33); fill-opacity: 1;\"/><path class=\"point\" transform=\"translate(29.4,154.39)\" d=\"M3,0A3,3 0 1,1 0,-3A3,3 0 0,1 3,0Z\" style=\"opacity: 1; stroke-width: 0px; fill: rgb(240, 249, 33); fill-opacity: 1;\"/><path class=\"point\" transform=\"translate(29.4,153.98)\" d=\"M3,0A3,3 0 1,1 0,-3A3,3 0 0,1 3,0Z\" style=\"opacity: 1; stroke-width: 0px; fill: rgb(240, 249, 33); fill-opacity: 1;\"/><path class=\"point\" transform=\"translate(256.5,153.57)\" d=\"M3,0A3,3 0 1,1 0,-3A3,3 0 0,1 3,0Z\" style=\"opacity: 1; stroke-width: 0px; fill: rgb(240, 249, 33); fill-opacity: 1;\"/><path class=\"point\" transform=\"translate(256.5,153.16)\" d=\"M3,0A3,3 0 1,1 0,-3A3,3 0 0,1 3,0Z\" style=\"opacity: 1; stroke-width: 0px; fill: rgb(240, 249, 33); fill-opacity: 1;\"/><path class=\"point\" transform=\"translate(256.5,152.75)\" d=\"M3,0A3,3 0 1,1 0,-3A3,3 0 0,1 3,0Z\" style=\"opacity: 1; stroke-width: 0px; fill: rgb(240, 249, 33); fill-opacity: 1;\"/><path class=\"point\" transform=\"translate(256.5,152.34)\" d=\"M3,0A3,3 0 1,1 0,-3A3,3 0 0,1 3,0Z\" style=\"opacity: 1; stroke-width: 0px; fill: rgb(240, 249, 33); fill-opacity: 1;\"/><path class=\"point\" transform=\"translate(256.5,151.93)\" d=\"M3,0A3,3 0 1,1 0,-3A3,3 0 0,1 3,0Z\" style=\"opacity: 1; stroke-width: 0px; fill: rgb(240, 249, 33); fill-opacity: 1;\"/><path class=\"point\" transform=\"translate(256.5,151.52)\" d=\"M3,0A3,3 0 1,1 0,-3A3,3 0 0,1 3,0Z\" style=\"opacity: 1; stroke-width: 0px; fill: rgb(240, 249, 33); fill-opacity: 1;\"/><path class=\"point\" transform=\"translate(256.5,151.11)\" d=\"M3,0A3,3 0 1,1 0,-3A3,3 0 0,1 3,0Z\" style=\"opacity: 1; stroke-width: 0px; fill: rgb(240, 249, 33); fill-opacity: 1;\"/><path class=\"point\" transform=\"translate(256.5,150.7)\" d=\"M3,0A3,3 0 1,1 0,-3A3,3 0 0,1 3,0Z\" style=\"opacity: 1; stroke-width: 0px; fill: rgb(240, 249, 33); fill-opacity: 1;\"/><path class=\"point\" transform=\"translate(256.5,150.29)\" d=\"M3,0A3,3 0 1,1 0,-3A3,3 0 0,1 3,0Z\" style=\"opacity: 1; stroke-width: 0px; fill: rgb(240, 249, 33); fill-opacity: 1;\"/><path class=\"point\" transform=\"translate(256.5,149.88)\" d=\"M3,0A3,3 0 1,1 0,-3A3,3 0 0,1 3,0Z\" style=\"opacity: 1; stroke-width: 0px; fill: rgb(240, 249, 33); fill-opacity: 1;\"/><path class=\"point\" transform=\"translate(256.5,149.47)\" d=\"M3,0A3,3 0 1,1 0,-3A3,3 0 0,1 3,0Z\" style=\"opacity: 1; stroke-width: 0px; fill: rgb(240, 249, 33); fill-opacity: 1;\"/><path class=\"point\" transform=\"translate(256.5,149.06)\" d=\"M3,0A3,3 0 1,1 0,-3A3,3 0 0,1 3,0Z\" style=\"opacity: 1; stroke-width: 0px; fill: rgb(240, 249, 33); fill-opacity: 1;\"/><path class=\"point\" transform=\"translate(256.5,148.65)\" d=\"M3,0A3,3 0 1,1 0,-3A3,3 0 0,1 3,0Z\" style=\"opacity: 1; stroke-width: 0px; fill: rgb(240, 249, 33); fill-opacity: 1;\"/><path class=\"point\" transform=\"translate(256.5,148.24)\" d=\"M3,0A3,3 0 1,1 0,-3A3,3 0 0,1 3,0Z\" style=\"opacity: 1; stroke-width: 0px; fill: rgb(240, 249, 33); fill-opacity: 1;\"/><path class=\"point\" transform=\"translate(256.5,147.83)\" d=\"M3,0A3,3 0 1,1 0,-3A3,3 0 0,1 3,0Z\" style=\"opacity: 1; stroke-width: 0px; fill: rgb(240, 249, 33); fill-opacity: 1;\"/><path class=\"point\" transform=\"translate(256.5,147.42)\" d=\"M3,0A3,3 0 1,1 0,-3A3,3 0 0,1 3,0Z\" style=\"opacity: 1; stroke-width: 0px; fill: rgb(240, 249, 33); fill-opacity: 1;\"/><path class=\"point\" transform=\"translate(256.5,147.01)\" d=\"M3,0A3,3 0 1,1 0,-3A3,3 0 0,1 3,0Z\" style=\"opacity: 1; stroke-width: 0px; fill: rgb(240, 249, 33); fill-opacity: 1;\"/><path class=\"point\" transform=\"translate(256.5,146.61)\" d=\"M3,0A3,3 0 1,1 0,-3A3,3 0 0,1 3,0Z\" style=\"opacity: 1; stroke-width: 0px; fill: rgb(240, 249, 33); fill-opacity: 1;\"/><path class=\"point\" transform=\"translate(256.5,146.2)\" d=\"M3,0A3,3 0 1,1 0,-3A3,3 0 0,1 3,0Z\" style=\"opacity: 1; stroke-width: 0px; fill: rgb(240, 249, 33); fill-opacity: 1;\"/><path class=\"point\" transform=\"translate(256.5,145.79)\" d=\"M3,0A3,3 0 1,1 0,-3A3,3 0 0,1 3,0Z\" style=\"opacity: 1; stroke-width: 0px; fill: rgb(240, 249, 33); fill-opacity: 1;\"/><path class=\"point\" transform=\"translate(256.5,145.38)\" d=\"M3,0A3,3 0 1,1 0,-3A3,3 0 0,1 3,0Z\" style=\"opacity: 1; stroke-width: 0px; fill: rgb(240, 249, 33); fill-opacity: 1;\"/><path class=\"point\" transform=\"translate(256.5,144.97)\" d=\"M3,0A3,3 0 1,1 0,-3A3,3 0 0,1 3,0Z\" style=\"opacity: 1; stroke-width: 0px; fill: rgb(240, 249, 33); fill-opacity: 1;\"/><path class=\"point\" transform=\"translate(256.5,144.56)\" d=\"M3,0A3,3 0 1,1 0,-3A3,3 0 0,1 3,0Z\" style=\"opacity: 1; stroke-width: 0px; fill: rgb(240, 249, 33); fill-opacity: 1;\"/><path class=\"point\" transform=\"translate(256.5,144.15)\" d=\"M3,0A3,3 0 1,1 0,-3A3,3 0 0,1 3,0Z\" style=\"opacity: 1; stroke-width: 0px; fill: rgb(240, 249, 33); fill-opacity: 1;\"/><path class=\"point\" transform=\"translate(256.5,143.74)\" d=\"M3,0A3,3 0 1,1 0,-3A3,3 0 0,1 3,0Z\" style=\"opacity: 1; stroke-width: 0px; fill: rgb(240, 249, 33); fill-opacity: 1;\"/><path class=\"point\" transform=\"translate(256.5,143.33)\" d=\"M3,0A3,3 0 1,1 0,-3A3,3 0 0,1 3,0Z\" style=\"opacity: 1; stroke-width: 0px; fill: rgb(240, 249, 33); fill-opacity: 1;\"/><path class=\"point\" transform=\"translate(256.5,142.92)\" d=\"M3,0A3,3 0 1,1 0,-3A3,3 0 0,1 3,0Z\" style=\"opacity: 1; stroke-width: 0px; fill: rgb(240, 249, 33); fill-opacity: 1;\"/><path class=\"point\" transform=\"translate(256.5,142.51)\" d=\"M3,0A3,3 0 1,1 0,-3A3,3 0 0,1 3,0Z\" style=\"opacity: 1; stroke-width: 0px; fill: rgb(240, 249, 33); fill-opacity: 1;\"/><path class=\"point\" transform=\"translate(256.5,142.1)\" d=\"M3,0A3,3 0 1,1 0,-3A3,3 0 0,1 3,0Z\" style=\"opacity: 1; stroke-width: 0px; fill: rgb(240, 249, 33); fill-opacity: 1;\"/><path class=\"point\" transform=\"translate(256.5,141.69)\" d=\"M3,0A3,3 0 1,1 0,-3A3,3 0 0,1 3,0Z\" style=\"opacity: 1; stroke-width: 0px; fill: rgb(240, 249, 33); fill-opacity: 1;\"/><path class=\"point\" transform=\"translate(256.5,141.28)\" d=\"M3,0A3,3 0 1,1 0,-3A3,3 0 0,1 3,0Z\" style=\"opacity: 1; stroke-width: 0px; fill: rgb(240, 249, 33); fill-opacity: 1;\"/><path class=\"point\" transform=\"translate(256.5,140.87)\" d=\"M3,0A3,3 0 1,1 0,-3A3,3 0 0,1 3,0Z\" style=\"opacity: 1; stroke-width: 0px; fill: rgb(240, 249, 33); fill-opacity: 1;\"/><path class=\"point\" transform=\"translate(256.5,140.46)\" d=\"M3,0A3,3 0 1,1 0,-3A3,3 0 0,1 3,0Z\" style=\"opacity: 1; stroke-width: 0px; fill: rgb(240, 249, 33); fill-opacity: 1;\"/><path class=\"point\" transform=\"translate(256.5,140.05)\" d=\"M3,0A3,3 0 1,1 0,-3A3,3 0 0,1 3,0Z\" style=\"opacity: 1; stroke-width: 0px; fill: rgb(240, 249, 33); fill-opacity: 1;\"/><path class=\"point\" transform=\"translate(256.5,139.64)\" d=\"M3,0A3,3 0 1,1 0,-3A3,3 0 0,1 3,0Z\" style=\"opacity: 1; stroke-width: 0px; fill: rgb(240, 249, 33); fill-opacity: 1;\"/><path class=\"point\" transform=\"translate(256.5,139.23)\" d=\"M3,0A3,3 0 1,1 0,-3A3,3 0 0,1 3,0Z\" style=\"opacity: 1; stroke-width: 0px; fill: rgb(240, 249, 33); fill-opacity: 1;\"/><path class=\"point\" transform=\"translate(256.5,138.82)\" d=\"M3,0A3,3 0 1,1 0,-3A3,3 0 0,1 3,0Z\" style=\"opacity: 1; stroke-width: 0px; fill: rgb(240, 249, 33); fill-opacity: 1;\"/><path class=\"point\" transform=\"translate(256.5,138.42)\" d=\"M3,0A3,3 0 1,1 0,-3A3,3 0 0,1 3,0Z\" style=\"opacity: 1; stroke-width: 0px; fill: rgb(240, 249, 33); fill-opacity: 1;\"/><path class=\"point\" transform=\"translate(256.5,138.01)\" d=\"M3,0A3,3 0 1,1 0,-3A3,3 0 0,1 3,0Z\" style=\"opacity: 1; stroke-width: 0px; fill: rgb(240, 249, 33); fill-opacity: 1;\"/><path class=\"point\" transform=\"translate(256.5,137.6)\" d=\"M3,0A3,3 0 1,1 0,-3A3,3 0 0,1 3,0Z\" style=\"opacity: 1; stroke-width: 0px; fill: rgb(240, 249, 33); fill-opacity: 1;\"/><path class=\"point\" transform=\"translate(256.5,137.19)\" d=\"M3,0A3,3 0 1,1 0,-3A3,3 0 0,1 3,0Z\" style=\"opacity: 1; stroke-width: 0px; fill: rgb(240, 249, 33); fill-opacity: 1;\"/><path class=\"point\" transform=\"translate(256.5,136.78)\" d=\"M3,0A3,3 0 1,1 0,-3A3,3 0 0,1 3,0Z\" style=\"opacity: 1; stroke-width: 0px; fill: rgb(240, 249, 33); fill-opacity: 1;\"/><path class=\"point\" transform=\"translate(256.5,136.37)\" d=\"M3,0A3,3 0 1,1 0,-3A3,3 0 0,1 3,0Z\" style=\"opacity: 1; stroke-width: 0px; fill: rgb(240, 249, 33); fill-opacity: 1;\"/><path class=\"point\" transform=\"translate(256.5,135.96)\" d=\"M3,0A3,3 0 1,1 0,-3A3,3 0 0,1 3,0Z\" style=\"opacity: 1; stroke-width: 0px; fill: rgb(240, 249, 33); fill-opacity: 1;\"/><path class=\"point\" transform=\"translate(256.5,135.55)\" d=\"M3,0A3,3 0 1,1 0,-3A3,3 0 0,1 3,0Z\" style=\"opacity: 1; stroke-width: 0px; fill: rgb(240, 249, 33); fill-opacity: 1;\"/><path class=\"point\" transform=\"translate(256.5,135.14)\" d=\"M3,0A3,3 0 1,1 0,-3A3,3 0 0,1 3,0Z\" style=\"opacity: 1; stroke-width: 0px; fill: rgb(240, 249, 33); fill-opacity: 1;\"/><path class=\"point\" transform=\"translate(256.5,134.73)\" d=\"M3,0A3,3 0 1,1 0,-3A3,3 0 0,1 3,0Z\" style=\"opacity: 1; stroke-width: 0px; fill: rgb(240, 249, 33); fill-opacity: 1;\"/><path class=\"point\" transform=\"translate(256.5,134.32)\" d=\"M3,0A3,3 0 1,1 0,-3A3,3 0 0,1 3,0Z\" style=\"opacity: 1; stroke-width: 0px; fill: rgb(240, 249, 33); fill-opacity: 1;\"/><path class=\"point\" transform=\"translate(256.5,133.91)\" d=\"M3,0A3,3 0 1,1 0,-3A3,3 0 0,1 3,0Z\" style=\"opacity: 1; stroke-width: 0px; fill: rgb(240, 249, 33); fill-opacity: 1;\"/><path class=\"point\" transform=\"translate(256.5,133.5)\" d=\"M3,0A3,3 0 1,1 0,-3A3,3 0 0,1 3,0Z\" style=\"opacity: 1; stroke-width: 0px; fill: rgb(240, 249, 33); fill-opacity: 1;\"/><path class=\"point\" transform=\"translate(256.5,133.09)\" d=\"M3,0A3,3 0 1,1 0,-3A3,3 0 0,1 3,0Z\" style=\"opacity: 1; stroke-width: 0px; fill: rgb(240, 249, 33); fill-opacity: 1;\"/><path class=\"point\" transform=\"translate(256.5,132.68)\" d=\"M3,0A3,3 0 1,1 0,-3A3,3 0 0,1 3,0Z\" style=\"opacity: 1; stroke-width: 0px; fill: rgb(240, 249, 33); fill-opacity: 1;\"/><path class=\"point\" transform=\"translate(256.5,132.27)\" d=\"M3,0A3,3 0 1,1 0,-3A3,3 0 0,1 3,0Z\" style=\"opacity: 1; stroke-width: 0px; fill: rgb(240, 249, 33); fill-opacity: 1;\"/><path class=\"point\" transform=\"translate(256.5,131.86)\" d=\"M3,0A3,3 0 1,1 0,-3A3,3 0 0,1 3,0Z\" style=\"opacity: 1; stroke-width: 0px; fill: rgb(240, 249, 33); fill-opacity: 1;\"/><path class=\"point\" transform=\"translate(256.5,131.45)\" d=\"M3,0A3,3 0 1,1 0,-3A3,3 0 0,1 3,0Z\" style=\"opacity: 1; stroke-width: 0px; fill: rgb(240, 249, 33); fill-opacity: 1;\"/><path class=\"point\" transform=\"translate(256.5,131.04)\" d=\"M3,0A3,3 0 1,1 0,-3A3,3 0 0,1 3,0Z\" style=\"opacity: 1; stroke-width: 0px; fill: rgb(13, 8, 135); fill-opacity: 1;\"/><path class=\"point\" transform=\"translate(256.5,130.63)\" d=\"M3,0A3,3 0 1,1 0,-3A3,3 0 0,1 3,0Z\" style=\"opacity: 1; stroke-width: 0px; fill: rgb(13, 8, 135); fill-opacity: 1;\"/><path class=\"point\" transform=\"translate(256.5,130.23)\" d=\"M3,0A3,3 0 1,1 0,-3A3,3 0 0,1 3,0Z\" style=\"opacity: 1; stroke-width: 0px; fill: rgb(13, 8, 135); fill-opacity: 1;\"/><path class=\"point\" transform=\"translate(256.5,129.82)\" d=\"M3,0A3,3 0 1,1 0,-3A3,3 0 0,1 3,0Z\" style=\"opacity: 1; stroke-width: 0px; fill: rgb(13, 8, 135); fill-opacity: 1;\"/><path class=\"point\" transform=\"translate(256.5,129.41)\" d=\"M3,0A3,3 0 1,1 0,-3A3,3 0 0,1 3,0Z\" style=\"opacity: 1; stroke-width: 0px; fill: rgb(13, 8, 135); fill-opacity: 1;\"/><path class=\"point\" transform=\"translate(256.5,129)\" d=\"M3,0A3,3 0 1,1 0,-3A3,3 0 0,1 3,0Z\" style=\"opacity: 1; stroke-width: 0px; fill: rgb(13, 8, 135); fill-opacity: 1;\"/><path class=\"point\" transform=\"translate(256.5,128.59)\" d=\"M3,0A3,3 0 1,1 0,-3A3,3 0 0,1 3,0Z\" style=\"opacity: 1; stroke-width: 0px; fill: rgb(13, 8, 135); fill-opacity: 1;\"/><path class=\"point\" transform=\"translate(256.5,128.18)\" d=\"M3,0A3,3 0 1,1 0,-3A3,3 0 0,1 3,0Z\" style=\"opacity: 1; stroke-width: 0px; fill: rgb(13, 8, 135); fill-opacity: 1;\"/><path class=\"point\" transform=\"translate(256.5,127.77)\" d=\"M3,0A3,3 0 1,1 0,-3A3,3 0 0,1 3,0Z\" style=\"opacity: 1; stroke-width: 0px; fill: rgb(13, 8, 135); fill-opacity: 1;\"/><path class=\"point\" transform=\"translate(256.5,127.36)\" d=\"M3,0A3,3 0 1,1 0,-3A3,3 0 0,1 3,0Z\" style=\"opacity: 1; stroke-width: 0px; fill: rgb(13, 8, 135); fill-opacity: 1;\"/><path class=\"point\" transform=\"translate(256.5,126.95)\" d=\"M3,0A3,3 0 1,1 0,-3A3,3 0 0,1 3,0Z\" style=\"opacity: 1; stroke-width: 0px; fill: rgb(13, 8, 135); fill-opacity: 1;\"/><path class=\"point\" transform=\"translate(256.5,126.54)\" d=\"M3,0A3,3 0 1,1 0,-3A3,3 0 0,1 3,0Z\" style=\"opacity: 1; stroke-width: 0px; fill: rgb(13, 8, 135); fill-opacity: 1;\"/><path class=\"point\" transform=\"translate(256.5,126.13)\" d=\"M3,0A3,3 0 1,1 0,-3A3,3 0 0,1 3,0Z\" style=\"opacity: 1; stroke-width: 0px; fill: rgb(13, 8, 135); fill-opacity: 1;\"/><path class=\"point\" transform=\"translate(256.5,125.72)\" d=\"M3,0A3,3 0 1,1 0,-3A3,3 0 0,1 3,0Z\" style=\"opacity: 1; stroke-width: 0px; fill: rgb(13, 8, 135); fill-opacity: 1;\"/><path class=\"point\" transform=\"translate(256.5,125.31)\" d=\"M3,0A3,3 0 1,1 0,-3A3,3 0 0,1 3,0Z\" style=\"opacity: 1; stroke-width: 0px; fill: rgb(13, 8, 135); fill-opacity: 1;\"/><path class=\"point\" transform=\"translate(256.5,124.9)\" d=\"M3,0A3,3 0 1,1 0,-3A3,3 0 0,1 3,0Z\" style=\"opacity: 1; stroke-width: 0px; fill: rgb(13, 8, 135); fill-opacity: 1;\"/><path class=\"point\" transform=\"translate(256.5,124.49)\" d=\"M3,0A3,3 0 1,1 0,-3A3,3 0 0,1 3,0Z\" style=\"opacity: 1; stroke-width: 0px; fill: rgb(13, 8, 135); fill-opacity: 1;\"/><path class=\"point\" transform=\"translate(256.5,124.08)\" d=\"M3,0A3,3 0 1,1 0,-3A3,3 0 0,1 3,0Z\" style=\"opacity: 1; stroke-width: 0px; fill: rgb(13, 8, 135); fill-opacity: 1;\"/><path class=\"point\" transform=\"translate(256.5,123.67)\" d=\"M3,0A3,3 0 1,1 0,-3A3,3 0 0,1 3,0Z\" style=\"opacity: 1; stroke-width: 0px; fill: rgb(13, 8, 135); fill-opacity: 1;\"/><path class=\"point\" transform=\"translate(256.5,123.26)\" d=\"M3,0A3,3 0 1,1 0,-3A3,3 0 0,1 3,0Z\" style=\"opacity: 1; stroke-width: 0px; fill: rgb(13, 8, 135); fill-opacity: 1;\"/><path class=\"point\" transform=\"translate(256.5,122.85)\" d=\"M3,0A3,3 0 1,1 0,-3A3,3 0 0,1 3,0Z\" style=\"opacity: 1; stroke-width: 0px; fill: rgb(13, 8, 135); fill-opacity: 1;\"/><path class=\"point\" transform=\"translate(256.5,122.44)\" d=\"M3,0A3,3 0 1,1 0,-3A3,3 0 0,1 3,0Z\" style=\"opacity: 1; stroke-width: 0px; fill: rgb(13, 8, 135); fill-opacity: 1;\"/><path class=\"point\" transform=\"translate(256.5,122.04)\" d=\"M3,0A3,3 0 1,1 0,-3A3,3 0 0,1 3,0Z\" style=\"opacity: 1; stroke-width: 0px; fill: rgb(13, 8, 135); fill-opacity: 1;\"/><path class=\"point\" transform=\"translate(256.5,121.63)\" d=\"M3,0A3,3 0 1,1 0,-3A3,3 0 0,1 3,0Z\" style=\"opacity: 1; stroke-width: 0px; fill: rgb(13, 8, 135); fill-opacity: 1;\"/><path class=\"point\" transform=\"translate(256.5,121.22)\" d=\"M3,0A3,3 0 1,1 0,-3A3,3 0 0,1 3,0Z\" style=\"opacity: 1; stroke-width: 0px; fill: rgb(13, 8, 135); fill-opacity: 1;\"/><path class=\"point\" transform=\"translate(256.5,120.81)\" d=\"M3,0A3,3 0 1,1 0,-3A3,3 0 0,1 3,0Z\" style=\"opacity: 1; stroke-width: 0px; fill: rgb(13, 8, 135); fill-opacity: 1;\"/><path class=\"point\" transform=\"translate(256.5,120.4)\" d=\"M3,0A3,3 0 1,1 0,-3A3,3 0 0,1 3,0Z\" style=\"opacity: 1; stroke-width: 0px; fill: rgb(13, 8, 135); fill-opacity: 1;\"/><path class=\"point\" transform=\"translate(256.5,119.99)\" d=\"M3,0A3,3 0 1,1 0,-3A3,3 0 0,1 3,0Z\" style=\"opacity: 1; stroke-width: 0px; fill: rgb(13, 8, 135); fill-opacity: 1;\"/><path class=\"point\" transform=\"translate(256.5,119.58)\" d=\"M3,0A3,3 0 1,1 0,-3A3,3 0 0,1 3,0Z\" style=\"opacity: 1; stroke-width: 0px; fill: rgb(13, 8, 135); fill-opacity: 1;\"/><path class=\"point\" transform=\"translate(256.5,119.17)\" d=\"M3,0A3,3 0 1,1 0,-3A3,3 0 0,1 3,0Z\" style=\"opacity: 1; stroke-width: 0px; fill: rgb(13, 8, 135); fill-opacity: 1;\"/><path class=\"point\" transform=\"translate(256.5,118.76)\" d=\"M3,0A3,3 0 1,1 0,-3A3,3 0 0,1 3,0Z\" style=\"opacity: 1; stroke-width: 0px; fill: rgb(13, 8, 135); fill-opacity: 1;\"/><path class=\"point\" transform=\"translate(256.5,118.35)\" d=\"M3,0A3,3 0 1,1 0,-3A3,3 0 0,1 3,0Z\" style=\"opacity: 1; stroke-width: 0px; fill: rgb(13, 8, 135); fill-opacity: 1;\"/><path class=\"point\" transform=\"translate(256.5,117.94)\" d=\"M3,0A3,3 0 1,1 0,-3A3,3 0 0,1 3,0Z\" style=\"opacity: 1; stroke-width: 0px; fill: rgb(13, 8, 135); fill-opacity: 1;\"/><path class=\"point\" transform=\"translate(256.5,117.53)\" d=\"M3,0A3,3 0 1,1 0,-3A3,3 0 0,1 3,0Z\" style=\"opacity: 1; stroke-width: 0px; fill: rgb(13, 8, 135); fill-opacity: 1;\"/><path class=\"point\" transform=\"translate(256.5,117.12)\" d=\"M3,0A3,3 0 1,1 0,-3A3,3 0 0,1 3,0Z\" style=\"opacity: 1; stroke-width: 0px; fill: rgb(13, 8, 135); fill-opacity: 1;\"/><path class=\"point\" transform=\"translate(256.5,116.71)\" d=\"M3,0A3,3 0 1,1 0,-3A3,3 0 0,1 3,0Z\" style=\"opacity: 1; stroke-width: 0px; fill: rgb(13, 8, 135); fill-opacity: 1;\"/><path class=\"point\" transform=\"translate(256.5,116.3)\" d=\"M3,0A3,3 0 1,1 0,-3A3,3 0 0,1 3,0Z\" style=\"opacity: 1; stroke-width: 0px; fill: rgb(13, 8, 135); fill-opacity: 1;\"/><path class=\"point\" transform=\"translate(256.5,115.89)\" d=\"M3,0A3,3 0 1,1 0,-3A3,3 0 0,1 3,0Z\" style=\"opacity: 1; stroke-width: 0px; fill: rgb(13, 8, 135); fill-opacity: 1;\"/><path class=\"point\" transform=\"translate(256.5,115.48)\" d=\"M3,0A3,3 0 1,1 0,-3A3,3 0 0,1 3,0Z\" style=\"opacity: 1; stroke-width: 0px; fill: rgb(13, 8, 135); fill-opacity: 1;\"/><path class=\"point\" transform=\"translate(256.5,115.07)\" d=\"M3,0A3,3 0 1,1 0,-3A3,3 0 0,1 3,0Z\" style=\"opacity: 1; stroke-width: 0px; fill: rgb(13, 8, 135); fill-opacity: 1;\"/><path class=\"point\" transform=\"translate(256.5,114.66)\" d=\"M3,0A3,3 0 1,1 0,-3A3,3 0 0,1 3,0Z\" style=\"opacity: 1; stroke-width: 0px; fill: rgb(13, 8, 135); fill-opacity: 1;\"/><path class=\"point\" transform=\"translate(256.5,114.25)\" d=\"M3,0A3,3 0 1,1 0,-3A3,3 0 0,1 3,0Z\" style=\"opacity: 1; stroke-width: 0px; fill: rgb(13, 8, 135); fill-opacity: 1;\"/><path class=\"point\" transform=\"translate(256.5,113.85)\" d=\"M3,0A3,3 0 1,1 0,-3A3,3 0 0,1 3,0Z\" style=\"opacity: 1; stroke-width: 0px; fill: rgb(13, 8, 135); fill-opacity: 1;\"/><path class=\"point\" transform=\"translate(256.5,113.44)\" d=\"M3,0A3,3 0 1,1 0,-3A3,3 0 0,1 3,0Z\" style=\"opacity: 1; stroke-width: 0px; fill: rgb(13, 8, 135); fill-opacity: 1;\"/><path class=\"point\" transform=\"translate(256.5,113.03)\" d=\"M3,0A3,3 0 1,1 0,-3A3,3 0 0,1 3,0Z\" style=\"opacity: 1; stroke-width: 0px; fill: rgb(13, 8, 135); fill-opacity: 1;\"/><path class=\"point\" transform=\"translate(256.5,112.62)\" d=\"M3,0A3,3 0 1,1 0,-3A3,3 0 0,1 3,0Z\" style=\"opacity: 1; stroke-width: 0px; fill: rgb(13, 8, 135); fill-opacity: 1;\"/><path class=\"point\" transform=\"translate(256.5,112.21)\" d=\"M3,0A3,3 0 1,1 0,-3A3,3 0 0,1 3,0Z\" style=\"opacity: 1; stroke-width: 0px; fill: rgb(13, 8, 135); fill-opacity: 1;\"/><path class=\"point\" transform=\"translate(256.5,111.8)\" d=\"M3,0A3,3 0 1,1 0,-3A3,3 0 0,1 3,0Z\" style=\"opacity: 1; stroke-width: 0px; fill: rgb(13, 8, 135); fill-opacity: 1;\"/><path class=\"point\" transform=\"translate(256.5,111.39)\" d=\"M3,0A3,3 0 1,1 0,-3A3,3 0 0,1 3,0Z\" style=\"opacity: 1; stroke-width: 0px; fill: rgb(13, 8, 135); fill-opacity: 1;\"/><path class=\"point\" transform=\"translate(256.5,110.98)\" d=\"M3,0A3,3 0 1,1 0,-3A3,3 0 0,1 3,0Z\" style=\"opacity: 1; stroke-width: 0px; fill: rgb(13, 8, 135); fill-opacity: 1;\"/><path class=\"point\" transform=\"translate(256.5,110.57)\" d=\"M3,0A3,3 0 1,1 0,-3A3,3 0 0,1 3,0Z\" style=\"opacity: 1; stroke-width: 0px; fill: rgb(13, 8, 135); fill-opacity: 1;\"/><path class=\"point\" transform=\"translate(256.5,110.16)\" d=\"M3,0A3,3 0 1,1 0,-3A3,3 0 0,1 3,0Z\" style=\"opacity: 1; stroke-width: 0px; fill: rgb(13, 8, 135); fill-opacity: 1;\"/><path class=\"point\" transform=\"translate(256.5,109.75)\" d=\"M3,0A3,3 0 1,1 0,-3A3,3 0 0,1 3,0Z\" style=\"opacity: 1; stroke-width: 0px; fill: rgb(13, 8, 135); fill-opacity: 1;\"/><path class=\"point\" transform=\"translate(256.5,109.34)\" d=\"M3,0A3,3 0 1,1 0,-3A3,3 0 0,1 3,0Z\" style=\"opacity: 1; stroke-width: 0px; fill: rgb(13, 8, 135); fill-opacity: 1;\"/><path class=\"point\" transform=\"translate(256.5,108.93)\" d=\"M3,0A3,3 0 1,1 0,-3A3,3 0 0,1 3,0Z\" style=\"opacity: 1; stroke-width: 0px; fill: rgb(13, 8, 135); fill-opacity: 1;\"/><path class=\"point\" transform=\"translate(256.5,108.52)\" d=\"M3,0A3,3 0 1,1 0,-3A3,3 0 0,1 3,0Z\" style=\"opacity: 1; stroke-width: 0px; fill: rgb(13, 8, 135); fill-opacity: 1;\"/><path class=\"point\" transform=\"translate(256.5,108.11)\" d=\"M3,0A3,3 0 1,1 0,-3A3,3 0 0,1 3,0Z\" style=\"opacity: 1; stroke-width: 0px; fill: rgb(13, 8, 135); fill-opacity: 1;\"/><path class=\"point\" transform=\"translate(256.5,107.7)\" d=\"M3,0A3,3 0 1,1 0,-3A3,3 0 0,1 3,0Z\" style=\"opacity: 1; stroke-width: 0px; fill: rgb(13, 8, 135); fill-opacity: 1;\"/><path class=\"point\" transform=\"translate(256.5,107.29)\" d=\"M3,0A3,3 0 1,1 0,-3A3,3 0 0,1 3,0Z\" style=\"opacity: 1; stroke-width: 0px; fill: rgb(13, 8, 135); fill-opacity: 1;\"/><path class=\"point\" transform=\"translate(256.5,106.88)\" d=\"M3,0A3,3 0 1,1 0,-3A3,3 0 0,1 3,0Z\" style=\"opacity: 1; stroke-width: 0px; fill: rgb(13, 8, 135); fill-opacity: 1;\"/><path class=\"point\" transform=\"translate(256.5,106.47)\" d=\"M3,0A3,3 0 1,1 0,-3A3,3 0 0,1 3,0Z\" style=\"opacity: 1; stroke-width: 0px; fill: rgb(13, 8, 135); fill-opacity: 1;\"/><path class=\"point\" transform=\"translate(256.5,106.06)\" d=\"M3,0A3,3 0 1,1 0,-3A3,3 0 0,1 3,0Z\" style=\"opacity: 1; stroke-width: 0px; fill: rgb(13, 8, 135); fill-opacity: 1;\"/><path class=\"point\" transform=\"translate(256.5,105.65)\" d=\"M3,0A3,3 0 1,1 0,-3A3,3 0 0,1 3,0Z\" style=\"opacity: 1; stroke-width: 0px; fill: rgb(13, 8, 135); fill-opacity: 1;\"/><path class=\"point\" transform=\"translate(256.5,105.25)\" d=\"M3,0A3,3 0 1,1 0,-3A3,3 0 0,1 3,0Z\" style=\"opacity: 1; stroke-width: 0px; fill: rgb(13, 8, 135); fill-opacity: 1;\"/><path class=\"point\" transform=\"translate(256.5,104.84)\" d=\"M3,0A3,3 0 1,1 0,-3A3,3 0 0,1 3,0Z\" style=\"opacity: 1; stroke-width: 0px; fill: rgb(13, 8, 135); fill-opacity: 1;\"/><path class=\"point\" transform=\"translate(256.5,104.43)\" d=\"M3,0A3,3 0 1,1 0,-3A3,3 0 0,1 3,0Z\" style=\"opacity: 1; stroke-width: 0px; fill: rgb(13, 8, 135); fill-opacity: 1;\"/><path class=\"point\" transform=\"translate(256.5,104.02)\" d=\"M3,0A3,3 0 1,1 0,-3A3,3 0 0,1 3,0Z\" style=\"opacity: 1; stroke-width: 0px; fill: rgb(13, 8, 135); fill-opacity: 1;\"/><path class=\"point\" transform=\"translate(256.5,103.61)\" d=\"M3,0A3,3 0 1,1 0,-3A3,3 0 0,1 3,0Z\" style=\"opacity: 1; stroke-width: 0px; fill: rgb(13, 8, 135); fill-opacity: 1;\"/><path class=\"point\" transform=\"translate(256.5,103.2)\" d=\"M3,0A3,3 0 1,1 0,-3A3,3 0 0,1 3,0Z\" style=\"opacity: 1; stroke-width: 0px; fill: rgb(13, 8, 135); fill-opacity: 1;\"/><path class=\"point\" transform=\"translate(256.5,102.79)\" d=\"M3,0A3,3 0 1,1 0,-3A3,3 0 0,1 3,0Z\" style=\"opacity: 1; stroke-width: 0px; fill: rgb(13, 8, 135); fill-opacity: 1;\"/><path class=\"point\" transform=\"translate(256.5,102.38)\" d=\"M3,0A3,3 0 1,1 0,-3A3,3 0 0,1 3,0Z\" style=\"opacity: 1; stroke-width: 0px; fill: rgb(13, 8, 135); fill-opacity: 1;\"/><path class=\"point\" transform=\"translate(256.5,101.97)\" d=\"M3,0A3,3 0 1,1 0,-3A3,3 0 0,1 3,0Z\" style=\"opacity: 1; stroke-width: 0px; fill: rgb(13, 8, 135); fill-opacity: 1;\"/><path class=\"point\" transform=\"translate(256.5,101.56)\" d=\"M3,0A3,3 0 1,1 0,-3A3,3 0 0,1 3,0Z\" style=\"opacity: 1; stroke-width: 0px; fill: rgb(13, 8, 135); fill-opacity: 1;\"/><path class=\"point\" transform=\"translate(256.5,101.15)\" d=\"M3,0A3,3 0 1,1 0,-3A3,3 0 0,1 3,0Z\" style=\"opacity: 1; stroke-width: 0px; fill: rgb(13, 8, 135); fill-opacity: 1;\"/><path class=\"point\" transform=\"translate(256.5,100.74)\" d=\"M3,0A3,3 0 1,1 0,-3A3,3 0 0,1 3,0Z\" style=\"opacity: 1; stroke-width: 0px; fill: rgb(13, 8, 135); fill-opacity: 1;\"/><path class=\"point\" transform=\"translate(256.5,100.33)\" d=\"M3,0A3,3 0 1,1 0,-3A3,3 0 0,1 3,0Z\" style=\"opacity: 1; stroke-width: 0px; fill: rgb(13, 8, 135); fill-opacity: 1;\"/><path class=\"point\" transform=\"translate(256.5,99.92)\" d=\"M3,0A3,3 0 1,1 0,-3A3,3 0 0,1 3,0Z\" style=\"opacity: 1; stroke-width: 0px; fill: rgb(13, 8, 135); fill-opacity: 1;\"/><path class=\"point\" transform=\"translate(256.5,99.51)\" d=\"M3,0A3,3 0 1,1 0,-3A3,3 0 0,1 3,0Z\" style=\"opacity: 1; stroke-width: 0px; fill: rgb(13, 8, 135); fill-opacity: 1;\"/><path class=\"point\" transform=\"translate(256.5,99.1)\" d=\"M3,0A3,3 0 1,1 0,-3A3,3 0 0,1 3,0Z\" style=\"opacity: 1; stroke-width: 0px; fill: rgb(13, 8, 135); fill-opacity: 1;\"/><path class=\"point\" transform=\"translate(256.5,98.69)\" d=\"M3,0A3,3 0 1,1 0,-3A3,3 0 0,1 3,0Z\" style=\"opacity: 1; stroke-width: 0px; fill: rgb(13, 8, 135); fill-opacity: 1;\"/><path class=\"point\" transform=\"translate(256.5,98.28)\" d=\"M3,0A3,3 0 1,1 0,-3A3,3 0 0,1 3,0Z\" style=\"opacity: 1; stroke-width: 0px; fill: rgb(13, 8, 135); fill-opacity: 1;\"/><path class=\"point\" transform=\"translate(256.5,97.87)\" d=\"M3,0A3,3 0 1,1 0,-3A3,3 0 0,1 3,0Z\" style=\"opacity: 1; stroke-width: 0px; fill: rgb(13, 8, 135); fill-opacity: 1;\"/><path class=\"point\" transform=\"translate(256.5,97.46)\" d=\"M3,0A3,3 0 1,1 0,-3A3,3 0 0,1 3,0Z\" style=\"opacity: 1; stroke-width: 0px; fill: rgb(13, 8, 135); fill-opacity: 1;\"/><path class=\"point\" transform=\"translate(256.5,97.06)\" d=\"M3,0A3,3 0 1,1 0,-3A3,3 0 0,1 3,0Z\" style=\"opacity: 1; stroke-width: 0px; fill: rgb(13, 8, 135); fill-opacity: 1;\"/><path class=\"point\" transform=\"translate(256.5,96.65)\" d=\"M3,0A3,3 0 1,1 0,-3A3,3 0 0,1 3,0Z\" style=\"opacity: 1; stroke-width: 0px; fill: rgb(13, 8, 135); fill-opacity: 1;\"/><path class=\"point\" transform=\"translate(256.5,96.24)\" d=\"M3,0A3,3 0 1,1 0,-3A3,3 0 0,1 3,0Z\" style=\"opacity: 1; stroke-width: 0px; fill: rgb(13, 8, 135); fill-opacity: 1;\"/><path class=\"point\" transform=\"translate(256.5,95.83)\" d=\"M3,0A3,3 0 1,1 0,-3A3,3 0 0,1 3,0Z\" style=\"opacity: 1; stroke-width: 0px; fill: rgb(13, 8, 135); fill-opacity: 1;\"/><path class=\"point\" transform=\"translate(256.5,95.42)\" d=\"M3,0A3,3 0 1,1 0,-3A3,3 0 0,1 3,0Z\" style=\"opacity: 1; stroke-width: 0px; fill: rgb(13, 8, 135); fill-opacity: 1;\"/><path class=\"point\" transform=\"translate(256.5,95.01)\" d=\"M3,0A3,3 0 1,1 0,-3A3,3 0 0,1 3,0Z\" style=\"opacity: 1; stroke-width: 0px; fill: rgb(13, 8, 135); fill-opacity: 1;\"/><path class=\"point\" transform=\"translate(256.5,94.6)\" d=\"M3,0A3,3 0 1,1 0,-3A3,3 0 0,1 3,0Z\" style=\"opacity: 1; stroke-width: 0px; fill: rgb(13, 8, 135); fill-opacity: 1;\"/><path class=\"point\" transform=\"translate(256.5,94.19)\" d=\"M3,0A3,3 0 1,1 0,-3A3,3 0 0,1 3,0Z\" style=\"opacity: 1; stroke-width: 0px; fill: rgb(13, 8, 135); fill-opacity: 1;\"/><path class=\"point\" transform=\"translate(256.5,93.78)\" d=\"M3,0A3,3 0 1,1 0,-3A3,3 0 0,1 3,0Z\" style=\"opacity: 1; stroke-width: 0px; fill: rgb(13, 8, 135); fill-opacity: 1;\"/><path class=\"point\" transform=\"translate(256.5,93.37)\" d=\"M3,0A3,3 0 1,1 0,-3A3,3 0 0,1 3,0Z\" style=\"opacity: 1; stroke-width: 0px; fill: rgb(13, 8, 135); fill-opacity: 1;\"/><path class=\"point\" transform=\"translate(256.5,92.96)\" d=\"M3,0A3,3 0 1,1 0,-3A3,3 0 0,1 3,0Z\" style=\"opacity: 1; stroke-width: 0px; fill: rgb(13, 8, 135); fill-opacity: 1;\"/><path class=\"point\" transform=\"translate(256.5,92.55)\" d=\"M3,0A3,3 0 1,1 0,-3A3,3 0 0,1 3,0Z\" style=\"opacity: 1; stroke-width: 0px; fill: rgb(13, 8, 135); fill-opacity: 1;\"/><path class=\"point\" transform=\"translate(256.5,92.14)\" d=\"M3,0A3,3 0 1,1 0,-3A3,3 0 0,1 3,0Z\" style=\"opacity: 1; stroke-width: 0px; fill: rgb(13, 8, 135); fill-opacity: 1;\"/><path class=\"point\" transform=\"translate(256.5,91.73)\" d=\"M3,0A3,3 0 1,1 0,-3A3,3 0 0,1 3,0Z\" style=\"opacity: 1; stroke-width: 0px; fill: rgb(13, 8, 135); fill-opacity: 1;\"/><path class=\"point\" transform=\"translate(256.5,91.32)\" d=\"M3,0A3,3 0 1,1 0,-3A3,3 0 0,1 3,0Z\" style=\"opacity: 1; stroke-width: 0px; fill: rgb(13, 8, 135); fill-opacity: 1;\"/><path class=\"point\" transform=\"translate(256.5,90.91)\" d=\"M3,0A3,3 0 1,1 0,-3A3,3 0 0,1 3,0Z\" style=\"opacity: 1; stroke-width: 0px; fill: rgb(13, 8, 135); fill-opacity: 1;\"/><path class=\"point\" transform=\"translate(256.5,90.5)\" d=\"M3,0A3,3 0 1,1 0,-3A3,3 0 0,1 3,0Z\" style=\"opacity: 1; stroke-width: 0px; fill: rgb(13, 8, 135); fill-opacity: 1;\"/><path class=\"point\" transform=\"translate(256.5,90.09)\" d=\"M3,0A3,3 0 1,1 0,-3A3,3 0 0,1 3,0Z\" style=\"opacity: 1; stroke-width: 0px; fill: rgb(13, 8, 135); fill-opacity: 1;\"/><path class=\"point\" transform=\"translate(256.5,89.68)\" d=\"M3,0A3,3 0 1,1 0,-3A3,3 0 0,1 3,0Z\" style=\"opacity: 1; stroke-width: 0px; fill: rgb(13, 8, 135); fill-opacity: 1;\"/><path class=\"point\" transform=\"translate(256.5,89.27)\" d=\"M3,0A3,3 0 1,1 0,-3A3,3 0 0,1 3,0Z\" style=\"opacity: 1; stroke-width: 0px; fill: rgb(13, 8, 135); fill-opacity: 1;\"/><path class=\"point\" transform=\"translate(256.5,88.87)\" d=\"M3,0A3,3 0 1,1 0,-3A3,3 0 0,1 3,0Z\" style=\"opacity: 1; stroke-width: 0px; fill: rgb(13, 8, 135); fill-opacity: 1;\"/><path class=\"point\" transform=\"translate(256.5,88.46)\" d=\"M3,0A3,3 0 1,1 0,-3A3,3 0 0,1 3,0Z\" style=\"opacity: 1; stroke-width: 0px; fill: rgb(13, 8, 135); fill-opacity: 1;\"/><path class=\"point\" transform=\"translate(483.6,88.05)\" d=\"M3,0A3,3 0 1,1 0,-3A3,3 0 0,1 3,0Z\" style=\"opacity: 1; stroke-width: 0px; fill: rgb(240, 249, 33); fill-opacity: 1;\"/><path class=\"point\" transform=\"translate(483.6,87.64)\" d=\"M3,0A3,3 0 1,1 0,-3A3,3 0 0,1 3,0Z\" style=\"opacity: 1; stroke-width: 0px; fill: rgb(240, 249, 33); fill-opacity: 1;\"/><path class=\"point\" transform=\"translate(483.6,87.23)\" d=\"M3,0A3,3 0 1,1 0,-3A3,3 0 0,1 3,0Z\" style=\"opacity: 1; stroke-width: 0px; fill: rgb(240, 249, 33); fill-opacity: 1;\"/><path class=\"point\" transform=\"translate(29.4,86.82)\" d=\"M3,0A3,3 0 1,1 0,-3A3,3 0 0,1 3,0Z\" style=\"opacity: 1; stroke-width: 0px; fill: rgb(240, 249, 33); fill-opacity: 1;\"/><path class=\"point\" transform=\"translate(29.4,86.41)\" d=\"M3,0A3,3 0 1,1 0,-3A3,3 0 0,1 3,0Z\" style=\"opacity: 1; stroke-width: 0px; fill: rgb(240, 249, 33); fill-opacity: 1;\"/><path class=\"point\" transform=\"translate(29.4,86)\" d=\"M3,0A3,3 0 1,1 0,-3A3,3 0 0,1 3,0Z\" style=\"opacity: 1; stroke-width: 0px; fill: rgb(240, 249, 33); fill-opacity: 1;\"/><path class=\"point\" transform=\"translate(256.5,85.59)\" d=\"M3,0A3,3 0 1,1 0,-3A3,3 0 0,1 3,0Z\" style=\"opacity: 1; stroke-width: 0px; fill: rgb(13, 8, 135); fill-opacity: 1;\"/><path class=\"point\" transform=\"translate(256.5,85.18)\" d=\"M3,0A3,3 0 1,1 0,-3A3,3 0 0,1 3,0Z\" style=\"opacity: 1; stroke-width: 0px; fill: rgb(13, 8, 135); fill-opacity: 1;\"/><path class=\"point\" transform=\"translate(256.5,84.77)\" d=\"M3,0A3,3 0 1,1 0,-3A3,3 0 0,1 3,0Z\" style=\"opacity: 1; stroke-width: 0px; fill: rgb(13, 8, 135); fill-opacity: 1;\"/><path class=\"point\" transform=\"translate(256.5,84.36)\" d=\"M3,0A3,3 0 1,1 0,-3A3,3 0 0,1 3,0Z\" style=\"opacity: 1; stroke-width: 0px; fill: rgb(13, 8, 135); fill-opacity: 1;\"/><path class=\"point\" transform=\"translate(256.5,83.95)\" d=\"M3,0A3,3 0 1,1 0,-3A3,3 0 0,1 3,0Z\" style=\"opacity: 1; stroke-width: 0px; fill: rgb(13, 8, 135); fill-opacity: 1;\"/><path class=\"point\" transform=\"translate(256.5,83.54)\" d=\"M3,0A3,3 0 1,1 0,-3A3,3 0 0,1 3,0Z\" style=\"opacity: 1; stroke-width: 0px; fill: rgb(13, 8, 135); fill-opacity: 1;\"/><path class=\"point\" transform=\"translate(256.5,83.13)\" d=\"M3,0A3,3 0 1,1 0,-3A3,3 0 0,1 3,0Z\" style=\"opacity: 1; stroke-width: 0px; fill: rgb(13, 8, 135); fill-opacity: 1;\"/><path class=\"point\" transform=\"translate(256.5,82.72)\" d=\"M3,0A3,3 0 1,1 0,-3A3,3 0 0,1 3,0Z\" style=\"opacity: 1; stroke-width: 0px; fill: rgb(13, 8, 135); fill-opacity: 1;\"/><path class=\"point\" transform=\"translate(256.5,82.31)\" d=\"M3,0A3,3 0 1,1 0,-3A3,3 0 0,1 3,0Z\" style=\"opacity: 1; stroke-width: 0px; fill: rgb(13, 8, 135); fill-opacity: 1;\"/><path class=\"point\" transform=\"translate(256.5,81.9)\" d=\"M3,0A3,3 0 1,1 0,-3A3,3 0 0,1 3,0Z\" style=\"opacity: 1; stroke-width: 0px; fill: rgb(13, 8, 135); fill-opacity: 1;\"/><path class=\"point\" transform=\"translate(256.5,81.49)\" d=\"M3,0A3,3 0 1,1 0,-3A3,3 0 0,1 3,0Z\" style=\"opacity: 1; stroke-width: 0px; fill: rgb(13, 8, 135); fill-opacity: 1;\"/><path class=\"point\" transform=\"translate(256.5,81.08)\" d=\"M3,0A3,3 0 1,1 0,-3A3,3 0 0,1 3,0Z\" style=\"opacity: 1; stroke-width: 0px; fill: rgb(13, 8, 135); fill-opacity: 1;\"/><path class=\"point\" transform=\"translate(256.5,80.68)\" d=\"M3,0A3,3 0 1,1 0,-3A3,3 0 0,1 3,0Z\" style=\"opacity: 1; stroke-width: 0px; fill: rgb(13, 8, 135); fill-opacity: 1;\"/><path class=\"point\" transform=\"translate(256.5,80.27)\" d=\"M3,0A3,3 0 1,1 0,-3A3,3 0 0,1 3,0Z\" style=\"opacity: 1; stroke-width: 0px; fill: rgb(13, 8, 135); fill-opacity: 1;\"/><path class=\"point\" transform=\"translate(256.5,79.86)\" d=\"M3,0A3,3 0 1,1 0,-3A3,3 0 0,1 3,0Z\" style=\"opacity: 1; stroke-width: 0px; fill: rgb(13, 8, 135); fill-opacity: 1;\"/><path class=\"point\" transform=\"translate(256.5,79.45)\" d=\"M3,0A3,3 0 1,1 0,-3A3,3 0 0,1 3,0Z\" style=\"opacity: 1; stroke-width: 0px; fill: rgb(13, 8, 135); fill-opacity: 1;\"/><path class=\"point\" transform=\"translate(256.5,79.04)\" d=\"M3,0A3,3 0 1,1 0,-3A3,3 0 0,1 3,0Z\" style=\"opacity: 1; stroke-width: 0px; fill: rgb(13, 8, 135); fill-opacity: 1;\"/><path class=\"point\" transform=\"translate(256.5,78.63)\" d=\"M3,0A3,3 0 1,1 0,-3A3,3 0 0,1 3,0Z\" style=\"opacity: 1; stroke-width: 0px; fill: rgb(13, 8, 135); fill-opacity: 1;\"/><path class=\"point\" transform=\"translate(256.5,78.22)\" d=\"M3,0A3,3 0 1,1 0,-3A3,3 0 0,1 3,0Z\" style=\"opacity: 1; stroke-width: 0px; fill: rgb(13, 8, 135); fill-opacity: 1;\"/><path class=\"point\" transform=\"translate(256.5,77.81)\" d=\"M3,0A3,3 0 1,1 0,-3A3,3 0 0,1 3,0Z\" style=\"opacity: 1; stroke-width: 0px; fill: rgb(13, 8, 135); fill-opacity: 1;\"/><path class=\"point\" transform=\"translate(256.5,77.4)\" d=\"M3,0A3,3 0 1,1 0,-3A3,3 0 0,1 3,0Z\" style=\"opacity: 1; stroke-width: 0px; fill: rgb(13, 8, 135); fill-opacity: 1;\"/><path class=\"point\" transform=\"translate(256.5,76.99)\" d=\"M3,0A3,3 0 1,1 0,-3A3,3 0 0,1 3,0Z\" style=\"opacity: 1; stroke-width: 0px; fill: rgb(13, 8, 135); fill-opacity: 1;\"/><path class=\"point\" transform=\"translate(256.5,76.58)\" d=\"M3,0A3,3 0 1,1 0,-3A3,3 0 0,1 3,0Z\" style=\"opacity: 1; stroke-width: 0px; fill: rgb(13, 8, 135); fill-opacity: 1;\"/><path class=\"point\" transform=\"translate(256.5,76.17)\" d=\"M3,0A3,3 0 1,1 0,-3A3,3 0 0,1 3,0Z\" style=\"opacity: 1; stroke-width: 0px; fill: rgb(13, 8, 135); fill-opacity: 1;\"/><path class=\"point\" transform=\"translate(256.5,75.76)\" d=\"M3,0A3,3 0 1,1 0,-3A3,3 0 0,1 3,0Z\" style=\"opacity: 1; stroke-width: 0px; fill: rgb(13, 8, 135); fill-opacity: 1;\"/><path class=\"point\" transform=\"translate(256.5,75.35)\" d=\"M3,0A3,3 0 1,1 0,-3A3,3 0 0,1 3,0Z\" style=\"opacity: 1; stroke-width: 0px; fill: rgb(13, 8, 135); fill-opacity: 1;\"/><path class=\"point\" transform=\"translate(256.5,74.94)\" d=\"M3,0A3,3 0 1,1 0,-3A3,3 0 0,1 3,0Z\" style=\"opacity: 1; stroke-width: 0px; fill: rgb(13, 8, 135); fill-opacity: 1;\"/><path class=\"point\" transform=\"translate(256.5,74.53)\" d=\"M3,0A3,3 0 1,1 0,-3A3,3 0 0,1 3,0Z\" style=\"opacity: 1; stroke-width: 0px; fill: rgb(13, 8, 135); fill-opacity: 1;\"/><path class=\"point\" transform=\"translate(256.5,74.12)\" d=\"M3,0A3,3 0 1,1 0,-3A3,3 0 0,1 3,0Z\" style=\"opacity: 1; stroke-width: 0px; fill: rgb(13, 8, 135); fill-opacity: 1;\"/><path class=\"point\" transform=\"translate(256.5,73.71)\" d=\"M3,0A3,3 0 1,1 0,-3A3,3 0 0,1 3,0Z\" style=\"opacity: 1; stroke-width: 0px; fill: rgb(13, 8, 135); fill-opacity: 1;\"/><path class=\"point\" transform=\"translate(256.5,73.3)\" d=\"M3,0A3,3 0 1,1 0,-3A3,3 0 0,1 3,0Z\" style=\"opacity: 1; stroke-width: 0px; fill: rgb(13, 8, 135); fill-opacity: 1;\"/><path class=\"point\" transform=\"translate(256.5,72.89)\" d=\"M3,0A3,3 0 1,1 0,-3A3,3 0 0,1 3,0Z\" style=\"opacity: 1; stroke-width: 0px; fill: rgb(13, 8, 135); fill-opacity: 1;\"/><path class=\"point\" transform=\"translate(256.5,72.49)\" d=\"M3,0A3,3 0 1,1 0,-3A3,3 0 0,1 3,0Z\" style=\"opacity: 1; stroke-width: 0px; fill: rgb(13, 8, 135); fill-opacity: 1;\"/><path class=\"point\" transform=\"translate(256.5,72.08)\" d=\"M3,0A3,3 0 1,1 0,-3A3,3 0 0,1 3,0Z\" style=\"opacity: 1; stroke-width: 0px; fill: rgb(13, 8, 135); fill-opacity: 1;\"/><path class=\"point\" transform=\"translate(256.5,71.67)\" d=\"M3,0A3,3 0 1,1 0,-3A3,3 0 0,1 3,0Z\" style=\"opacity: 1; stroke-width: 0px; fill: rgb(13, 8, 135); fill-opacity: 1;\"/><path class=\"point\" transform=\"translate(256.5,71.26)\" d=\"M3,0A3,3 0 1,1 0,-3A3,3 0 0,1 3,0Z\" style=\"opacity: 1; stroke-width: 0px; fill: rgb(13, 8, 135); fill-opacity: 1;\"/><path class=\"point\" transform=\"translate(256.5,70.85)\" d=\"M3,0A3,3 0 1,1 0,-3A3,3 0 0,1 3,0Z\" style=\"opacity: 1; stroke-width: 0px; fill: rgb(240, 249, 33); fill-opacity: 1;\"/><path class=\"point\" transform=\"translate(256.5,70.44)\" d=\"M3,0A3,3 0 1,1 0,-3A3,3 0 0,1 3,0Z\" style=\"opacity: 1; stroke-width: 0px; fill: rgb(240, 249, 33); fill-opacity: 1;\"/><path class=\"point\" transform=\"translate(256.5,70.03)\" d=\"M3,0A3,3 0 1,1 0,-3A3,3 0 0,1 3,0Z\" style=\"opacity: 1; stroke-width: 0px; fill: rgb(240, 249, 33); fill-opacity: 1;\"/><path class=\"point\" transform=\"translate(256.5,69.62)\" d=\"M3,0A3,3 0 1,1 0,-3A3,3 0 0,1 3,0Z\" style=\"opacity: 1; stroke-width: 0px; fill: rgb(240, 249, 33); fill-opacity: 1;\"/><path class=\"point\" transform=\"translate(256.5,69.21)\" d=\"M3,0A3,3 0 1,1 0,-3A3,3 0 0,1 3,0Z\" style=\"opacity: 1; stroke-width: 0px; fill: rgb(240, 249, 33); fill-opacity: 1;\"/><path class=\"point\" transform=\"translate(256.5,68.8)\" d=\"M3,0A3,3 0 1,1 0,-3A3,3 0 0,1 3,0Z\" style=\"opacity: 1; stroke-width: 0px; fill: rgb(240, 249, 33); fill-opacity: 1;\"/><path class=\"point\" transform=\"translate(256.5,68.39)\" d=\"M3,0A3,3 0 1,1 0,-3A3,3 0 0,1 3,0Z\" style=\"opacity: 1; stroke-width: 0px; fill: rgb(13, 8, 135); fill-opacity: 1;\"/><path class=\"point\" transform=\"translate(256.5,67.98)\" d=\"M3,0A3,3 0 1,1 0,-3A3,3 0 0,1 3,0Z\" style=\"opacity: 1; stroke-width: 0px; fill: rgb(13, 8, 135); fill-opacity: 1;\"/><path class=\"point\" transform=\"translate(256.5,67.57)\" d=\"M3,0A3,3 0 1,1 0,-3A3,3 0 0,1 3,0Z\" style=\"opacity: 1; stroke-width: 0px; fill: rgb(13, 8, 135); fill-opacity: 1;\"/><path class=\"point\" transform=\"translate(256.5,67.16)\" d=\"M3,0A3,3 0 1,1 0,-3A3,3 0 0,1 3,0Z\" style=\"opacity: 1; stroke-width: 0px; fill: rgb(13, 8, 135); fill-opacity: 1;\"/><path class=\"point\" transform=\"translate(256.5,66.75)\" d=\"M3,0A3,3 0 1,1 0,-3A3,3 0 0,1 3,0Z\" style=\"opacity: 1; stroke-width: 0px; fill: rgb(13, 8, 135); fill-opacity: 1;\"/><path class=\"point\" transform=\"translate(256.5,66.34)\" d=\"M3,0A3,3 0 1,1 0,-3A3,3 0 0,1 3,0Z\" style=\"opacity: 1; stroke-width: 0px; fill: rgb(13, 8, 135); fill-opacity: 1;\"/><path class=\"point\" transform=\"translate(256.5,65.93)\" d=\"M3,0A3,3 0 1,1 0,-3A3,3 0 0,1 3,0Z\" style=\"opacity: 1; stroke-width: 0px; fill: rgb(13, 8, 135); fill-opacity: 1;\"/><path class=\"point\" transform=\"translate(256.5,65.52)\" d=\"M3,0A3,3 0 1,1 0,-3A3,3 0 0,1 3,0Z\" style=\"opacity: 1; stroke-width: 0px; fill: rgb(13, 8, 135); fill-opacity: 1;\"/><path class=\"point\" transform=\"translate(256.5,65.11)\" d=\"M3,0A3,3 0 1,1 0,-3A3,3 0 0,1 3,0Z\" style=\"opacity: 1; stroke-width: 0px; fill: rgb(13, 8, 135); fill-opacity: 1;\"/><path class=\"point\" transform=\"translate(256.5,64.7)\" d=\"M3,0A3,3 0 1,1 0,-3A3,3 0 0,1 3,0Z\" style=\"opacity: 1; stroke-width: 0px; fill: rgb(13, 8, 135); fill-opacity: 1;\"/><path class=\"point\" transform=\"translate(256.5,64.3)\" d=\"M3,0A3,3 0 1,1 0,-3A3,3 0 0,1 3,0Z\" style=\"opacity: 1; stroke-width: 0px; fill: rgb(13, 8, 135); fill-opacity: 1;\"/><path class=\"point\" transform=\"translate(256.5,63.89)\" d=\"M3,0A3,3 0 1,1 0,-3A3,3 0 0,1 3,0Z\" style=\"opacity: 1; stroke-width: 0px; fill: rgb(13, 8, 135); fill-opacity: 1;\"/><path class=\"point\" transform=\"translate(256.5,63.48)\" d=\"M3,0A3,3 0 1,1 0,-3A3,3 0 0,1 3,0Z\" style=\"opacity: 1; stroke-width: 0px; fill: rgb(13, 8, 135); fill-opacity: 1;\"/><path class=\"point\" transform=\"translate(256.5,63.07)\" d=\"M3,0A3,3 0 1,1 0,-3A3,3 0 0,1 3,0Z\" style=\"opacity: 1; stroke-width: 0px; fill: rgb(13, 8, 135); fill-opacity: 1;\"/><path class=\"point\" transform=\"translate(256.5,62.66)\" d=\"M3,0A3,3 0 1,1 0,-3A3,3 0 0,1 3,0Z\" style=\"opacity: 1; stroke-width: 0px; fill: rgb(13, 8, 135); fill-opacity: 1;\"/><path class=\"point\" transform=\"translate(256.5,62.25)\" d=\"M3,0A3,3 0 1,1 0,-3A3,3 0 0,1 3,0Z\" style=\"opacity: 1; stroke-width: 0px; fill: rgb(13, 8, 135); fill-opacity: 1;\"/><path class=\"point\" transform=\"translate(256.5,61.84)\" d=\"M3,0A3,3 0 1,1 0,-3A3,3 0 0,1 3,0Z\" style=\"opacity: 1; stroke-width: 0px; fill: rgb(13, 8, 135); fill-opacity: 1;\"/><path class=\"point\" transform=\"translate(256.5,61.43)\" d=\"M3,0A3,3 0 1,1 0,-3A3,3 0 0,1 3,0Z\" style=\"opacity: 1; stroke-width: 0px; fill: rgb(13, 8, 135); fill-opacity: 1;\"/><path class=\"point\" transform=\"translate(256.5,61.02)\" d=\"M3,0A3,3 0 1,1 0,-3A3,3 0 0,1 3,0Z\" style=\"opacity: 1; stroke-width: 0px; fill: rgb(13, 8, 135); fill-opacity: 1;\"/><path class=\"point\" transform=\"translate(256.5,60.61)\" d=\"M3,0A3,3 0 1,1 0,-3A3,3 0 0,1 3,0Z\" style=\"opacity: 1; stroke-width: 0px; fill: rgb(13, 8, 135); fill-opacity: 1;\"/><path class=\"point\" transform=\"translate(256.5,60.2)\" d=\"M3,0A3,3 0 1,1 0,-3A3,3 0 0,1 3,0Z\" style=\"opacity: 1; stroke-width: 0px; fill: rgb(13, 8, 135); fill-opacity: 1;\"/><path class=\"point\" transform=\"translate(256.5,59.79)\" d=\"M3,0A3,3 0 1,1 0,-3A3,3 0 0,1 3,0Z\" style=\"opacity: 1; stroke-width: 0px; fill: rgb(13, 8, 135); fill-opacity: 1;\"/><path class=\"point\" transform=\"translate(256.5,59.38)\" d=\"M3,0A3,3 0 1,1 0,-3A3,3 0 0,1 3,0Z\" style=\"opacity: 1; stroke-width: 0px; fill: rgb(13, 8, 135); fill-opacity: 1;\"/><path class=\"point\" transform=\"translate(256.5,58.97)\" d=\"M3,0A3,3 0 1,1 0,-3A3,3 0 0,1 3,0Z\" style=\"opacity: 1; stroke-width: 0px; fill: rgb(13, 8, 135); fill-opacity: 1;\"/><path class=\"point\" transform=\"translate(256.5,58.56)\" d=\"M3,0A3,3 0 1,1 0,-3A3,3 0 0,1 3,0Z\" style=\"opacity: 1; stroke-width: 0px; fill: rgb(13, 8, 135); fill-opacity: 1;\"/><path class=\"point\" transform=\"translate(256.5,58.15)\" d=\"M3,0A3,3 0 1,1 0,-3A3,3 0 0,1 3,0Z\" style=\"opacity: 1; stroke-width: 0px; fill: rgb(13, 8, 135); fill-opacity: 1;\"/><path class=\"point\" transform=\"translate(256.5,57.74)\" d=\"M3,0A3,3 0 1,1 0,-3A3,3 0 0,1 3,0Z\" style=\"opacity: 1; stroke-width: 0px; fill: rgb(13, 8, 135); fill-opacity: 1;\"/><path class=\"point\" transform=\"translate(256.5,57.33)\" d=\"M3,0A3,3 0 1,1 0,-3A3,3 0 0,1 3,0Z\" style=\"opacity: 1; stroke-width: 0px; fill: rgb(13, 8, 135); fill-opacity: 1;\"/><path class=\"point\" transform=\"translate(256.5,56.92)\" d=\"M3,0A3,3 0 1,1 0,-3A3,3 0 0,1 3,0Z\" style=\"opacity: 1; stroke-width: 0px; fill: rgb(13, 8, 135); fill-opacity: 1;\"/><path class=\"point\" transform=\"translate(256.5,56.51)\" d=\"M3,0A3,3 0 1,1 0,-3A3,3 0 0,1 3,0Z\" style=\"opacity: 1; stroke-width: 0px; fill: rgb(13, 8, 135); fill-opacity: 1;\"/><path class=\"point\" transform=\"translate(256.5,56.11)\" d=\"M3,0A3,3 0 1,1 0,-3A3,3 0 0,1 3,0Z\" style=\"opacity: 1; stroke-width: 0px; fill: rgb(13, 8, 135); fill-opacity: 1;\"/><path class=\"point\" transform=\"translate(256.5,55.7)\" d=\"M3,0A3,3 0 1,1 0,-3A3,3 0 0,1 3,0Z\" style=\"opacity: 1; stroke-width: 0px; fill: rgb(13, 8, 135); fill-opacity: 1;\"/><path class=\"point\" transform=\"translate(256.5,55.29)\" d=\"M3,0A3,3 0 1,1 0,-3A3,3 0 0,1 3,0Z\" style=\"opacity: 1; stroke-width: 0px; fill: rgb(13, 8, 135); fill-opacity: 1;\"/><path class=\"point\" transform=\"translate(256.5,54.88)\" d=\"M3,0A3,3 0 1,1 0,-3A3,3 0 0,1 3,0Z\" style=\"opacity: 1; stroke-width: 0px; fill: rgb(13, 8, 135); fill-opacity: 1;\"/><path class=\"point\" transform=\"translate(256.5,54.47)\" d=\"M3,0A3,3 0 1,1 0,-3A3,3 0 0,1 3,0Z\" style=\"opacity: 1; stroke-width: 0px; fill: rgb(13, 8, 135); fill-opacity: 1;\"/><path class=\"point\" transform=\"translate(256.5,54.06)\" d=\"M3,0A3,3 0 1,1 0,-3A3,3 0 0,1 3,0Z\" style=\"opacity: 1; stroke-width: 0px; fill: rgb(13, 8, 135); fill-opacity: 1;\"/><path class=\"point\" transform=\"translate(256.5,53.65)\" d=\"M3,0A3,3 0 1,1 0,-3A3,3 0 0,1 3,0Z\" style=\"opacity: 1; stroke-width: 0px; fill: rgb(13, 8, 135); fill-opacity: 1;\"/><path class=\"point\" transform=\"translate(256.5,53.24)\" d=\"M3,0A3,3 0 1,1 0,-3A3,3 0 0,1 3,0Z\" style=\"opacity: 1; stroke-width: 0px; fill: rgb(13, 8, 135); fill-opacity: 1;\"/><path class=\"point\" transform=\"translate(256.5,52.83)\" d=\"M3,0A3,3 0 1,1 0,-3A3,3 0 0,1 3,0Z\" style=\"opacity: 1; stroke-width: 0px; fill: rgb(13, 8, 135); fill-opacity: 1;\"/><path class=\"point\" transform=\"translate(256.5,52.42)\" d=\"M3,0A3,3 0 1,1 0,-3A3,3 0 0,1 3,0Z\" style=\"opacity: 1; stroke-width: 0px; fill: rgb(13, 8, 135); fill-opacity: 1;\"/><path class=\"point\" transform=\"translate(256.5,52.01)\" d=\"M3,0A3,3 0 1,1 0,-3A3,3 0 0,1 3,0Z\" style=\"opacity: 1; stroke-width: 0px; fill: rgb(13, 8, 135); fill-opacity: 1;\"/><path class=\"point\" transform=\"translate(256.5,51.6)\" d=\"M3,0A3,3 0 1,1 0,-3A3,3 0 0,1 3,0Z\" style=\"opacity: 1; stroke-width: 0px; fill: rgb(13, 8, 135); fill-opacity: 1;\"/><path class=\"point\" transform=\"translate(256.5,51.19)\" d=\"M3,0A3,3 0 1,1 0,-3A3,3 0 0,1 3,0Z\" style=\"opacity: 1; stroke-width: 0px; fill: rgb(13, 8, 135); fill-opacity: 1;\"/><path class=\"point\" transform=\"translate(256.5,50.78)\" d=\"M3,0A3,3 0 1,1 0,-3A3,3 0 0,1 3,0Z\" style=\"opacity: 1; stroke-width: 0px; fill: rgb(13, 8, 135); fill-opacity: 1;\"/><path class=\"point\" transform=\"translate(256.5,50.37)\" d=\"M3,0A3,3 0 1,1 0,-3A3,3 0 0,1 3,0Z\" style=\"opacity: 1; stroke-width: 0px; fill: rgb(13, 8, 135); fill-opacity: 1;\"/><path class=\"point\" transform=\"translate(256.5,49.96)\" d=\"M3,0A3,3 0 1,1 0,-3A3,3 0 0,1 3,0Z\" style=\"opacity: 1; stroke-width: 0px; fill: rgb(13, 8, 135); fill-opacity: 1;\"/><path class=\"point\" transform=\"translate(256.5,49.55)\" d=\"M3,0A3,3 0 1,1 0,-3A3,3 0 0,1 3,0Z\" style=\"opacity: 1; stroke-width: 0px; fill: rgb(13, 8, 135); fill-opacity: 1;\"/><path class=\"point\" transform=\"translate(256.5,49.14)\" d=\"M3,0A3,3 0 1,1 0,-3A3,3 0 0,1 3,0Z\" style=\"opacity: 1; stroke-width: 0px; fill: rgb(13, 8, 135); fill-opacity: 1;\"/><path class=\"point\" transform=\"translate(256.5,48.73)\" d=\"M3,0A3,3 0 1,1 0,-3A3,3 0 0,1 3,0Z\" style=\"opacity: 1; stroke-width: 0px; fill: rgb(13, 8, 135); fill-opacity: 1;\"/><path class=\"point\" transform=\"translate(256.5,48.32)\" d=\"M3,0A3,3 0 1,1 0,-3A3,3 0 0,1 3,0Z\" style=\"opacity: 1; stroke-width: 0px; fill: rgb(13, 8, 135); fill-opacity: 1;\"/><path class=\"point\" transform=\"translate(256.5,47.92)\" d=\"M3,0A3,3 0 1,1 0,-3A3,3 0 0,1 3,0Z\" style=\"opacity: 1; stroke-width: 0px; fill: rgb(13, 8, 135); fill-opacity: 1;\"/><path class=\"point\" transform=\"translate(256.5,47.51)\" d=\"M3,0A3,3 0 1,1 0,-3A3,3 0 0,1 3,0Z\" style=\"opacity: 1; stroke-width: 0px; fill: rgb(13, 8, 135); fill-opacity: 1;\"/><path class=\"point\" transform=\"translate(256.5,47.1)\" d=\"M3,0A3,3 0 1,1 0,-3A3,3 0 0,1 3,0Z\" style=\"opacity: 1; stroke-width: 0px; fill: rgb(13, 8, 135); fill-opacity: 1;\"/><path class=\"point\" transform=\"translate(256.5,46.69)\" d=\"M3,0A3,3 0 1,1 0,-3A3,3 0 0,1 3,0Z\" style=\"opacity: 1; stroke-width: 0px; fill: rgb(13, 8, 135); fill-opacity: 1;\"/><path class=\"point\" transform=\"translate(256.5,46.28)\" d=\"M3,0A3,3 0 1,1 0,-3A3,3 0 0,1 3,0Z\" style=\"opacity: 1; stroke-width: 0px; fill: rgb(13, 8, 135); fill-opacity: 1;\"/><path class=\"point\" transform=\"translate(256.5,45.87)\" d=\"M3,0A3,3 0 1,1 0,-3A3,3 0 0,1 3,0Z\" style=\"opacity: 1; stroke-width: 0px; fill: rgb(13, 8, 135); fill-opacity: 1;\"/><path class=\"point\" transform=\"translate(256.5,45.46)\" d=\"M3,0A3,3 0 1,1 0,-3A3,3 0 0,1 3,0Z\" style=\"opacity: 1; stroke-width: 0px; fill: rgb(13, 8, 135); fill-opacity: 1;\"/><path class=\"point\" transform=\"translate(256.5,45.05)\" d=\"M3,0A3,3 0 1,1 0,-3A3,3 0 0,1 3,0Z\" style=\"opacity: 1; stroke-width: 0px; fill: rgb(13, 8, 135); fill-opacity: 1;\"/><path class=\"point\" transform=\"translate(256.5,44.64)\" d=\"M3,0A3,3 0 1,1 0,-3A3,3 0 0,1 3,0Z\" style=\"opacity: 1; stroke-width: 0px; fill: rgb(13, 8, 135); fill-opacity: 1;\"/><path class=\"point\" transform=\"translate(256.5,44.23)\" d=\"M3,0A3,3 0 1,1 0,-3A3,3 0 0,1 3,0Z\" style=\"opacity: 1; stroke-width: 0px; fill: rgb(13, 8, 135); fill-opacity: 1;\"/><path class=\"point\" transform=\"translate(256.5,43.82)\" d=\"M3,0A3,3 0 1,1 0,-3A3,3 0 0,1 3,0Z\" style=\"opacity: 1; stroke-width: 0px; fill: rgb(13, 8, 135); fill-opacity: 1;\"/><path class=\"point\" transform=\"translate(256.5,43.41)\" d=\"M3,0A3,3 0 1,1 0,-3A3,3 0 0,1 3,0Z\" style=\"opacity: 1; stroke-width: 0px; fill: rgb(13, 8, 135); fill-opacity: 1;\"/><path class=\"point\" transform=\"translate(256.5,43)\" d=\"M3,0A3,3 0 1,1 0,-3A3,3 0 0,1 3,0Z\" style=\"opacity: 1; stroke-width: 0px; fill: rgb(13, 8, 135); fill-opacity: 1;\"/><path class=\"point\" transform=\"translate(256.5,42.59)\" d=\"M3,0A3,3 0 1,1 0,-3A3,3 0 0,1 3,0Z\" style=\"opacity: 1; stroke-width: 0px; fill: rgb(13, 8, 135); fill-opacity: 1;\"/><path class=\"point\" transform=\"translate(256.5,42.18)\" d=\"M3,0A3,3 0 1,1 0,-3A3,3 0 0,1 3,0Z\" style=\"opacity: 1; stroke-width: 0px; fill: rgb(13, 8, 135); fill-opacity: 1;\"/><path class=\"point\" transform=\"translate(256.5,41.77)\" d=\"M3,0A3,3 0 1,1 0,-3A3,3 0 0,1 3,0Z\" style=\"opacity: 1; stroke-width: 0px; fill: rgb(13, 8, 135); fill-opacity: 1;\"/><path class=\"point\" transform=\"translate(256.5,41.36)\" d=\"M3,0A3,3 0 1,1 0,-3A3,3 0 0,1 3,0Z\" style=\"opacity: 1; stroke-width: 0px; fill: rgb(13, 8, 135); fill-opacity: 1;\"/><path class=\"point\" transform=\"translate(256.5,40.95)\" d=\"M3,0A3,3 0 1,1 0,-3A3,3 0 0,1 3,0Z\" style=\"opacity: 1; stroke-width: 0px; fill: rgb(13, 8, 135); fill-opacity: 1;\"/><path class=\"point\" transform=\"translate(256.5,40.54)\" d=\"M3,0A3,3 0 1,1 0,-3A3,3 0 0,1 3,0Z\" style=\"opacity: 1; stroke-width: 0px; fill: rgb(13, 8, 135); fill-opacity: 1;\"/><path class=\"point\" transform=\"translate(256.5,40.13)\" d=\"M3,0A3,3 0 1,1 0,-3A3,3 0 0,1 3,0Z\" style=\"opacity: 1; stroke-width: 0px; fill: rgb(13, 8, 135); fill-opacity: 1;\"/><path class=\"point\" transform=\"translate(256.5,39.73)\" d=\"M3,0A3,3 0 1,1 0,-3A3,3 0 0,1 3,0Z\" style=\"opacity: 1; stroke-width: 0px; fill: rgb(13, 8, 135); fill-opacity: 1;\"/><path class=\"point\" transform=\"translate(256.5,39.32)\" d=\"M3,0A3,3 0 1,1 0,-3A3,3 0 0,1 3,0Z\" style=\"opacity: 1; stroke-width: 0px; fill: rgb(13, 8, 135); fill-opacity: 1;\"/><path class=\"point\" transform=\"translate(256.5,38.91)\" d=\"M3,0A3,3 0 1,1 0,-3A3,3 0 0,1 3,0Z\" style=\"opacity: 1; stroke-width: 0px; fill: rgb(13, 8, 135); fill-opacity: 1;\"/><path class=\"point\" transform=\"translate(256.5,38.5)\" d=\"M3,0A3,3 0 1,1 0,-3A3,3 0 0,1 3,0Z\" style=\"opacity: 1; stroke-width: 0px; fill: rgb(13, 8, 135); fill-opacity: 1;\"/><path class=\"point\" transform=\"translate(256.5,38.09)\" d=\"M3,0A3,3 0 1,1 0,-3A3,3 0 0,1 3,0Z\" style=\"opacity: 1; stroke-width: 0px; fill: rgb(13, 8, 135); fill-opacity: 1;\"/><path class=\"point\" transform=\"translate(256.5,37.68)\" d=\"M3,0A3,3 0 1,1 0,-3A3,3 0 0,1 3,0Z\" style=\"opacity: 1; stroke-width: 0px; fill: rgb(13, 8, 135); fill-opacity: 1;\"/><path class=\"point\" transform=\"translate(256.5,37.27)\" d=\"M3,0A3,3 0 1,1 0,-3A3,3 0 0,1 3,0Z\" style=\"opacity: 1; stroke-width: 0px; fill: rgb(13, 8, 135); fill-opacity: 1;\"/><path class=\"point\" transform=\"translate(256.5,36.86)\" d=\"M3,0A3,3 0 1,1 0,-3A3,3 0 0,1 3,0Z\" style=\"opacity: 1; stroke-width: 0px; fill: rgb(13, 8, 135); fill-opacity: 1;\"/><path class=\"point\" transform=\"translate(256.5,36.45)\" d=\"M3,0A3,3 0 1,1 0,-3A3,3 0 0,1 3,0Z\" style=\"opacity: 1; stroke-width: 0px; fill: rgb(13, 8, 135); fill-opacity: 1;\"/><path class=\"point\" transform=\"translate(256.5,36.04)\" d=\"M3,0A3,3 0 1,1 0,-3A3,3 0 0,1 3,0Z\" style=\"opacity: 1; stroke-width: 0px; fill: rgb(13, 8, 135); fill-opacity: 1;\"/><path class=\"point\" transform=\"translate(256.5,35.63)\" d=\"M3,0A3,3 0 1,1 0,-3A3,3 0 0,1 3,0Z\" style=\"opacity: 1; stroke-width: 0px; fill: rgb(13, 8, 135); fill-opacity: 1;\"/><path class=\"point\" transform=\"translate(256.5,35.22)\" d=\"M3,0A3,3 0 1,1 0,-3A3,3 0 0,1 3,0Z\" style=\"opacity: 1; stroke-width: 0px; fill: rgb(13, 8, 135); fill-opacity: 1;\"/><path class=\"point\" transform=\"translate(256.5,34.81)\" d=\"M3,0A3,3 0 1,1 0,-3A3,3 0 0,1 3,0Z\" style=\"opacity: 1; stroke-width: 0px; fill: rgb(13, 8, 135); fill-opacity: 1;\"/><path class=\"point\" transform=\"translate(256.5,34.4)\" d=\"M3,0A3,3 0 1,1 0,-3A3,3 0 0,1 3,0Z\" style=\"opacity: 1; stroke-width: 0px; fill: rgb(13, 8, 135); fill-opacity: 1;\"/><path class=\"point\" transform=\"translate(256.5,33.99)\" d=\"M3,0A3,3 0 1,1 0,-3A3,3 0 0,1 3,0Z\" style=\"opacity: 1; stroke-width: 0px; fill: rgb(13, 8, 135); fill-opacity: 1;\"/><path class=\"point\" transform=\"translate(256.5,33.58)\" d=\"M3,0A3,3 0 1,1 0,-3A3,3 0 0,1 3,0Z\" style=\"opacity: 1; stroke-width: 0px; fill: rgb(13, 8, 135); fill-opacity: 1;\"/><path class=\"point\" transform=\"translate(256.5,33.17)\" d=\"M3,0A3,3 0 1,1 0,-3A3,3 0 0,1 3,0Z\" style=\"opacity: 1; stroke-width: 0px; fill: rgb(13, 8, 135); fill-opacity: 1;\"/><path class=\"point\" transform=\"translate(256.5,32.76)\" d=\"M3,0A3,3 0 1,1 0,-3A3,3 0 0,1 3,0Z\" style=\"opacity: 1; stroke-width: 0px; fill: rgb(13, 8, 135); fill-opacity: 1;\"/><path class=\"point\" transform=\"translate(256.5,32.35)\" d=\"M3,0A3,3 0 1,1 0,-3A3,3 0 0,1 3,0Z\" style=\"opacity: 1; stroke-width: 0px; fill: rgb(13, 8, 135); fill-opacity: 1;\"/><path class=\"point\" transform=\"translate(256.5,31.94)\" d=\"M3,0A3,3 0 1,1 0,-3A3,3 0 0,1 3,0Z\" style=\"opacity: 1; stroke-width: 0px; fill: rgb(13, 8, 135); fill-opacity: 1;\"/><path class=\"point\" transform=\"translate(256.5,31.54)\" d=\"M3,0A3,3 0 1,1 0,-3A3,3 0 0,1 3,0Z\" style=\"opacity: 1; stroke-width: 0px; fill: rgb(13, 8, 135); fill-opacity: 1;\"/><path class=\"point\" transform=\"translate(256.5,31.13)\" d=\"M3,0A3,3 0 1,1 0,-3A3,3 0 0,1 3,0Z\" style=\"opacity: 1; stroke-width: 0px; fill: rgb(13, 8, 135); fill-opacity: 1;\"/><path class=\"point\" transform=\"translate(256.5,30.72)\" d=\"M3,0A3,3 0 1,1 0,-3A3,3 0 0,1 3,0Z\" style=\"opacity: 1; stroke-width: 0px; fill: rgb(13, 8, 135); fill-opacity: 1;\"/><path class=\"point\" transform=\"translate(256.5,30.31)\" d=\"M3,0A3,3 0 1,1 0,-3A3,3 0 0,1 3,0Z\" style=\"opacity: 1; stroke-width: 0px; fill: rgb(13, 8, 135); fill-opacity: 1;\"/><path class=\"point\" transform=\"translate(256.5,29.9)\" d=\"M3,0A3,3 0 1,1 0,-3A3,3 0 0,1 3,0Z\" style=\"opacity: 1; stroke-width: 0px; fill: rgb(13, 8, 135); fill-opacity: 1;\"/><path class=\"point\" transform=\"translate(256.5,29.49)\" d=\"M3,0A3,3 0 1,1 0,-3A3,3 0 0,1 3,0Z\" style=\"opacity: 1; stroke-width: 0px; fill: rgb(13, 8, 135); fill-opacity: 1;\"/><path class=\"point\" transform=\"translate(256.5,29.08)\" d=\"M3,0A3,3 0 1,1 0,-3A3,3 0 0,1 3,0Z\" style=\"opacity: 1; stroke-width: 0px; fill: rgb(13, 8, 135); fill-opacity: 1;\"/><path class=\"point\" transform=\"translate(256.5,28.67)\" d=\"M3,0A3,3 0 1,1 0,-3A3,3 0 0,1 3,0Z\" style=\"opacity: 1; stroke-width: 0px; fill: rgb(13, 8, 135); fill-opacity: 1;\"/><path class=\"point\" transform=\"translate(256.5,28.26)\" d=\"M3,0A3,3 0 1,1 0,-3A3,3 0 0,1 3,0Z\" style=\"opacity: 1; stroke-width: 0px; fill: rgb(13, 8, 135); fill-opacity: 1;\"/><path class=\"point\" transform=\"translate(256.5,27.85)\" d=\"M3,0A3,3 0 1,1 0,-3A3,3 0 0,1 3,0Z\" style=\"opacity: 1; stroke-width: 0px; fill: rgb(13, 8, 135); fill-opacity: 1;\"/><path class=\"point\" transform=\"translate(256.5,27.44)\" d=\"M3,0A3,3 0 1,1 0,-3A3,3 0 0,1 3,0Z\" style=\"opacity: 1; stroke-width: 0px; fill: rgb(13, 8, 135); fill-opacity: 1;\"/><path class=\"point\" transform=\"translate(256.5,27.03)\" d=\"M3,0A3,3 0 1,1 0,-3A3,3 0 0,1 3,0Z\" style=\"opacity: 1; stroke-width: 0px; fill: rgb(13, 8, 135); fill-opacity: 1;\"/><path class=\"point\" transform=\"translate(256.5,26.62)\" d=\"M3,0A3,3 0 1,1 0,-3A3,3 0 0,1 3,0Z\" style=\"opacity: 1; stroke-width: 0px; fill: rgb(13, 8, 135); fill-opacity: 1;\"/><path class=\"point\" transform=\"translate(256.5,26.21)\" d=\"M3,0A3,3 0 1,1 0,-3A3,3 0 0,1 3,0Z\" style=\"opacity: 1; stroke-width: 0px; fill: rgb(13, 8, 135); fill-opacity: 1;\"/><path class=\"point\" transform=\"translate(256.5,25.8)\" d=\"M3,0A3,3 0 1,1 0,-3A3,3 0 0,1 3,0Z\" style=\"opacity: 1; stroke-width: 0px; fill: rgb(13, 8, 135); fill-opacity: 1;\"/><path class=\"point\" transform=\"translate(256.5,25.39)\" d=\"M3,0A3,3 0 1,1 0,-3A3,3 0 0,1 3,0Z\" style=\"opacity: 1; stroke-width: 0px; fill: rgb(13, 8, 135); fill-opacity: 1;\"/><path class=\"point\" transform=\"translate(256.5,24.98)\" d=\"M3,0A3,3 0 1,1 0,-3A3,3 0 0,1 3,0Z\" style=\"opacity: 1; stroke-width: 0px; fill: rgb(13, 8, 135); fill-opacity: 1;\"/><path class=\"point\" transform=\"translate(256.5,24.57)\" d=\"M3,0A3,3 0 1,1 0,-3A3,3 0 0,1 3,0Z\" style=\"opacity: 1; stroke-width: 0px; fill: rgb(13, 8, 135); fill-opacity: 1;\"/><path class=\"point\" transform=\"translate(256.5,24.16)\" d=\"M3,0A3,3 0 1,1 0,-3A3,3 0 0,1 3,0Z\" style=\"opacity: 1; stroke-width: 0px; fill: rgb(13, 8, 135); fill-opacity: 1;\"/><path class=\"point\" transform=\"translate(256.5,23.75)\" d=\"M3,0A3,3 0 1,1 0,-3A3,3 0 0,1 3,0Z\" style=\"opacity: 1; stroke-width: 0px; fill: rgb(13, 8, 135); fill-opacity: 1;\"/><path class=\"point\" transform=\"translate(256.5,23.35)\" d=\"M3,0A3,3 0 1,1 0,-3A3,3 0 0,1 3,0Z\" style=\"opacity: 1; stroke-width: 0px; fill: rgb(13, 8, 135); fill-opacity: 1;\"/><path class=\"point\" transform=\"translate(256.5,22.94)\" d=\"M3,0A3,3 0 1,1 0,-3A3,3 0 0,1 3,0Z\" style=\"opacity: 1; stroke-width: 0px; fill: rgb(13, 8, 135); fill-opacity: 1;\"/><path class=\"point\" transform=\"translate(256.5,22.53)\" d=\"M3,0A3,3 0 1,1 0,-3A3,3 0 0,1 3,0Z\" style=\"opacity: 1; stroke-width: 0px; fill: rgb(13, 8, 135); fill-opacity: 1;\"/><path class=\"point\" transform=\"translate(256.5,22.12)\" d=\"M3,0A3,3 0 1,1 0,-3A3,3 0 0,1 3,0Z\" style=\"opacity: 1; stroke-width: 0px; fill: rgb(13, 8, 135); fill-opacity: 1;\"/><path class=\"point\" transform=\"translate(256.5,21.71)\" d=\"M3,0A3,3 0 1,1 0,-3A3,3 0 0,1 3,0Z\" style=\"opacity: 1; stroke-width: 0px; fill: rgb(13, 8, 135); fill-opacity: 1;\"/><path class=\"point\" transform=\"translate(256.5,21.3)\" d=\"M3,0A3,3 0 1,1 0,-3A3,3 0 0,1 3,0Z\" style=\"opacity: 1; stroke-width: 0px; fill: rgb(13, 8, 135); fill-opacity: 1;\"/><path class=\"point\" transform=\"translate(256.5,20.89)\" d=\"M3,0A3,3 0 1,1 0,-3A3,3 0 0,1 3,0Z\" style=\"opacity: 1; stroke-width: 0px; fill: rgb(13, 8, 135); fill-opacity: 1;\"/><path class=\"point\" transform=\"translate(256.5,20.48)\" d=\"M3,0A3,3 0 1,1 0,-3A3,3 0 0,1 3,0Z\" style=\"opacity: 1; stroke-width: 0px; fill: rgb(13, 8, 135); fill-opacity: 1;\"/><path class=\"point\" transform=\"translate(483.6,20.07)\" d=\"M3,0A3,3 0 1,1 0,-3A3,3 0 0,1 3,0Z\" style=\"opacity: 1; stroke-width: 0px; fill: rgb(240, 249, 33); fill-opacity: 1;\"/><path class=\"point\" transform=\"translate(483.6,19.66)\" d=\"M3,0A3,3 0 1,1 0,-3A3,3 0 0,1 3,0Z\" style=\"opacity: 1; stroke-width: 0px; fill: rgb(240, 249, 33); fill-opacity: 1;\"/><path class=\"point\" transform=\"translate(483.6,19.25)\" d=\"M3,0A3,3 0 1,1 0,-3A3,3 0 0,1 3,0Z\" style=\"opacity: 1; stroke-width: 0px; fill: rgb(240, 249, 33); fill-opacity: 1;\"/></g><g class=\"text\"/></g></g></g><g class=\"overplot\"/><path class=\"xlines-above crisp\" style=\"fill: none;\" d=\"M0,0\"/><path class=\"ylines-above crisp\" style=\"fill: none;\" d=\"M0,0\"/><g class=\"overlines-above\"/><g class=\"xaxislayer-above\"><g class=\"xtick\"><text text-anchor=\"middle\" x=\"0\" y=\"389\" transform=\"translate(109.4,0)\" style=\"font-family: 'Courier New', monospace; font-size: 18px; fill: rgb(42, 63, 95); fill-opacity: 1; white-space: pre;\">Sanity</text></g><g class=\"xtick\"><text text-anchor=\"middle\" x=\"0\" y=\"389\" transform=\"translate(336.5,0)\" style=\"font-family: 'Courier New', monospace; font-size: 18px; fill: rgb(42, 63, 95); fill-opacity: 1; white-space: pre;\">API/Functionality</text></g><g class=\"xtick\"><text text-anchor=\"middle\" x=\"0\" y=\"389\" transform=\"translate(563.6,0)\" style=\"font-family: 'Courier New', monospace; font-size: 18px; fill: rgb(42, 63, 95); fill-opacity: 1; white-space: pre;\">Integration</text></g></g><g class=\"yaxislayer-above\"><g class=\"ytick\"><text text-anchor=\"end\" x=\"79\" y=\"6.3\" transform=\"translate(0,350.75)\" style=\"font-family: 'Courier New', monospace; font-size: 18px; fill: rgb(42, 63, 95); fill-opacity: 1; white-space: pre;\">0</text></g><g class=\"ytick\"><text text-anchor=\"end\" x=\"79\" y=\"6.3\" transform=\"translate(0,309.8)\" style=\"font-family: 'Courier New', monospace; font-size: 18px; fill: rgb(42, 63, 95); fill-opacity: 1; white-space: pre;\">100</text></g><g class=\"ytick\"><text text-anchor=\"end\" x=\"79\" y=\"6.3\" transform=\"translate(0,268.85)\" style=\"font-family: 'Courier New', monospace; font-size: 18px; fill: rgb(42, 63, 95); fill-opacity: 1; white-space: pre;\">200</text></g><g class=\"ytick\"><text text-anchor=\"end\" x=\"79\" y=\"6.3\" transform=\"translate(0,227.9)\" style=\"font-family: 'Courier New', monospace; font-size: 18px; fill: rgb(42, 63, 95); fill-opacity: 1; white-space: pre;\">300</text></g><g class=\"ytick\"><text text-anchor=\"end\" x=\"79\" y=\"6.3\" transform=\"translate(0,186.95)\" style=\"font-family: 'Courier New', monospace; font-size: 18px; fill: rgb(42, 63, 95); fill-opacity: 1; white-space: pre;\">400</text></g><g class=\"ytick\"><text text-anchor=\"end\" x=\"79\" y=\"6.3\" transform=\"translate(0,146)\" style=\"font-family: 'Courier New', monospace; font-size: 18px; fill: rgb(42, 63, 95); fill-opacity: 1; white-space: pre;\">500</text></g><g class=\"ytick\"><text text-anchor=\"end\" x=\"79\" y=\"6.3\" transform=\"translate(0,105.05)\" style=\"font-family: 'Courier New', monospace; font-size: 18px; fill: rgb(42, 63, 95); fill-opacity: 1; white-space: pre;\">600</text></g><g class=\"ytick\"><text text-anchor=\"end\" x=\"79\" y=\"6.3\" transform=\"translate(0,64.1)\" style=\"font-family: 'Courier New', monospace; font-size: 18px; fill: rgb(42, 63, 95); fill-opacity: 1; white-space: pre;\">700</text></g></g><g class=\"overaxes-above\"/></g></g><g class=\"polarlayer\"/><g class=\"ternarylayer\"/><g class=\"geolayer\"/><g class=\"funnelarealayer\"/><g class=\"pielayer\"/><g class=\"treemaplayer\"/><g class=\"sunburstlayer\"/><g class=\"glimages\"/><defs id=\"topdefs-a6e719\"><g class=\"clips\"/></defs><g class=\"layer-above\"><g class=\"imagelayer\"/><g class=\"shapelayer\"/></g><g class=\"infolayer\"><g class=\"cbcoloraxis colorbar\" transform=\"translate(80,60)\"><rect class=\"cbbg\" x=\"523\" y=\"0\" width=\"85.078125\" height=\"310\" style=\"fill: rgb(0, 0, 0); fill-opacity: 0; stroke: rgb(68, 68, 68); stroke-opacity: 1; stroke-width: 0;\"/><g class=\"cbfills\" transform=\"translate(0,35)\"><rect class=\"cbfill\" x=\"533\" width=\"30\" y=\"0\" height=\"265\" style=\"stroke: none; fill: url('#ga6e719-cbcoloraxis');\"/></g><g class=\"cblines\" transform=\"translate(0,35)\"/><g class=\"cbaxis crisp\" transform=\"translate(0,-60)\"><g class=\"ycbcoloraxistick\"><text text-anchor=\"start\" x=\"567.1\" y=\"6.3\" transform=\"translate(0,360)\" style=\"font-family: 'Courier New', monospace; font-size: 18px; fill: rgb(42, 63, 95); fill-opacity: 1; white-space: pre;\">0</text></g><g class=\"ycbcoloraxistick\"><text text-anchor=\"start\" x=\"567.1\" y=\"6.3\" transform=\"translate(0,307)\" style=\"font-family: 'Courier New', monospace; font-size: 18px; fill: rgb(42, 63, 95); fill-opacity: 1; white-space: pre;\">0.2</text></g><g class=\"ycbcoloraxistick\"><text text-anchor=\"start\" x=\"567.1\" y=\"6.3\" transform=\"translate(0,254)\" style=\"font-family: 'Courier New', monospace; font-size: 18px; fill: rgb(42, 63, 95); fill-opacity: 1; white-space: pre;\">0.4</text></g><g class=\"ycbcoloraxistick\"><text text-anchor=\"start\" x=\"567.1\" y=\"6.3\" transform=\"translate(0,201)\" style=\"font-family: 'Courier New', monospace; font-size: 18px; fill: rgb(42, 63, 95); fill-opacity: 1; white-space: pre;\">0.6</text></g><g class=\"ycbcoloraxistick\"><text text-anchor=\"start\" x=\"567.1\" y=\"6.3\" transform=\"translate(0,148)\" style=\"font-family: 'Courier New', monospace; font-size: 18px; fill: rgb(42, 63, 95); fill-opacity: 1; white-space: pre;\">0.8</text></g><g class=\"ycbcoloraxistick\"><text text-anchor=\"start\" x=\"567.1\" y=\"6.3\" transform=\"translate(0,95)\" style=\"font-family: 'Courier New', monospace; font-size: 18px; fill: rgb(42, 63, 95); fill-opacity: 1; white-space: pre;\">1</text></g></g><g class=\"cbtitleunshift\" transform=\"translate(-80,-60)\"><g class=\"cbtitle\" transform=\"translate(0,0)\"><text class=\"ycbcoloraxistitle\" x=\"613.2600000000001\" y=\"86.49999999999999\" text-anchor=\"start\" style=\"font-family: 'Courier New', monospace; font-size: 18px; fill: rgb(42, 63, 95); opacity: 1; font-weight: normal; white-space: pre;\">Target</text></g></g><rect class=\"cboutline\" x=\"533\" y=\"35\" width=\"30\" height=\"265\" style=\"stroke: rgb(68, 68, 68); stroke-opacity: 1; fill: none; stroke-width: 0;\"/></g><g class=\"g-gtitle\"><text class=\"gtitle\" x=\"35\" y=\"30\" text-anchor=\"start\" dy=\"0em\" style=\"font-family: 'Courier New', monospace; font-size: 25px; fill: rgb(42, 63, 95); opacity: 1; font-weight: normal; white-space: pre;\">Test Case Selection based on Type of Test Cases</text></g><g class=\"g-xtitle\"><text class=\"xtitle\" x=\"336.5\" y=\"424.4\" text-anchor=\"middle\" style=\"font-family: 'Courier New', monospace; font-size: 22px; fill: rgb(42, 63, 95); opacity: 1; font-weight: normal; white-space: pre;\">Type of Test Cases</text></g><g class=\"g-ytitle\" transform=\"translate(1.806640625,0)\"><text class=\"ytitle\" transform=\"rotate(-90,16.19375,215)\" x=\"16.19375\" y=\"215\" text-anchor=\"middle\" style=\"font-family: 'Courier New', monospace; font-size: 22px; fill: rgb(42, 63, 95); opacity: 1; font-weight: normal; white-space: pre;\">Number of Test Cases</text></g></g></svg>"
      ]
     },
     "metadata": {},
     "output_type": "display_data"
    }
   ],
   "source": [
    "#Visualizing selection of test cases based on type of test cases\n",
    "fig = px.scatter(dataset,y=dataset.index,x='Type of Test Case',color='Target')\n",
    "# Change the bar mode\n",
    "fig.update_layout(\n",
    "    title=\"Test Case Selection based on Type of Test Cases\",\n",
    "    xaxis_title=\"Type of Test Cases\",\n",
    "    yaxis_title=\"Number of Test Cases\",   \n",
    "    font=dict(\n",
    "        family=\"Courier New, monospace\",\n",
    "        size=18,\n",
    "    )\n",
    ")\n",
    "fig.update_layout()\n",
    "fig.show(\"svg\")"
   ]
  },
  {
   "cell_type": "markdown",
   "metadata": {},
   "source": [
    "All **Sanity** and **Integration** type of test cases are selected in all four release. With this we can conclude that **Type of Test Cases** are directly related to selection of test cases.\n",
    "\n",
    "Now we will check **Automation Status** feature , will try to understand that how test cases are selected across releases based on automation status"
   ]
  },
  {
   "cell_type": "code",
   "execution_count": 217,
   "metadata": {},
   "outputs": [
    {
     "data": {
      "text/markdown": [
       "**Total Number of Automated Test Cases are 236**"
      ],
      "text/plain": [
       "<IPython.core.display.Markdown object>"
      ]
     },
     "metadata": {},
     "output_type": "display_data"
    },
    {
     "data": {
      "text/markdown": [
       "**Total number of selected test cases which are automated 139**"
      ],
      "text/plain": [
       "<IPython.core.display.Markdown object>"
      ]
     },
     "metadata": {},
     "output_type": "display_data"
    },
    {
     "data": {
      "image/svg+xml": [
       "<svg class=\"main-svg\" xmlns=\"http://www.w3.org/2000/svg\" xmlns:xlink=\"http://www.w3.org/1999/xlink\" width=\"700\" height=\"450\" style=\"\" viewBox=\"0 0 700 450\"><rect x=\"0\" y=\"0\" width=\"700\" height=\"450\" style=\"fill: rgb(255, 255, 255); fill-opacity: 1;\"/><defs id=\"defs-2bfeb2\"><g class=\"clips\"/><g class=\"gradients\"/></defs><g class=\"bglayer\"/><g class=\"layer-below\"><g class=\"imagelayer\"/><g class=\"shapelayer\"/></g><g class=\"cartesianlayer\"/><g class=\"polarlayer\"/><g class=\"ternarylayer\"/><g class=\"geolayer\"/><g class=\"funnelarealayer\"/><g class=\"pielayer\"><g class=\"trace\" stroke-linejoin=\"round\" style=\"opacity: 1;\"><g class=\"slice\"><path class=\"surface\" d=\"M367.5,235a54,54 0 0 0 -54,-54l0,-81a135,135 0 0 1 135,135Z\" style=\"pointer-events: all; stroke-width: 0; fill: rgb(99, 110, 250); fill-opacity: 1; stroke: rgb(68, 68, 68); stroke-opacity: 1;\"/><g class=\"slicetext\"><text data-notex=\"1\" class=\"slicetext\" transform=\"translate(380.3215908221287,173.17840917787126)\" text-anchor=\"middle\" x=\"0\" y=\"0\" style=\"font-family: 'Courier New', monospace; font-size: 18px; fill: rgb(255, 255, 255); fill-opacity: 1; white-space: pre;\">25%</text></g></g><g class=\"slice\"><path class=\"surface\" d=\"M313.5,181a54,54 0 0 0 -54,54l-81,-4.95981953654678e-15a135,135 0 0 1 135,-135Z\" style=\"pointer-events: all; stroke-width: 0; fill: rgb(239, 85, 59); fill-opacity: 1; stroke: rgb(68, 68, 68); stroke-opacity: 1;\"/><g class=\"slicetext\"><text data-notex=\"1\" class=\"slicetext\" transform=\"translate(246.6784091778713,173.17840917787126)\" text-anchor=\"middle\" x=\"0\" y=\"0\" style=\"font-family: 'Courier New', monospace; font-size: 18px; fill: rgb(68, 68, 68); fill-opacity: 1; white-space: pre;\">25%</text></g></g><g class=\"slice\"><path class=\"surface\" d=\"M259.5,235a54,54 0 0 0 53.99999999999999,54l-9.91963907309356e-15,81a135,135 0 0 1 -134.99999999999997,-135Z\" style=\"pointer-events: all; stroke-width: 0; fill: rgb(0, 204, 150); fill-opacity: 1; stroke: rgb(68, 68, 68); stroke-opacity: 1;\"/><g class=\"slicetext\"><text data-notex=\"1\" class=\"slicetext\" transform=\"translate(246.67840917787126,306.8215908221287)\" text-anchor=\"middle\" x=\"0\" y=\"0\" style=\"font-family: 'Courier New', monospace; font-size: 18px; fill: rgb(68, 68, 68); fill-opacity: 1; white-space: pre;\">25%</text></g></g><g class=\"slice\"><path class=\"surface\" d=\"M313.5,289a54,54 0 0 0 54.000000000000014,-53.99999999999999l81,1.487945860964034e-14a135,135 0 0 1 -135.00000000000003,134.99999999999997Z\" style=\"pointer-events: all; stroke-width: 0; fill: rgb(171, 99, 250); fill-opacity: 1; stroke: rgb(68, 68, 68); stroke-opacity: 1;\"/><g class=\"slicetext\"><text data-notex=\"1\" class=\"slicetext\" transform=\"translate(380.3215908221287,306.82159082212877)\" text-anchor=\"middle\" x=\"0\" y=\"0\" style=\"font-family: 'Courier New', monospace; font-size: 18px; fill: rgb(68, 68, 68); fill-opacity: 1; white-space: pre;\">25%</text></g></g></g></g><g class=\"treemaplayer\"/><g class=\"sunburstlayer\"/><g class=\"glimages\"/><defs id=\"topdefs-2bfeb2\"><g class=\"clips\"/><clipPath id=\"legend2bfeb2\"><rect width=\"132\" height=\"116\" x=\"0\" y=\"0\"/></clipPath></defs><g class=\"layer-above\"><g class=\"imagelayer\"/><g class=\"shapelayer\"/></g><g class=\"infolayer\"><g class=\"legend\" pointer-events=\"all\" transform=\"translate(556.34, 100)\"><rect class=\"bg\" shape-rendering=\"crispEdges\" width=\"132\" height=\"116\" x=\"0\" y=\"0\" style=\"stroke: rgb(68, 68, 68); stroke-opacity: 1; fill: rgb(255, 255, 255); fill-opacity: 1; stroke-width: 0px;\"/><g class=\"scrollbox\" transform=\"translate(0, 0)\" clip-path=\"url('#legend2bfeb2')\"><g class=\"groups\"><g class=\"traces\" transform=\"translate(0, 18.200000000000003)\" style=\"opacity: 1;\"><text class=\"legendtext user-select-none\" text-anchor=\"start\" x=\"40\" y=\"7.0200000000000005\" style=\"font-family: 'Courier New', monospace; font-size: 18px; fill: rgb(42, 63, 95); fill-opacity: 1; white-space: pre;\">R20.2.1</text><g class=\"layers\" style=\"opacity: 1;\"><g class=\"legendfill\"/><g class=\"legendlines\"/><g class=\"legendsymbols\"><g class=\"legendpoints\"><path class=\"legendpie\" d=\"M6,6H-6V-6H6Z\" transform=\"translate(20,0)\" style=\"stroke-width: 0; fill: rgb(99, 110, 250); fill-opacity: 1; stroke: rgb(68, 68, 68); stroke-opacity: 1;\"/></g></g></g><rect class=\"legendtoggle\" pointer-events=\"all\" x=\"0\" y=\"-13.200000000000001\" width=\"126.421875\" height=\"26.400000000000002\" style=\"cursor: pointer; fill: rgb(0, 0, 0); fill-opacity: 0;\"/></g><g class=\"traces\" transform=\"translate(0, 44.6)\" style=\"opacity: 1;\"><text class=\"legendtext user-select-none\" text-anchor=\"start\" x=\"40\" y=\"7.0200000000000005\" style=\"font-family: 'Courier New', monospace; font-size: 18px; fill: rgb(42, 63, 95); fill-opacity: 1; white-space: pre;\">R20.1.2</text><g class=\"layers\" style=\"opacity: 1;\"><g class=\"legendfill\"/><g class=\"legendlines\"/><g class=\"legendsymbols\"><g class=\"legendpoints\"><path class=\"legendpie\" d=\"M6,6H-6V-6H6Z\" transform=\"translate(20,0)\" style=\"stroke-width: 0; fill: rgb(239, 85, 59); fill-opacity: 1; stroke: rgb(68, 68, 68); stroke-opacity: 1;\"/></g></g></g><rect class=\"legendtoggle\" pointer-events=\"all\" x=\"0\" y=\"-13.200000000000001\" width=\"126.421875\" height=\"26.400000000000002\" style=\"cursor: pointer; fill: rgb(0, 0, 0); fill-opacity: 0;\"/></g><g class=\"traces\" transform=\"translate(0, 71)\" style=\"opacity: 1;\"><text class=\"legendtext user-select-none\" text-anchor=\"start\" x=\"40\" y=\"7.0200000000000005\" style=\"font-family: 'Courier New', monospace; font-size: 18px; fill: rgb(42, 63, 95); fill-opacity: 1; white-space: pre;\">R20.1.1</text><g class=\"layers\" style=\"opacity: 1;\"><g class=\"legendfill\"/><g class=\"legendlines\"/><g class=\"legendsymbols\"><g class=\"legendpoints\"><path class=\"legendpie\" d=\"M6,6H-6V-6H6Z\" transform=\"translate(20,0)\" style=\"stroke-width: 0; fill: rgb(0, 204, 150); fill-opacity: 1; stroke: rgb(68, 68, 68); stroke-opacity: 1;\"/></g></g></g><rect class=\"legendtoggle\" pointer-events=\"all\" x=\"0\" y=\"-13.200000000000001\" width=\"126.421875\" height=\"26.400000000000002\" style=\"cursor: pointer; fill: rgb(0, 0, 0); fill-opacity: 0;\"/></g><g class=\"traces\" transform=\"translate(0, 97.4)\" style=\"opacity: 1;\"><text class=\"legendtext user-select-none\" text-anchor=\"start\" x=\"40\" y=\"7.0200000000000005\" style=\"font-family: 'Courier New', monospace; font-size: 18px; fill: rgb(42, 63, 95); fill-opacity: 1; white-space: pre;\">R19.12.1</text><g class=\"layers\" style=\"opacity: 1;\"><g class=\"legendfill\"/><g class=\"legendlines\"/><g class=\"legendsymbols\"><g class=\"legendpoints\"><path class=\"legendpie\" d=\"M6,6H-6V-6H6Z\" transform=\"translate(20,0)\" style=\"stroke-width: 0; fill: rgb(171, 99, 250); fill-opacity: 1; stroke: rgb(68, 68, 68); stroke-opacity: 1;\"/></g></g></g><rect class=\"legendtoggle\" pointer-events=\"all\" x=\"0\" y=\"-13.200000000000001\" width=\"126.421875\" height=\"26.400000000000002\" style=\"cursor: pointer; fill: rgb(0, 0, 0); fill-opacity: 0;\"/></g></g></g><rect class=\"scrollbar\" rx=\"20\" ry=\"3\" width=\"0\" height=\"0\" x=\"0\" y=\"0\" style=\"fill: rgb(128, 139, 164); fill-opacity: 1;\"/></g><g class=\"g-gtitle\"><text class=\"gtitle\" x=\"35\" y=\"50\" text-anchor=\"start\" dy=\"0em\" style=\"font-family: 'Courier New', monospace; font-size: 25px; fill: rgb(42, 63, 95); opacity: 1; font-weight: normal; white-space: pre;\">Automation Test Cases in Each Releases</text></g></g></svg>"
      ]
     },
     "metadata": {},
     "output_type": "display_data"
    }
   ],
   "source": [
    "#Checking number of automated test cases, taking all Automtion selection test cases in seprate data frame df1\n",
    "df1=dataset[dataset['Automation Status'] == 'Yes']\n",
    "printmd(\"**Total Number of Automated Test Cases are {}**\".format(len(df1.index)))\n",
    "printmd(\"**Total number of selected test cases which are automated {}**\".format(len(df1[df1['Target'] == 1].index)))\n",
    "\n",
    "#Visualizing Number of Automated Test cases in each release\n",
    "fig = go.Figure(data=[go.Pie(labels=df1['ReleaseID'],hole=.4)])\n",
    "fig.update_layout(\n",
    "    title=\"Automation Test Cases in Each Releases\",\n",
    "    font=dict(\n",
    "        family=\"Courier New, monospace\",\n",
    "        size=18\n",
    "    ))\n",
    "fig.show(\"svg\")\n"
   ]
  },
  {
   "cell_type": "markdown",
   "metadata": {},
   "source": [
    "In our data set we have total **236** automated test cases and out of which **139** are selected test cases. Number of automated test cases are same in all four releases which is **59** .\n",
    "\n",
    "Above data tell us that though number of automation test cases are same across all releases , selection of the same may depends upo other factors.\n",
    "\n",
    "Let's find out more how many automated test cases are selected in different releases"
   ]
  },
  {
   "cell_type": "code",
   "execution_count": 218,
   "metadata": {},
   "outputs": [
    {
     "data": {
      "image/svg+xml": [
       "<svg class=\"main-svg\" xmlns=\"http://www.w3.org/2000/svg\" xmlns:xlink=\"http://www.w3.org/1999/xlink\" width=\"700\" height=\"450\" style=\"\" viewBox=\"0 0 700 450\"><rect x=\"0\" y=\"0\" width=\"700\" height=\"450\" style=\"fill: rgb(255, 255, 255); fill-opacity: 1;\"/><defs id=\"defs-9d210e\"><g class=\"clips\"/><g class=\"gradients\"/></defs><g class=\"bglayer\"/><g class=\"layer-below\"><g class=\"imagelayer\"/><g class=\"shapelayer\"/></g><g class=\"cartesianlayer\"/><g class=\"polarlayer\"/><g class=\"ternarylayer\"/><g class=\"geolayer\"/><g class=\"funnelarealayer\"/><g class=\"pielayer\"><g class=\"trace\" stroke-linejoin=\"round\" style=\"opacity: 1;\"><g class=\"slice\"><path class=\"surface\" d=\"M338.17846344638286,283.0309633666195a54,54 0 0 0 -24.678463446382846,-102.03096336661952l0,-81a135,135 0 0 1 61.69615861595711,255.0774084165488Z\" style=\"pointer-events: all; stroke-width: 0; fill: rgb(99, 110, 250); fill-opacity: 1; stroke: rgb(68, 68, 68); stroke-opacity: 1;\"/><g class=\"slicetext\"><text data-notex=\"1\" class=\"slicetext\" transform=\"translate(405.3514304917313,217.78368354963746)\" text-anchor=\"middle\" x=\"0\" y=\"0\" style=\"font-family: 'Courier New', monospace; font-size: 18px; fill: rgb(255, 255, 255); fill-opacity: 1; white-space: pre;\">42.4%</text></g></g><g class=\"slice\"><path class=\"surface\" d=\"M313.5,181a54,54 0 0 0 -28.91403435361258,99.60678258108231l-43.37105153041887,68.41017387162346a135,135 0 0 1 72.28508588403145,-249.01695645270576Z\" style=\"pointer-events: all; stroke-width: 0; fill: rgb(239, 85, 59); fill-opacity: 1; stroke: rgb(68, 68, 68); stroke-opacity: 1;\"/><g class=\"slicetext\"><text data-notex=\"1\" class=\"slicetext\" transform=\"translate(222.7462902429149,213.65585140250766)\" text-anchor=\"middle\" x=\"0\" y=\"0\" style=\"font-family: 'Courier New', monospace; font-size: 18px; fill: rgb(68, 68, 68); fill-opacity: 1; white-space: pre;\">41%</text></g></g><g class=\"slice\"><path class=\"surface\" d=\"M284.5859656463874,280.6067825810823a54,54 0 0 0 30.13440529240831,8.379425794499538l1.8305564081935914,80.97931256337276a135,135 0 0 1 -75.33601323102077,-20.94856448624884Z\" style=\"pointer-events: all; stroke-width: 0; fill: rgb(0, 204, 150); fill-opacity: 1; stroke: rgb(68, 68, 68); stroke-opacity: 1;\"/><g class=\"slicetext\"><text data-notex=\"1\" class=\"slicetext\" transform=\"translate(285.455050058317,340.8563007387373)\" text-anchor=\"middle\" x=\"0\" y=\"0\" style=\"font-family: 'Courier New', monospace; font-size: 18px; fill: rgb(68, 68, 68); fill-opacity: 1; white-space: pre;\">9.35%</text></g></g><g class=\"slice\"><path class=\"surface\" d=\"M314.7203709387957,288.98620837558184a54,54 0 0 0 23.458092507587104,-5.955245008962322l37.017695169574246,72.04644504992928a135,135 0 0 1 -58.645231268967756,14.888112522405805Z\" style=\"pointer-events: all; stroke-width: 0; fill: rgb(171, 99, 250); fill-opacity: 1; stroke: rgb(68, 68, 68); stroke-opacity: 1;\"/><g class=\"slicetext\"><text data-notex=\"1\" class=\"slicetext\" transform=\"translate(332.5449627535381,330.33941178112696)rotate(75.75539568345323)\" text-anchor=\"middle\" x=\"0\" y=\"0\" style=\"font-family: 'Courier New', monospace; font-size: 18px; fill: rgb(68, 68, 68); fill-opacity: 1; white-space: pre;\">7.19%</text></g></g></g></g><g class=\"treemaplayer\"/><g class=\"sunburstlayer\"/><g class=\"glimages\"/><defs id=\"topdefs-9d210e\"><g class=\"clips\"/><clipPath id=\"legend9d210e\"><rect width=\"132\" height=\"116\" x=\"0\" y=\"0\"/></clipPath></defs><g class=\"layer-above\"><g class=\"imagelayer\"/><g class=\"shapelayer\"/></g><g class=\"infolayer\"><g class=\"legend\" pointer-events=\"all\" transform=\"translate(556.34, 100)\"><rect class=\"bg\" shape-rendering=\"crispEdges\" width=\"132\" height=\"116\" x=\"0\" y=\"0\" style=\"stroke: rgb(68, 68, 68); stroke-opacity: 1; fill: rgb(255, 255, 255); fill-opacity: 1; stroke-width: 0px;\"/><g class=\"scrollbox\" transform=\"translate(0, 0)\" clip-path=\"url('#legend9d210e')\"><g class=\"groups\"><g class=\"traces\" transform=\"translate(0, 18.200000000000003)\" style=\"opacity: 1;\"><text class=\"legendtext user-select-none\" text-anchor=\"start\" x=\"40\" y=\"7.0200000000000005\" style=\"font-family: 'Courier New', monospace; font-size: 18px; fill: rgb(42, 63, 95); fill-opacity: 1; white-space: pre;\">R20.1.1</text><g class=\"layers\" style=\"opacity: 1;\"><g class=\"legendfill\"/><g class=\"legendlines\"/><g class=\"legendsymbols\"><g class=\"legendpoints\"><path class=\"legendpie\" d=\"M6,6H-6V-6H6Z\" transform=\"translate(20,0)\" style=\"stroke-width: 0; fill: rgb(99, 110, 250); fill-opacity: 1; stroke: rgb(68, 68, 68); stroke-opacity: 1;\"/></g></g></g><rect class=\"legendtoggle\" pointer-events=\"all\" x=\"0\" y=\"-13.200000000000001\" width=\"126.421875\" height=\"26.400000000000002\" style=\"cursor: pointer; fill: rgb(0, 0, 0); fill-opacity: 0;\"/></g><g class=\"traces\" transform=\"translate(0, 44.6)\" style=\"opacity: 1;\"><text class=\"legendtext user-select-none\" text-anchor=\"start\" x=\"40\" y=\"7.0200000000000005\" style=\"font-family: 'Courier New', monospace; font-size: 18px; fill: rgb(42, 63, 95); fill-opacity: 1; white-space: pre;\">R20.2.1</text><g class=\"layers\" style=\"opacity: 1;\"><g class=\"legendfill\"/><g class=\"legendlines\"/><g class=\"legendsymbols\"><g class=\"legendpoints\"><path class=\"legendpie\" d=\"M6,6H-6V-6H6Z\" transform=\"translate(20,0)\" style=\"stroke-width: 0; fill: rgb(239, 85, 59); fill-opacity: 1; stroke: rgb(68, 68, 68); stroke-opacity: 1;\"/></g></g></g><rect class=\"legendtoggle\" pointer-events=\"all\" x=\"0\" y=\"-13.200000000000001\" width=\"126.421875\" height=\"26.400000000000002\" style=\"cursor: pointer; fill: rgb(0, 0, 0); fill-opacity: 0;\"/></g><g class=\"traces\" transform=\"translate(0, 71)\" style=\"opacity: 1;\"><text class=\"legendtext user-select-none\" text-anchor=\"start\" x=\"40\" y=\"7.0200000000000005\" style=\"font-family: 'Courier New', monospace; font-size: 18px; fill: rgb(42, 63, 95); fill-opacity: 1; white-space: pre;\">R20.1.2</text><g class=\"layers\" style=\"opacity: 1;\"><g class=\"legendfill\"/><g class=\"legendlines\"/><g class=\"legendsymbols\"><g class=\"legendpoints\"><path class=\"legendpie\" d=\"M6,6H-6V-6H6Z\" transform=\"translate(20,0)\" style=\"stroke-width: 0; fill: rgb(0, 204, 150); fill-opacity: 1; stroke: rgb(68, 68, 68); stroke-opacity: 1;\"/></g></g></g><rect class=\"legendtoggle\" pointer-events=\"all\" x=\"0\" y=\"-13.200000000000001\" width=\"126.421875\" height=\"26.400000000000002\" style=\"cursor: pointer; fill: rgb(0, 0, 0); fill-opacity: 0;\"/></g><g class=\"traces\" transform=\"translate(0, 97.4)\" style=\"opacity: 1;\"><text class=\"legendtext user-select-none\" text-anchor=\"start\" x=\"40\" y=\"7.0200000000000005\" style=\"font-family: 'Courier New', monospace; font-size: 18px; fill: rgb(42, 63, 95); fill-opacity: 1; white-space: pre;\">R19.12.1</text><g class=\"layers\" style=\"opacity: 1;\"><g class=\"legendfill\"/><g class=\"legendlines\"/><g class=\"legendsymbols\"><g class=\"legendpoints\"><path class=\"legendpie\" d=\"M6,6H-6V-6H6Z\" transform=\"translate(20,0)\" style=\"stroke-width: 0; fill: rgb(171, 99, 250); fill-opacity: 1; stroke: rgb(68, 68, 68); stroke-opacity: 1;\"/></g></g></g><rect class=\"legendtoggle\" pointer-events=\"all\" x=\"0\" y=\"-13.200000000000001\" width=\"126.421875\" height=\"26.400000000000002\" style=\"cursor: pointer; fill: rgb(0, 0, 0); fill-opacity: 0;\"/></g></g></g><rect class=\"scrollbar\" rx=\"20\" ry=\"3\" width=\"0\" height=\"0\" x=\"0\" y=\"0\" style=\"fill: rgb(128, 139, 164); fill-opacity: 1;\"/></g><g class=\"g-gtitle\"><text class=\"gtitle\" x=\"35\" y=\"50\" text-anchor=\"start\" dy=\"0em\" style=\"font-family: 'Courier New', monospace; font-size: 25px; fill: rgb(42, 63, 95); opacity: 1; font-weight: normal; white-space: pre;\">Release Wise Automated Test Cases Selection</text></g></g></svg>"
      ]
     },
     "metadata": {},
     "output_type": "display_data"
    }
   ],
   "source": [
    "#Converting df1 data frame to only selected test cases\n",
    "df1=dataset[(dataset['Automation Status'] == 'Yes') & (dataset['Target'] == 1)]\n",
    "#Visualizing automted test cases selected per releases\n",
    "fig = go.Figure(data=[go.Pie(labels=df1['ReleaseID'],hole=.4)])\n",
    "fig.update_layout(\n",
    "    title=\"Release Wise Automated Test Cases Selection\",\n",
    "    font=dict(\n",
    "        family=\"Courier New, monospace\",\n",
    "        size=18\n",
    "    ))\n",
    "fig.show(\"svg\")"
   ]
  },
  {
   "cell_type": "markdown",
   "metadata": {},
   "source": [
    "Highest number of automated selected test cases i.e **42%** , **41%** are in **R20.1.1** and **R20.2.1** releases respectively and from our pevious analysis we can say that these are the two releases where we have maximum number of bugs and highest number selected test cases.\n",
    "\n",
    "With this it's evident that **Automation Test Cases** feature played a role in test case selection specially when we have lot to test."
   ]
  },
  {
   "cell_type": "markdown",
   "metadata": {},
   "source": [
    "With this we are done with analysis of all categorical data columns present in our data set and all of them looks related to our Target Variable , we will keep all of them in our further analysis.\n",
    "\n",
    "Let's start with Textual columns , we have following Text columns\n",
    "\n",
    "<ol>\n",
    "    <li><b>Test Case Title</b></li>\n",
    "    <li><b>Test Case Description</b></li>\n",
    "    <li><b>JIRA Bug ID</b></li>\n",
    "    <li><b>Bug Description</b></li>\n",
    "    <li><b>GIT Commit Message</b></li>\n",
    "</ol>\n",
    "\n",
    "From above features list we can remove 'JIRA Bug ID' from our analysis because this is just a alphanumeric respresentation of Bugs and more details are present in next feature 'Bug Description'. \n",
    "\n",
    "Also , in our data set 'GIT commit Message' is very inconsistent and most of the commit messages are of bug fixing and for these fixes commit messages are either bug ID or bug description which is kind of duplicate of data present in feature 'Bug Description'. We can drop  GIT commit message column also.\n",
    "\n",
    "> **We recommend that 'Commit Messages' should be there for test cases selection but for this relevant and proper messages should enter at the time of commit and same has to be captured properly in Release Manifest for each releases**\n",
    "\n",
    "Let's start looking at 'Test Case Title' and 'Test Case Description'"
   ]
  },
  {
   "cell_type": "code",
   "execution_count": 219,
   "metadata": {},
   "outputs": [
    {
     "data": {
      "image/svg+xml": [
       "<svg class=\"main-svg\" xmlns=\"http://www.w3.org/2000/svg\" xmlns:xlink=\"http://www.w3.org/1999/xlink\" width=\"700\" height=\"450\" style=\"\" viewBox=\"0 0 700 450\"><rect x=\"0\" y=\"0\" width=\"700\" height=\"450\" style=\"fill: rgb(255, 255, 255); fill-opacity: 1;\"/><defs id=\"defs-505c7b\"><g class=\"clips\"><clipPath id=\"clip505c7bxyplot\" class=\"plotclip\"><rect width=\"540\" height=\"310\"/></clipPath><clipPath class=\"axesclip\" id=\"clip505c7bx\"><rect x=\"80\" y=\"0\" width=\"540\" height=\"450\"/></clipPath><clipPath class=\"axesclip\" id=\"clip505c7by\"><rect x=\"0\" y=\"60\" width=\"700\" height=\"310\"/></clipPath><clipPath class=\"axesclip\" id=\"clip505c7bxy\"><rect x=\"80\" y=\"60\" width=\"540\" height=\"310\"/></clipPath></g><g class=\"gradients\"/></defs><g class=\"bglayer\"><rect class=\"bg\" x=\"80\" y=\"60\" width=\"540\" height=\"310\" style=\"fill: rgb(229, 236, 246); fill-opacity: 1; stroke-width: 0;\"/></g><g class=\"layer-below\"><g class=\"imagelayer\"/><g class=\"shapelayer\"/></g><g class=\"cartesianlayer\"><g class=\"subplot xy\"><g class=\"layer-subplot\"><g class=\"shapelayer\"/><g class=\"imagelayer\"/></g><g class=\"gridlayer\"><g class=\"x\"/><g class=\"y\"><path class=\"ygrid crisp\" transform=\"translate(0,299.88)\" d=\"M80,0h540\" style=\"stroke: rgb(255, 255, 255); stroke-opacity: 1; stroke-width: 1px;\"/><path class=\"ygrid crisp\" transform=\"translate(0,229.76)\" d=\"M80,0h540\" style=\"stroke: rgb(255, 255, 255); stroke-opacity: 1; stroke-width: 1px;\"/><path class=\"ygrid crisp\" transform=\"translate(0,159.64)\" d=\"M80,0h540\" style=\"stroke: rgb(255, 255, 255); stroke-opacity: 1; stroke-width: 1px;\"/><path class=\"ygrid crisp\" transform=\"translate(0,89.52)\" d=\"M80,0h540\" style=\"stroke: rgb(255, 255, 255); stroke-opacity: 1; stroke-width: 1px;\"/></g></g><g class=\"zerolinelayer\"><path class=\"yzl zl crisp\" transform=\"translate(0,370)\" d=\"M80,0h540\" style=\"stroke: rgb(255, 255, 255); stroke-opacity: 1; stroke-width: 2px;\"/></g><path class=\"xlines-below\"/><path class=\"ylines-below\"/><g class=\"overlines-below\"/><g class=\"xaxislayer-below\"/><g class=\"yaxislayer-below\"/><g class=\"overaxes-below\"/><g class=\"plot\" transform=\"translate(80, 60)\" clip-path=\"url('#clip505c7bxyplot')\"><g class=\"barlayer mlayer\"><g class=\"trace bars\" style=\"opacity: 1;\"><g class=\"points\"><g class=\"point\"><path d=\"M27,310V310H243V310Z\" style=\"vector-effect: non-scaling-stroke; opacity: 1; stroke-width: 0.5px; fill: rgb(99, 110, 250); fill-opacity: 1; stroke: rgb(229, 236, 246); stroke-opacity: 1;\"/></g><g class=\"point\"><path d=\"M297,310V15.5H513V310Z\" style=\"vector-effect: non-scaling-stroke; opacity: 1; stroke-width: 0.5px; fill: rgb(99, 110, 250); fill-opacity: 1; stroke: rgb(229, 236, 246); stroke-opacity: 1;\"/></g></g></g></g></g><g class=\"overplot\"/><path class=\"xlines-above crisp\" d=\"M0,0\" style=\"fill: none;\"/><path class=\"ylines-above crisp\" d=\"M0,0\" style=\"fill: none;\"/><g class=\"overlines-above\"/><g class=\"xaxislayer-above\"><g class=\"xtick\"><text text-anchor=\"middle\" x=\"0\" y=\"389\" transform=\"translate(215,0)\" style=\"font-family: 'Courier New', monospace; font-size: 18px; fill: rgb(42, 63, 95); fill-opacity: 1; white-space: pre;\">Title</text></g><g class=\"xtick\"><text text-anchor=\"middle\" x=\"0\" y=\"389\" transform=\"translate(485,0)\" style=\"font-family: 'Courier New', monospace; font-size: 18px; fill: rgb(42, 63, 95); fill-opacity: 1; white-space: pre;\">Description</text></g></g><g class=\"yaxislayer-above\"><g class=\"ytick\"><text text-anchor=\"end\" x=\"79\" y=\"6.3\" transform=\"translate(0,370)\" style=\"font-family: 'Courier New', monospace; font-size: 18px; fill: rgb(42, 63, 95); fill-opacity: 1; white-space: pre;\">0</text></g><g class=\"ytick\"><text text-anchor=\"end\" x=\"79\" y=\"6.3\" transform=\"translate(0,299.88)\" style=\"font-family: 'Courier New', monospace; font-size: 18px; fill: rgb(42, 63, 95); fill-opacity: 1; white-space: pre;\">100</text></g><g class=\"ytick\"><text text-anchor=\"end\" x=\"79\" y=\"6.3\" transform=\"translate(0,229.76)\" style=\"font-family: 'Courier New', monospace; font-size: 18px; fill: rgb(42, 63, 95); fill-opacity: 1; white-space: pre;\">200</text></g><g class=\"ytick\"><text text-anchor=\"end\" x=\"79\" y=\"6.3\" transform=\"translate(0,159.64)\" style=\"font-family: 'Courier New', monospace; font-size: 18px; fill: rgb(42, 63, 95); fill-opacity: 1; white-space: pre;\">300</text></g><g class=\"ytick\"><text text-anchor=\"end\" x=\"79\" y=\"6.3\" transform=\"translate(0,89.52)\" style=\"font-family: 'Courier New', monospace; font-size: 18px; fill: rgb(42, 63, 95); fill-opacity: 1; white-space: pre;\">400</text></g></g><g class=\"overaxes-above\"/></g></g><g class=\"polarlayer\"/><g class=\"ternarylayer\"/><g class=\"geolayer\"/><g class=\"funnelarealayer\"/><g class=\"pielayer\"/><g class=\"treemaplayer\"/><g class=\"sunburstlayer\"/><g class=\"glimages\"/><defs id=\"topdefs-505c7b\"><g class=\"clips\"/></defs><g class=\"layer-above\"><g class=\"imagelayer\"/><g class=\"shapelayer\"/></g><g class=\"infolayer\"><g class=\"g-gtitle\"><text class=\"gtitle\" x=\"35\" y=\"30\" text-anchor=\"start\" dy=\"0em\" style=\"font-family: 'Courier New', monospace; font-size: 25px; fill: rgb(42, 63, 95); opacity: 1; font-weight: normal; white-space: pre;\">Missing Records in Title and Description Columns</text></g><g class=\"g-xtitle\"><text class=\"xtitle\" x=\"350\" y=\"424.4\" text-anchor=\"middle\" style=\"font-family: 'Courier New', monospace; font-size: 22px; fill: rgb(42, 63, 95); opacity: 1; font-weight: normal; white-space: pre;\">Text Columns</text></g><g class=\"g-ytitle\" transform=\"translate(1.806640625,0)\"><text class=\"ytitle\" transform=\"rotate(-90,16.19375,215)\" x=\"16.19375\" y=\"215\" text-anchor=\"middle\" style=\"font-family: 'Courier New', monospace; font-size: 22px; fill: rgb(42, 63, 95); opacity: 1; font-weight: normal; white-space: pre;\">Missing Records</text></g></g></svg>"
      ]
     },
     "metadata": {},
     "output_type": "display_data"
    }
   ],
   "source": [
    "#Checking Null Values and creating bool series True for NaN values  \n",
    "bool_series_title = pd.isnull(dataset[\"TestCaseTitle\"])  \n",
    "bool_series_description = pd.isnull(dataset[\"TestCaseDescription\"])  \n",
    "\n",
    "#Creating Data Dictonary for Missing Values\n",
    "missingvalues_dict={'Title':len(dataset[bool_series_title].index),'Description':len(dataset[bool_series_description].index)}\n",
    "#Converting Data Dictionary into Series\n",
    "missingvalues_series=pd.Series(missingvalues_dict) \n",
    "\n",
    "#Visualizing missing values\n",
    "fig = px.bar(missingvalues_series, y=missingvalues_series.values, x=missingvalues_series.index)\n",
    "# Change the bar mode\n",
    "fig.update_layout(\n",
    "    title=\" Missing Records in Title and Description Columns \",\n",
    "    xaxis_title=\"Text Columns\",\n",
    "    yaxis_title=\"Missing Records\",   \n",
    "    font=dict(\n",
    "        family=\"Courier New, monospace\",\n",
    "        size=18,\n",
    "    )\n",
    ")\n",
    "fig.update_layout()\n",
    "fig.show(\"svg\")"
   ]
  },
  {
   "cell_type": "markdown",
   "metadata": {},
   "source": [
    "There are no empty records in Test Case Title but same is not true for Description , majority of the description is empty. \n",
    "\n",
    "Moreover , if we take a closer look in Title then we can say that it consist of summary of a test case which itself is a good information to select or unselect the test case. With this information we can drop 'Test Case Description' from our list.\n",
    "\n",
    "Our Textual feature list for analysis will be reduced to following\n",
    "\n",
    "<ol>\n",
    "    <li><b>Test Case Title</b></li>\n",
    "    <li><b>Bug Description</b></li>\n",
    "</ol>\n",
    "\n",
    "'Test Case Title' should be primary entry point for test cases selection as it give summary/intention behind the test case and this makes perfect choice for Test Case Selection\n",
    "\n",
    "We have already concluded that 'Any Defect' column has direct relation with test case selection and if 'Any Defect' column has a value then corresponding 'Bug Description' should be there. With this co relation we can say that this column should be there in our feature list but in our data set only few entries are there fo 'Bug Description' , so we can skip this column also from our list"
   ]
  },
  {
   "cell_type": "code",
   "execution_count": 220,
   "metadata": {},
   "outputs": [
    {
     "data": {
      "text/markdown": [
       "**Number of records with bug descriptions are 21**"
      ],
      "text/plain": [
       "<IPython.core.display.Markdown object>"
      ]
     },
     "metadata": {},
     "output_type": "display_data"
    }
   ],
   "source": [
    "printmd(\"**Number of records with bug descriptions are {}**\".format(len(dataset[pd.notnull(dataset[\"Bug Description\"])].index)))"
   ]
  },
  {
   "cell_type": "code",
   "execution_count": 221,
   "metadata": {},
   "outputs": [
    {
     "data": {
      "text/html": [
       "<div>\n",
       "<style scoped>\n",
       "    .dataframe tbody tr th:only-of-type {\n",
       "        vertical-align: middle;\n",
       "    }\n",
       "\n",
       "    .dataframe tbody tr th {\n",
       "        vertical-align: top;\n",
       "    }\n",
       "\n",
       "    .dataframe thead th {\n",
       "        text-align: right;\n",
       "    }\n",
       "</style>\n",
       "<table border=\"1\" class=\"dataframe\">\n",
       "  <thead>\n",
       "    <tr style=\"text-align: right;\">\n",
       "      <th></th>\n",
       "      <th>Id</th>\n",
       "      <th>ReleaseID</th>\n",
       "      <th>Type of Test Case</th>\n",
       "      <th>TestCaseTitle</th>\n",
       "      <th>Error Prone Test Cases</th>\n",
       "      <th>Automation Status</th>\n",
       "      <th>Any Defect</th>\n",
       "      <th>Target</th>\n",
       "    </tr>\n",
       "  </thead>\n",
       "  <tbody>\n",
       "    <tr>\n",
       "      <th>0</th>\n",
       "      <td>1</td>\n",
       "      <td>R20.2.1</td>\n",
       "      <td>Sanity</td>\n",
       "      <td>Get the short and detailed health status APIs</td>\n",
       "      <td>No</td>\n",
       "      <td>Yes</td>\n",
       "      <td>Yes</td>\n",
       "      <td>1</td>\n",
       "    </tr>\n",
       "    <tr>\n",
       "      <th>1</th>\n",
       "      <td>2</td>\n",
       "      <td>R20.2.1</td>\n",
       "      <td>Sanity</td>\n",
       "      <td>Get the AuthZ service metadata</td>\n",
       "      <td>No</td>\n",
       "      <td>Yes</td>\n",
       "      <td>Yes</td>\n",
       "      <td>1</td>\n",
       "    </tr>\n",
       "    <tr>\n",
       "      <th>2</th>\n",
       "      <td>3</td>\n",
       "      <td>R20.2.1</td>\n",
       "      <td>Sanity</td>\n",
       "      <td>Get the public keys for validating token</td>\n",
       "      <td>No</td>\n",
       "      <td>Yes</td>\n",
       "      <td>Yes</td>\n",
       "      <td>1</td>\n",
       "    </tr>\n",
       "    <tr>\n",
       "      <th>3</th>\n",
       "      <td>4</td>\n",
       "      <td>R20.2.1</td>\n",
       "      <td>API/Functionality</td>\n",
       "      <td>Verify Client delegation API: Exchange Access ...</td>\n",
       "      <td>Yes</td>\n",
       "      <td>Yes</td>\n",
       "      <td>No</td>\n",
       "      <td>1</td>\n",
       "    </tr>\n",
       "    <tr>\n",
       "      <th>4</th>\n",
       "      <td>5</td>\n",
       "      <td>R20.2.1</td>\n",
       "      <td>API/Functionality</td>\n",
       "      <td>Verify Client delegation API:Exchange Access t...</td>\n",
       "      <td>No</td>\n",
       "      <td>Yes</td>\n",
       "      <td>No</td>\n",
       "      <td>1</td>\n",
       "    </tr>\n",
       "  </tbody>\n",
       "</table>\n",
       "</div>"
      ],
      "text/plain": [
       "   Id ReleaseID  Type of Test Case  \\\n",
       "0   1   R20.2.1             Sanity   \n",
       "1   2   R20.2.1             Sanity   \n",
       "2   3   R20.2.1             Sanity   \n",
       "3   4   R20.2.1  API/Functionality   \n",
       "4   5   R20.2.1  API/Functionality   \n",
       "\n",
       "                                       TestCaseTitle Error Prone Test Cases  \\\n",
       "0      Get the short and detailed health status APIs                     No   \n",
       "1                     Get the AuthZ service metadata                     No   \n",
       "2           Get the public keys for validating token                     No   \n",
       "3  Verify Client delegation API: Exchange Access ...                    Yes   \n",
       "4  Verify Client delegation API:Exchange Access t...                     No   \n",
       "\n",
       "  Automation Status Any Defect  Target  \n",
       "0               Yes        Yes       1  \n",
       "1               Yes        Yes       1  \n",
       "2               Yes        Yes       1  \n",
       "3               Yes         No       1  \n",
       "4               Yes         No       1  "
      ]
     },
     "execution_count": 221,
     "metadata": {},
     "output_type": "execute_result"
    }
   ],
   "source": [
    "#Drop not required column\n",
    "dataset=dataset.drop(['TestCaseDescription','GIT Commit Message','JIRA Bug ID','Bug Description'],axis=1)\n",
    "dataset.head()"
   ]
  },
  {
   "cell_type": "markdown",
   "metadata": {},
   "source": [
    "Now, we have **one** text column and **five** categorical columns and based on our analysis we can say that all of these are related to selection of test cases i.e. related to 'Target' variable. \n",
    "\n",
    "We can freeze above list of features for training classifier models , But before that we need to convert all categorical variables to **encoded variables** form and text columns into sparse matrix for features"
   ]
  },
  {
   "cell_type": "code",
   "execution_count": 222,
   "metadata": {},
   "outputs": [
    {
     "data": {
      "text/html": [
       "<div>\n",
       "<style scoped>\n",
       "    .dataframe tbody tr th:only-of-type {\n",
       "        vertical-align: middle;\n",
       "    }\n",
       "\n",
       "    .dataframe tbody tr th {\n",
       "        vertical-align: top;\n",
       "    }\n",
       "\n",
       "    .dataframe thead th {\n",
       "        text-align: right;\n",
       "    }\n",
       "</style>\n",
       "<table border=\"1\" class=\"dataframe\">\n",
       "  <thead>\n",
       "    <tr style=\"text-align: right;\">\n",
       "      <th></th>\n",
       "      <th>Id</th>\n",
       "      <th>ReleaseID</th>\n",
       "      <th>Type of Test Case</th>\n",
       "      <th>TestCaseTitle</th>\n",
       "      <th>Error Prone Test Cases</th>\n",
       "      <th>Automation Status</th>\n",
       "      <th>Any Defect</th>\n",
       "      <th>Target</th>\n",
       "    </tr>\n",
       "  </thead>\n",
       "  <tbody>\n",
       "    <tr>\n",
       "      <th>0</th>\n",
       "      <td>1</td>\n",
       "      <td>3</td>\n",
       "      <td>2</td>\n",
       "      <td>Get the short and detailed health status APIs</td>\n",
       "      <td>0</td>\n",
       "      <td>1</td>\n",
       "      <td>1</td>\n",
       "      <td>1</td>\n",
       "    </tr>\n",
       "    <tr>\n",
       "      <th>1</th>\n",
       "      <td>2</td>\n",
       "      <td>3</td>\n",
       "      <td>2</td>\n",
       "      <td>Get the AuthZ service metadata</td>\n",
       "      <td>0</td>\n",
       "      <td>1</td>\n",
       "      <td>1</td>\n",
       "      <td>1</td>\n",
       "    </tr>\n",
       "    <tr>\n",
       "      <th>2</th>\n",
       "      <td>3</td>\n",
       "      <td>3</td>\n",
       "      <td>2</td>\n",
       "      <td>Get the public keys for validating token</td>\n",
       "      <td>0</td>\n",
       "      <td>1</td>\n",
       "      <td>1</td>\n",
       "      <td>1</td>\n",
       "    </tr>\n",
       "    <tr>\n",
       "      <th>3</th>\n",
       "      <td>4</td>\n",
       "      <td>3</td>\n",
       "      <td>0</td>\n",
       "      <td>Verify Client delegation API: Exchange Access ...</td>\n",
       "      <td>1</td>\n",
       "      <td>1</td>\n",
       "      <td>0</td>\n",
       "      <td>1</td>\n",
       "    </tr>\n",
       "    <tr>\n",
       "      <th>4</th>\n",
       "      <td>5</td>\n",
       "      <td>3</td>\n",
       "      <td>0</td>\n",
       "      <td>Verify Client delegation API:Exchange Access t...</td>\n",
       "      <td>0</td>\n",
       "      <td>1</td>\n",
       "      <td>0</td>\n",
       "      <td>1</td>\n",
       "    </tr>\n",
       "  </tbody>\n",
       "</table>\n",
       "</div>"
      ],
      "text/plain": [
       "   Id  ReleaseID  Type of Test Case  \\\n",
       "0   1          3                  2   \n",
       "1   2          3                  2   \n",
       "2   3          3                  2   \n",
       "3   4          3                  0   \n",
       "4   5          3                  0   \n",
       "\n",
       "                                       TestCaseTitle  Error Prone Test Cases  \\\n",
       "0      Get the short and detailed health status APIs                       0   \n",
       "1                     Get the AuthZ service metadata                       0   \n",
       "2           Get the public keys for validating token                       0   \n",
       "3  Verify Client delegation API: Exchange Access ...                       1   \n",
       "4  Verify Client delegation API:Exchange Access t...                       0   \n",
       "\n",
       "   Automation Status  Any Defect  Target  \n",
       "0                  1           1       1  \n",
       "1                  1           1       1  \n",
       "2                  1           1       1  \n",
       "3                  1           0       1  \n",
       "4                  1           0       1  "
      ]
     },
     "execution_count": 222,
     "metadata": {},
     "output_type": "execute_result"
    }
   ],
   "source": [
    "#Encoding all categorical variable\n",
    "from sklearn.preprocessing import LabelEncoder, OneHotEncoder\n",
    "labelencoder = LabelEncoder()\n",
    "dataset['ReleaseID']=labelencoder.fit_transform(dataset['ReleaseID'])\n",
    "dataset['Error Prone Test Cases']=labelencoder.fit_transform(dataset['Error Prone Test Cases'])\n",
    "dataset['Type of Test Case']=labelencoder.fit_transform(dataset['Type of Test Case'])\n",
    "dataset['Automation Status']=labelencoder.fit_transform(dataset['Automation Status'])\n",
    "dataset['Any Defect']=labelencoder.fit_transform(dataset['Any Defect'])\n",
    "dataset.head()"
   ]
  },
  {
   "cell_type": "markdown",
   "metadata": {},
   "source": [
    "With this all categorical columns are encoded into numerical values. Now , let's deal with our only Text column i.e. 'TestCaseTitle'.\n",
    "\n",
    "For this we will apply **Natural Language Processing** (NLP) to convert text data into features for classifier model\n",
    "\n",
    "Let's create Corpus from 'TestCaseTitle' , **Corpus** is a simplified version of our test case title data that contain clean text data.\n",
    "\n",
    "To create Corpus we have to perform the following actions\n",
    "\n",
    "<ol>\n",
    "    <li><b>Remove unwanted words</b>: Removal of unwanted words such as <a>special characters</a> and <a>numbers</a> to get only pure text. We will do it by specify our pattern using re library</li>\n",
    "    <li><b>Transform words to lowercase</b>: Transform words to lowercase because upper and lower case have diffirent <a>ASCII</a> codes</li>\n",
    "    <li><b>Remove stopwords</b>:Stop words are usually the most common words in a language and they will be irrelevant in determining the nature</li>\n",
    "    <li><b>Stemming words</b>:Stemming is the process of reducing words to their word stem, base or root form. We use stemming to reduce Bag of Words dimensionality</li>\n",
    "</ol>"
   ]
  },
  {
   "cell_type": "code",
   "execution_count": 197,
   "metadata": {},
   "outputs": [
    {
     "data": {
      "text/markdown": [
       "**Corpus created successfully**"
      ],
      "text/plain": [
       "<IPython.core.display.Markdown object>"
      ]
     },
     "metadata": {},
     "output_type": "display_data"
    }
   ],
   "source": [
    "#Importing required libraries\n",
    "import re\n",
    "import nltk\n",
    "from nltk.corpus import stopwords\n",
    "from nltk.stem.porter import PorterStemmer\n",
    "corpus_title = []\n",
    "pstem = PorterStemmer()\n",
    "for i in range(dataset['TestCaseTitle'].shape[0]):\n",
    "    #Remove unwanted words\n",
    "    text = re.sub(\"[^a-zA-Z]\", ' ', dataset['TestCaseTitle'][i])\n",
    "    #Transform words to lowercase\n",
    "    text = text.lower()\n",
    "    text = text.split()\n",
    "    #Remove stopwords then Stemming it\n",
    "    text = [pstem.stem(word) for word in text if not word in set(stopwords.words('english'))]\n",
    "    text = ' '.join(text)\n",
    "    #Append cleaned tweet to corpus\n",
    "    corpus_title.append(text)\n",
    "    \n",
    "printmd(\"**Corpus created successfully**\") "
   ]
  },
  {
   "cell_type": "markdown",
   "metadata": {},
   "source": [
    "From above Corpus we will create **Bag of Words**  , which is representation of text that describes the occurrence of words within a document. It involves two things:\n",
    "\n",
    "* A vocabulary of known words\n",
    "* A measure of the presence of known words\n",
    "\n",
    "This is called Bag of Word because any information about the order or structure of words in the document is discarded and the model is only concerned with whether the known words occur in the document, not where they occur in the document.\n",
    "\n",
    "For Example : \n",
    "\n",
    "<img src=\"images/BagOfWord.png\">\n",
    "\n",
    "\n",
    "\n",
    "We can do this using scikit-learn's **CountVectorizer**, where every row will represent a different test case and every column will represent a different word.\n",
    "\n",
    "Countvectorizer converts a collection of text documents to a matrix of token counts. It is important to note here that CountVectorizer comes with a lot of options to automatically do preprocessing, tokenization, and stop word removal.However, i did all the process manually above to just get a better understanding. "
   ]
  },
  {
   "cell_type": "code",
   "execution_count": 224,
   "metadata": {
    "scrolled": true
   },
   "outputs": [
    {
     "data": {
      "text/markdown": [
       "**Dimension for Text features are (664, 115)**"
      ],
      "text/plain": [
       "<IPython.core.display.Markdown object>"
      ]
     },
     "metadata": {},
     "output_type": "display_data"
    }
   ],
   "source": [
    "# Creating the Bag of Words model\n",
    "from sklearn.feature_extraction.text import CountVectorizer\n",
    "cv = CountVectorizer()\n",
    "text_vectors= cv.fit_transform(corpus_title).toarray()\n",
    "\n",
    "#Convert text vectors into data frame\n",
    "text_vectors_df=pd.DataFrame(text_vectors)\n",
    "printmd(\"**Dimension for Text features are {}**\".format(text_vectors_df.shape))"
   ]
  },
  {
   "cell_type": "code",
   "execution_count": 199,
   "metadata": {},
   "outputs": [
    {
     "data": {
      "text/markdown": [
       "**Dimension for features data frame are (664, 121)**"
      ],
      "text/plain": [
       "<IPython.core.display.Markdown object>"
      ]
     },
     "metadata": {},
     "output_type": "display_data"
    }
   ],
   "source": [
    "#Getting Target variable into Y variable\n",
    "y=dataset[['Target']].values\n",
    "#Converting 2 dimensional y and y_pred array into single dimension\n",
    "y=y.ravel()\n",
    "\n",
    "#Removing 'Target' and 'TestCaseTitle' columns from actual dataset\n",
    "dataset=dataset.drop(['Target','TestCaseTitle'],axis=1)\n",
    "\n",
    "#Creating new data frame with all categorical feature and Text features for training classifier models\n",
    "X=pd.concat([dataset,text_vectors_df],axis=1).values\n",
    "printmd(\"**Dimension for features data frame are {}**\".format(X.shape))\n",
    "#X.head()"
   ]
  },
  {
   "cell_type": "markdown",
   "metadata": {},
   "source": [
    "With this we have completed our  EDA and Feature Engineering , let's start with classifier models creation"
   ]
  },
  {
   "cell_type": "markdown",
   "metadata": {},
   "source": [
    "# Learning and Classification\n",
    "\n",
    "Now we will build our models, for current data set we are using follwoing models\n",
    "\n",
    "* Logistic Regression Model\n",
    "* Gaussian Naive Bayes Model\n",
    "* Multinomial Naive Bayes Model\n",
    "\n",
    "If we have large data set we can use following models but for current data set we are avoiding them\n",
    "\n",
    "* Decision Tree Model\n",
    "* Gradient Boosting Model\n",
    "* K - Nearest Neighbors Model"
   ]
  },
  {
   "cell_type": "code",
   "execution_count": 200,
   "metadata": {},
   "outputs": [],
   "source": [
    "# Splitting the dataset into the Training set and Test set\n",
    "from sklearn.model_selection import train_test_split\n",
    "X_train, X_test, y_train, y_test = train_test_split(X, y, test_size = 0.20, random_state = 0)"
   ]
  },
  {
   "cell_type": "markdown",
   "metadata": {},
   "source": [
    "## Logistic Regression Model"
   ]
  },
  {
   "cell_type": "code",
   "execution_count": 201,
   "metadata": {},
   "outputs": [],
   "source": [
    "# Fitting Logistic Regression to the Training set\n",
    "from sklearn.linear_model import LogisticRegression\n",
    "from sklearn.metrics import confusion_matrix\n",
    "classifier_lr = LogisticRegression(solver='liblinear')\n",
    "classifier_lr.fit(X_train,y_train)\n",
    "# Predicting the Test set results\n",
    "y_pred_lr = classifier_lr.predict(X_test)\n",
    "# Making the Confusion Matrix\n",
    "cm_lr = confusion_matrix(y_test, y_pred_lr)"
   ]
  },
  {
   "cell_type": "markdown",
   "metadata": {},
   "source": [
    "## Gaussian Naive Bayes Model"
   ]
  },
  {
   "cell_type": "code",
   "execution_count": 202,
   "metadata": {},
   "outputs": [],
   "source": [
    "from sklearn.naive_bayes import GaussianNB\n",
    "\n",
    "from sklearn.metrics import f1_score\n",
    "\n",
    "# Fitting Gausian to the Training set\n",
    "classifier_gnb = GaussianNB()\n",
    "classifier_gnb.fit(X_train, y_train)\n",
    "# Predicting the Test set results\n",
    "y_pred_gnb = classifier_gnb.predict(X_test)\n",
    "# Making the Confusion Matrix\n",
    "cm_gnb = confusion_matrix(y_test, y_pred_gnb)"
   ]
  },
  {
   "cell_type": "markdown",
   "metadata": {},
   "source": [
    "## Multinomial Naive Bayes Model"
   ]
  },
  {
   "cell_type": "code",
   "execution_count": 203,
   "metadata": {},
   "outputs": [],
   "source": [
    "from sklearn.naive_bayes import MultinomialNB\n",
    "# Fitting Naive Bayes to the Training set\n",
    "classifier_nb = MultinomialNB(alpha=0.1)\n",
    "classifier_nb.fit(X_train, y_train)\n",
    "# Predicting the Test set results\n",
    "y_pred_nb = classifier_gnb.predict(X_test)\n",
    "# Making the Confusion Matrix\n",
    "cm_nb = confusion_matrix(y_test, y_pred_nb)"
   ]
  },
  {
   "cell_type": "markdown",
   "metadata": {},
   "source": [
    "## Model Evaluation"
   ]
  },
  {
   "cell_type": "markdown",
   "metadata": {},
   "source": [
    "We will evaluate model based on confusion matrix , which is formed from the four outcomes produced as a result of binary classification\n",
    "\n",
    "A binary classifier predicts all data instances of a test dataset as either positive or negative. This classification (or prediction) produces four outcomes – true positive, true negative, false positive and false negative.\n",
    "\n",
    "* True positive (TP): correct positive prediction\n",
    "* False positive (FP): incorrect positive prediction\n",
    "* True negative (TN): correct negative prediction\n",
    "* False negative (FN): incorrect negative prediction\n",
    "\n",
    "<img src=\"images/ConfusionMatrix.png\">"
   ]
  },
  {
   "cell_type": "markdown",
   "metadata": {},
   "source": [
    "## Confusion matrix\n",
    "A confusion matrix of binary classification is a two by two table formed by counting of the number of the four outcomes of a binary classifier. We usually denote them as TP, FP, TN, and FN instead of “the number of true positives”, and so on\n",
    "\n",
    "<img src=\"images/ConfusionMatrixTable.png\">"
   ]
  },
  {
   "cell_type": "markdown",
   "metadata": {},
   "source": [
    "## Error Rate\n",
    "\n",
    "Error rate (ERR) is calculated as the number of all incorrect predictions divided by the total number of the dataset. The best error rate is 0.0, whereas the worst is 1.0\n",
    "\n",
    "<img src=\"images/ErrorRate.png\">"
   ]
  },
  {
   "cell_type": "markdown",
   "metadata": {},
   "source": [
    "## Accuracy\n",
    "Accuracy (ACC) is calculated as the number of all correct predictions divided by the total number of the dataset. The best accuracy is 1.0, whereas the worst is 0.0. It can also be calculated by 1 – ERR\n",
    "\n",
    "<img src=\"images/AccuracyRate.png\">"
   ]
  },
  {
   "cell_type": "markdown",
   "metadata": {},
   "source": [
    "## F1 Score"
   ]
  },
  {
   "cell_type": "markdown",
   "metadata": {},
   "source": [
    "<img src=\"images/F1Score.png\">"
   ]
  },
  {
   "cell_type": "code",
   "execution_count": 204,
   "metadata": {
    "scrolled": true
   },
   "outputs": [
    {
     "data": {
      "text/markdown": [
       "**Regression Classifier Accuracy Score is 0.9020715630885122 for Train Data Set**"
      ],
      "text/plain": [
       "<IPython.core.display.Markdown object>"
      ]
     },
     "metadata": {},
     "output_type": "display_data"
    },
    {
     "data": {
      "text/markdown": [
       "**Regression Classifier Accuracy Score is 0.8421052631578947 for Test Data Set**"
      ],
      "text/plain": [
       "<IPython.core.display.Markdown object>"
      ]
     },
     "metadata": {},
     "output_type": "display_data"
    },
    {
     "data": {
      "text/markdown": [
       "**Regression Classifier F1 Score is 0.6865671641791046**"
      ],
      "text/plain": [
       "<IPython.core.display.Markdown object>"
      ]
     },
     "metadata": {},
     "output_type": "display_data"
    },
    {
     "data": {
      "text/markdown": [
       "**Confusion Matrix for Regression Classifer [[89 10]\n",
       " [11 23]]**"
      ],
      "text/plain": [
       "<IPython.core.display.Markdown object>"
      ]
     },
     "metadata": {},
     "output_type": "display_data"
    },
    {
     "data": {
      "text/markdown": [
       "**--------------------------------------------------------------------------------**"
      ],
      "text/plain": [
       "<IPython.core.display.Markdown object>"
      ]
     },
     "metadata": {},
     "output_type": "display_data"
    },
    {
     "data": {
      "text/markdown": [
       "**GaussianNB Classifier Accuracy Score is 0.8041431261770244 for Train Data Set**"
      ],
      "text/plain": [
       "<IPython.core.display.Markdown object>"
      ]
     },
     "metadata": {},
     "output_type": "display_data"
    },
    {
     "data": {
      "text/markdown": [
       "**GaussianNB Classifier Accuracy Score is 0.7819548872180451 for Test Data Set**"
      ],
      "text/plain": [
       "<IPython.core.display.Markdown object>"
      ]
     },
     "metadata": {},
     "output_type": "display_data"
    },
    {
     "data": {
      "text/markdown": [
       "**GaussianNB Classifier F1 Score is 0.7010309278350516**"
      ],
      "text/plain": [
       "<IPython.core.display.Markdown object>"
      ]
     },
     "metadata": {},
     "output_type": "display_data"
    },
    {
     "data": {
      "text/markdown": [
       "**Confusion Matrix for GaussianNB Classifer [[70 29]\n",
       " [ 0 34]]**"
      ],
      "text/plain": [
       "<IPython.core.display.Markdown object>"
      ]
     },
     "metadata": {},
     "output_type": "display_data"
    },
    {
     "data": {
      "text/markdown": [
       "**--------------------------------------------------------------------------------**"
      ],
      "text/plain": [
       "<IPython.core.display.Markdown object>"
      ]
     },
     "metadata": {},
     "output_type": "display_data"
    },
    {
     "data": {
      "text/markdown": [
       "**MultinomialNB Classifier Accuracy Score is 0.8757062146892656 for Train Data Set**"
      ],
      "text/plain": [
       "<IPython.core.display.Markdown object>"
      ]
     },
     "metadata": {},
     "output_type": "display_data"
    },
    {
     "data": {
      "text/markdown": [
       "**MultinomialNB Classifier Accuracy Score is 0.8421052631578947 for Test Data Set**"
      ],
      "text/plain": [
       "<IPython.core.display.Markdown object>"
      ]
     },
     "metadata": {},
     "output_type": "display_data"
    },
    {
     "data": {
      "text/markdown": [
       "**MultinomialNB Classifier F1 Score is 0.7010309278350516**"
      ],
      "text/plain": [
       "<IPython.core.display.Markdown object>"
      ]
     },
     "metadata": {},
     "output_type": "display_data"
    },
    {
     "data": {
      "text/markdown": [
       "**Confusion Matrix for MultinomialNB Classifer [[70 29]\n",
       " [ 0 34]]**"
      ],
      "text/plain": [
       "<IPython.core.display.Markdown object>"
      ]
     },
     "metadata": {},
     "output_type": "display_data"
    }
   ],
   "source": [
    "#Calculating Model Accuracy\n",
    "printmd('**Regression Classifier Accuracy Score is {} for Train Data Set**'.format(classifier_lr.score(X_train, y_train)))\n",
    "printmd('**Regression Classifier Accuracy Score is {} for Test Data Set**'.format(classifier_lr.score(X_test, y_test)))\n",
    "printmd('**Regression Classifier F1 Score is {}**'.format(f1_score(y_test, y_pred_lr)))\n",
    "printmd('**Confusion Matrix for Regression Classifer {}**'.format(cm_lr))\n",
    "printmd('**--------------------------------------------------------------------------------**')\n",
    "printmd('**GaussianNB Classifier Accuracy Score is {} for Train Data Set**'.format(classifier_gnb.score(X_train, y_train)))\n",
    "printmd('**GaussianNB Classifier Accuracy Score is {} for Test Data Set**'.format(classifier_gnb.score(X_test, y_test)))\n",
    "printmd('**GaussianNB Classifier F1 Score is {}**'.format(f1_score(y_test, y_pred_gnb)))\n",
    "printmd('**Confusion Matrix for GaussianNB Classifer {}**'.format(cm_gnb))\n",
    "printmd('**--------------------------------------------------------------------------------**')\n",
    "printmd('**MultinomialNB Classifier Accuracy Score is {} for Train Data Set**'.format(classifier_nb.score(X_train, y_train)))\n",
    "printmd('**MultinomialNB Classifier Accuracy Score is {} for Test Data Set**'.format(classifier_nb.score(X_test, y_test)))\n",
    "printmd('**MultinomialNB Classifier F1 Score is {}**'.format(f1_score(y_test, y_pred_nb)))\n",
    "printmd('**Confusion Matrix for MultinomialNB Classifer {}**'.format(cm_nb))\n"
   ]
  },
  {
   "cell_type": "markdown",
   "metadata": {},
   "source": [
    "# Last Word !!"
   ]
  },
  {
   "cell_type": "markdown",
   "metadata": {},
   "source": [
    "* Prediction could be improved if we have large data set , becuase then we can apply models like **Decision Tree Model ,Gradient Boosting Model** and **K-Nearest Neighbors Model** . We have checked these models for larger data set and prediction was pretty good\n",
    "* Training data can be increase by adding more releases data\n",
    "* Above approach can be used as a reference for similar problem statement\n",
    "> **To convert this code into utility for test case selection in upcoming releases , data has to be captured in above format i.e. all mentioned fetaures has to be there along with test cases**"
   ]
  }
 ],
 "metadata": {
  "kernelspec": {
   "display_name": "Python 3",
   "language": "python",
   "name": "python3"
  },
  "language_info": {
   "codemirror_mode": {
    "name": "ipython",
    "version": 3
   },
   "file_extension": ".py",
   "mimetype": "text/x-python",
   "name": "python",
   "nbconvert_exporter": "python",
   "pygments_lexer": "ipython3",
   "version": "3.7.4"
  }
 },
 "nbformat": 4,
 "nbformat_minor": 2
}
